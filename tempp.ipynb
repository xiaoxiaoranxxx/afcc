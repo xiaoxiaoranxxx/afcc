{
 "cells": [
  {
   "cell_type": "code",
   "execution_count": 67,
   "metadata": {},
   "outputs": [
    {
     "name": "stdout",
     "output_type": "stream",
     "text": [
      "b'xiaoxiaoran_zuixiu_xiuxiu'\n"
     ]
    }
   ],
   "source": [
    "import base64\n",
    "import base58\n",
    "\n",
    "str=\"xiaoxiaoran_zuixiu_xiuxiu\".encode(\"utf-8\")\n",
    "print(str)"
   ]
  },
  {
   "cell_type": "code",
   "execution_count": 68,
   "metadata": {},
   "outputs": [
    {
     "name": "stdout",
     "output_type": "stream",
     "text": [
      "b'eGlhb3hpYW9yYW5fenVpeGl1X3hpdXhpdQ=='\n",
      "b'xiaoxiaoran_zuixiu_xiuxiu'\n"
     ]
    }
   ],
   "source": [
    "print(base64.b64encode(str))\n",
    "print(base64.b64decode(\"eGlhb3hpYW9yYW5fenVpeGl1X3hpdXhpdQ==\"))"
   ]
  },
  {
   "cell_type": "code",
   "execution_count": 69,
   "metadata": {},
   "outputs": [
    {
     "name": "stdout",
     "output_type": "stream",
     "text": [
      "b'cxhp8cxhp8a$#;?dUa`dX?0(CX?1vMbp'\n",
      "b'xiaoxiaoran_zuixiu_xiuxiu'\n"
     ]
    }
   ],
   "source": [
    "print(base64.b85encode(str))\n",
    "print(base64.b85decode(\"cxhp8cxhp8a$#;?dUa`dX?0(CX?1vMbp\"))"
   ]
  },
  {
   "cell_type": "code",
   "execution_count": 70,
   "metadata": {},
   "outputs": [
    {
     "name": "stdout",
     "output_type": "stream",
     "text": [
      "b'qTAaq76dZkM3qrv2ci6tDMooBQz1GP5tQt'\n",
      "b'xiaoxiaoran_zuixiu_xiuxiu'\n"
     ]
    }
   ],
   "source": [
    "print(base58.b58encode(str))\n",
    "print(base58.b58decode(\"qTAaq76dZkM3qrv2ci6tDMooBQz1GP5tQt\"))"
   ]
  },
  {
   "cell_type": "code",
   "execution_count": 71,
   "metadata": {},
   "outputs": [
    {
     "name": "stdout",
     "output_type": "stream",
     "text": [
      "b'PBUWC33YNFQW64TBNZPXU5LJPBUXKX3YNF2XQ2LV'\n",
      "b'xiaoxiaoran_zuixiu_xiuxiu'\n"
     ]
    }
   ],
   "source": [
    "print(base64.b32encode(str))\n",
    "print(base64.b32decode(\"PBUWC33YNFQW64TBNZPXU5LJPBUXKX3YNF2XQ2LV\"))"
   ]
  },
  {
   "cell_type": "code",
   "execution_count": 72,
   "metadata": {},
   "outputs": [
    {
     "name": "stdout",
     "output_type": "stream",
     "text": [
      "b'7869616F7869616F72616E5F7A75697869755F786975786975'\n",
      "b'xiaoxiaoran_zuixiu_xiuxiu'\n"
     ]
    }
   ],
   "source": [
    "print(base64.b16encode(str))\n",
    "print(base64.b16decode(\"7869616F7869616F72616E5F7A75697869755F786975786975\"))"
   ]
  }
 ],
 "metadata": {
  "interpreter": {
   "hash": "011df132264cb47676c8d4afd1c0458709012355175816406934bfb611210107"
  },
  "kernelspec": {
   "display_name": "Python 3.8.10 64-bit (windows store)",
   "language": "python",
   "name": "python3"
  },
  "language_info": {
   "codemirror_mode": {
    "name": "ipython",
    "version": 3
   },
   "file_extension": ".py",
   "mimetype": "text/x-python",
   "name": "python",
   "nbconvert_exporter": "python",
   "pygments_lexer": "ipython3",
   "version": "3.8.10"
  },
  "orig_nbformat": 4
 },
 "nbformat": 4,
 "nbformat_minor": 2
}
