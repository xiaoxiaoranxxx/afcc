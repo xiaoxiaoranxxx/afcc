{
 "cells": [
  {
   "cell_type": "code",
   "execution_count": 163,
   "metadata": {},
   "outputs": [],
   "source": [
    "from Crypto.Util.number import getStrongPrime\n",
    "from gmpy2 import next_prime\n",
    "from random import getrandbits"
   ]
  },
  {
   "cell_type": "code",
   "execution_count": 164,
   "metadata": {},
   "outputs": [],
   "source": [
    "# q=next_prime(p^((1<<900)-1)^getrandbits(300))\n",
    "# n=p*q\n",
    "# e=65537"
   ]
  },
  {
   "cell_type": "code",
   "execution_count": 165,
   "metadata": {},
   "outputs": [
    {
     "name": "stdout",
     "output_type": "stream",
     "text": [
      "157156750212862985405355528539725863368886668136180262003097438521435370526942306256047967435950567642803742106296336172310943447521003199452116457390567805911373496875169944438236245977957895956544894880601536669731365588327845323038847047711246831429675819375556285303673347672180017824912003802805571331991\n"
     ]
    }
   ],
   "source": [
    "p = getStrongPrime(1024)\n",
    "print(p)\n"
   ]
  },
  {
   "cell_type": "code",
   "execution_count": 166,
   "metadata": {},
   "outputs": [
    {
     "name": "stdout",
     "output_type": "stream",
     "text": [
      "157156750212862985405355528539725863373699235745347884249009688184856061583375709588968109284876769816239379821759686724099882441381032315699465317397295778185190400026966112360422963526557516235285437314157458539107720810387507348481659887222726487961106226098597010726821575522158533249723525708451838954449\n"
     ]
    }
   ],
   "source": [
    "q=next_prime(p ^ ((1 << 900)-1) ^ getrandbits(300))\n",
    "print(q)"
   ]
  },
  {
   "cell_type": "code",
   "execution_count": 167,
   "metadata": {},
   "outputs": [
    {
     "name": "stdout",
     "output_type": "stream",
     "text": [
      "-4812567609167622245912249663420691056433403332920141848926202173435637715463350551788938993860029116247348860006727972273816903151796167922186717548599620278740542433555921869376355222059662025442812839511479656531430406723040725423148227849978515424811521905646267622458\n"
     ]
    }
   ],
   "source": [
    "print(p-q)"
   ]
  },
  {
   "cell_type": "code",
   "execution_count": null,
   "metadata": {},
   "outputs": [],
   "source": []
  }
 ],
 "metadata": {
  "interpreter": {
   "hash": "011df132264cb47676c8d4afd1c0458709012355175816406934bfb611210107"
  },
  "kernelspec": {
   "display_name": "Python 3.8.10 64-bit (windows store)",
   "language": "python",
   "name": "python3"
  },
  "language_info": {
   "codemirror_mode": {
    "name": "ipython",
    "version": 3
   },
   "file_extension": ".py",
   "mimetype": "text/x-python",
   "name": "python",
   "nbconvert_exporter": "python",
   "pygments_lexer": "ipython3",
   "version": "3.8.10"
  },
  "orig_nbformat": 4
 },
 "nbformat": 4,
 "nbformat_minor": 2
}
