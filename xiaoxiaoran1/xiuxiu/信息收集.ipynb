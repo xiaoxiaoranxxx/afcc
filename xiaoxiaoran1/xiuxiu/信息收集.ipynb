{
 "cells": [
  {
   "cell_type": "markdown",
   "source": [
    "# 被动信息搜集\r\n"
   ],
   "metadata": {}
  },
  {
   "cell_type": "markdown",
   "source": [
    "## IP查询"
   ],
   "metadata": {}
  },
  {
   "cell_type": "code",
   "execution_count": 3,
   "source": [
    "import socket \r\n",
    "ip = socket.gethostbyname('www.github.com') \r\n",
    "print(ip)"
   ],
   "outputs": [
    {
     "output_type": "stream",
     "name": "stdout",
     "text": [
      "13.250.177.223\n"
     ]
    }
   ],
   "metadata": {}
  },
  {
   "cell_type": "markdown",
   "source": [
    "## Whois查询"
   ],
   "metadata": {}
  },
  {
   "cell_type": "code",
   "execution_count": 5,
   "source": [
    "from whois import whois\r\n",
    "data = whois('www.xiaoxiaoran.com') \r\n",
    "print(data)"
   ],
   "outputs": [
    {
     "output_type": "stream",
     "name": "stdout",
     "text": [
      "{\n",
      "  \"domain_name\": [\n",
      "    \"XIAOXIAORAN.COM\",\n",
      "    \"xiaoxiaoran.com\"\n",
      "  ],\n",
      "  \"registrar\": \"DNSPod, Inc.\",\n",
      "  \"whois_server\": \"whois.dnspod.com\",\n",
      "  \"referral_url\": null,\n",
      "  \"updated_date\": [\n",
      "    \"2019-10-22 06:32:53\",\n",
      "    \"2021-08-13 14:08:55\"\n",
      "  ],\n",
      "  \"creation_date\": \"2019-10-22 06:15:53\",\n",
      "  \"expiration_date\": \"2022-10-22 06:15:53\",\n",
      "  \"name_servers\": [\n",
      "    \"F1G1NS1.DNSPOD.NET\",\n",
      "    \"F1G1NS2.DNSPOD.NET\",\n",
      "    \"f1g1ns1.dnspod.net\",\n",
      "    \"f1g1ns2.dnspod.net\"\n",
      "  ],\n",
      "  \"status\": [\n",
      "    \"ok https://icann.org/epp#ok\",\n",
      "    \"ok https://www.icann.org/epp#ok\"\n",
      "  ],\n",
      "  \"emails\": \"abuse@dnspod.com\",\n",
      "  \"dnssec\": \"unsigned\",\n",
      "  \"name\": \"REDACTED FOR PRIVACY\",\n",
      "  \"org\": \"REDACTED FOR PRIVACY\",\n",
      "  \"address\": \"REDACTED FOR PRIVACY\",\n",
      "  \"city\": \"REDACTED FOR PRIVACY\",\n",
      "  \"state\": \"guang dong sheng\",\n",
      "  \"zipcode\": \"REDACTED FOR PRIVACY\",\n",
      "  \"country\": \"CN\"\n",
      "}\n"
     ]
    }
   ],
   "metadata": {}
  },
  {
   "cell_type": "markdown",
   "source": [
    "## 子域名挖掘"
   ],
   "metadata": {}
  },
  {
   "cell_type": "code",
   "execution_count": 1,
   "source": [
    "# 过Bing搜索引擎（网址为https: // cn.bing.com /）进行子域名搜集\r\n",
    "# python temp.py www.zhihu.com 1\r\n",
    "\r\n",
    "import requests\r\n",
    "from bs4 import BeautifulSoup \r\n",
    "from urllib.parse import urlparse \r\n",
    "import sys \r\n",
    "\r\n",
    "def bing_search(site, pages): \r\n",
    "    Subdomain = [] \r\n",
    "    headers = {'User-Agent': 'Mozilla/5.0 (X11; Linux x86_64; rv:60.0) Gecko/ 20100101 Firefox/60.0', 'Accept': '*/*', 'Accept-Language': 'en-US,en;q=0.5', 'Accept-Encoding': 'gzip,deflate', 'referer': \"http://cn.bing.com/search?q=email+site%3abaidu. com&qs=n&sp=-1&pq=emailsite%3abaidu.com&first=2&FORM=PERE1\" } \r\n",
    "    for i in range(1,int(pages)+1): \r\n",
    "        url = \"https://cn.bing.com/search?q=site%3a\"+site+\"&go=Search&qs=ds&first=\"+ str((int(i)-1)*10) +\"&FORM=PERE\" \r\n",
    "        conn = requests.session() \r\n",
    "        conn.get('http://cn.bing.com', headers=headers) \r\n",
    "        html = conn.get(url, stream=True, headers=headers, timeout=8) \r\n",
    "        soup = BeautifulSoup(html.content, 'html.parser') \r\n",
    "        job_bt = soup.findAll('h2') \r\n",
    "        for i in job_bt: \r\n",
    "            link = i.a.get('href') \r\n",
    "            domain = str(urlparse(link).scheme + \"://\" + urlparse(link).netloc) \r\n",
    "            if domain in Subdomain: \r\n",
    "                pass \r\n",
    "            else:\r\n",
    "                Subdomain.append(domain) \r\n",
    "                print(domain) \r\n",
    "if __name__ == '__main__': \r\n",
    "    # site=baidu.com \r\n",
    "    if len(sys.argv) == 3: \r\n",
    "        site = sys.argv[1] \r\n",
    "        page = sys.argv[2] \r\n",
    "    else:\r\n",
    "        print (\"usage: %s baidu.com 10\" % sys.argv[0]) \r\n",
    "        sys.exit(-1) \r\n",
    "    Subdomain = bing_search(site, page)\r\n"
   ],
   "outputs": [
    {
     "output_type": "stream",
     "name": "stdout",
     "text": [
      "usage: C:\\Users\\Administrator\\AppData\\Roaming\\Python\\Python36\\site-packages\\ipykernel_launcher.py baidu.com 10\n"
     ]
    },
    {
     "output_type": "error",
     "ename": "SystemExit",
     "evalue": "-1",
     "traceback": [
      "An exception has occurred, use %tb to see the full traceback.\n",
      "\u001b[1;31mSystemExit\u001b[0m\u001b[1;31m:\u001b[0m -1\n"
     ]
    },
    {
     "output_type": "stream",
     "name": "stderr",
     "text": [
      "C:\\Users\\Administrator\\AppData\\Roaming\\Python\\Python36\\site-packages\\IPython\\core\\interactiveshell.py:3351: UserWarning: To exit: use 'exit', 'quit', or Ctrl-D.\n",
      "  warn(\"To exit: use 'exit', 'quit', or Ctrl-D.\", stacklevel=1)\n"
     ]
    }
   ],
   "metadata": {}
  },
  {
   "cell_type": "code",
   "execution_count": null,
   "source": [],
   "outputs": [],
   "metadata": {}
  }
 ],
 "metadata": {
  "orig_nbformat": 4,
  "language_info": {
   "name": "python",
   "version": "3.6.5",
   "mimetype": "text/x-python",
   "codemirror_mode": {
    "name": "ipython",
    "version": 3
   },
   "pygments_lexer": "ipython3",
   "nbconvert_exporter": "python",
   "file_extension": ".py"
  },
  "kernelspec": {
   "name": "python3",
   "display_name": "Python 3.6.5 64-bit"
  },
  "interpreter": {
   "hash": "f794c57ac12a691c59266ecaadb6a5e7aa7da75beb81664e7b61736c07e9b51b"
  }
 },
 "nbformat": 4,
 "nbformat_minor": 2
}