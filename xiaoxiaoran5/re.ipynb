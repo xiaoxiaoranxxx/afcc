{
 "cells": [
  {
   "cell_type": "code",
   "execution_count": 57,
   "metadata": {},
   "outputs": [],
   "source": [
    "import re"
   ]
  },
  {
   "cell_type": "markdown",
   "metadata": {},
   "source": [
    "## re.compile(pattern, flags=0)\n",
    "> 将正则表达式的样式编译为一个 正则表达式对象 \n",
    "### 简单案例"
   ]
  },
  {
   "cell_type": "code",
   "execution_count": 58,
   "metadata": {},
   "outputs": [
    {
     "name": "stdout",
     "output_type": "stream",
     "text": [
      "None\n",
      "123W\n",
      "(0, 4)\n",
      "0\n",
      "4\n",
      "123WWqw4wweEEd\n"
     ]
    }
   ],
   "source": [
    "s=\"123WWqw4wweEEd\"\n",
    "r=re.compile(r'1\\d+w')\n",
    "print(r.match(s))\n",
    "r=re.compile(r'1\\d+w',flags=re.I)\n",
    "print(r.match(s).group())  # 返回匹配的字符串部分\n",
    "print(r.match(s).span())  # 返回包含匹配的开始和结束位置的元组。\n",
    "print(r.match(s).start())\n",
    "print(r.match(s).end())  \n",
    "print(r.match(s).string)  # 返回传递给函数的字符串"
   ]
  },
  {
   "cell_type": "markdown",
   "metadata": {},
   "source": [
    "### 验证IP"
   ]
  },
  {
   "cell_type": "code",
   "execution_count": 59,
   "metadata": {},
   "outputs": [
    {
     "name": "stdout",
     "output_type": "stream",
     "text": [
      "<re.Match object; span=(0, 13), match='192.168.100.1'>\n",
      "None\n",
      "None\n"
     ]
    }
   ],
   "source": [
    "r = re.compile(r'^(25[0-5]|2[0-4][0-9]|[0-1]{1}[0-9]{2}|[1-9]{1}[0-9]{1}|[1-9])\\.(25[0-5]|2[0-4][0-9]|[0-1]{1}[0-9]{2}|[1-9]{1}[0-9]{1}|[1-9]|0)\\.(25[0-5]|2[0-4][0-9]|[0-1]{1}[0-9]{2}|[1-9]{1}[0-9]{1}|[1-9]|0)\\.(25[0-5]|2[0-4][0-9]|[0-1]{1}[0-9]{2}|[1-9]{1}[0-9]{1}|[0-9])$')\n",
    "print(r.match(\"192.168.100.1\"))\n",
    "print(r.match(\"192.168.1009.111\"))\n",
    "print(r.match(\"192.168.100.256\"))"
   ]
  },
  {
   "cell_type": "markdown",
   "metadata": {},
   "source": [
    "## re.search(pattern, string, flags=0) \n",
    "> 扫描整个 字符串 找到匹配样式的第一个位置，并返回一个相应的 匹配对象。\n",
    "### 简单案例"
   ]
  },
  {
   "cell_type": "code",
   "execution_count": 60,
   "metadata": {},
   "outputs": [
    {
     "name": "stdout",
     "output_type": "stream",
     "text": [
      "{'province': '110', 'city': '223', 'born_year': '1990'}\n",
      "223\n",
      "1102231990\n",
      "110\n",
      "<re.Match object; span=(0, 1), match='1'>\n",
      "None\n",
      "<re.Match object; span=(15, 16), match=' '>\n"
     ]
    }
   ],
   "source": [
    "s = '1102231990xxxxx xxx'\n",
    "res = re.search('(?P<province>\\d{3})(?P<city>\\d{3})(?P<born_year>\\d{4})', s)\n",
    "print(res.groupdict())\n",
    "print(res.group('city'))\n",
    "print(res.group())\n",
    "print(res.group(1))\n",
    "\n",
    "print(re.search(\"\\w\",s))\n",
    "print(re.search(\"\\b\",s))\n",
    "print(re.search(\"\\s\",s))"
   ]
  },
  {
   "cell_type": "markdown",
   "metadata": {},
   "source": [
    "### 匹配标签"
   ]
  },
  {
   "cell_type": "code",
   "execution_count": 61,
   "metadata": {},
   "outputs": [
    {
     "name": "stdout",
     "output_type": "stream",
     "text": [
      "div\n",
      "<div>hello</div>\n",
      "h1\n",
      "hello\n"
     ]
    }
   ],
   "source": [
    "r = re.search(\"<(?P<tag_name>\\w+)>(\\w+)</(?P=tag_name)>\", \"<div>hello</div>\")\n",
    "print(r.group('tag_name'))\n",
    "print(r.group())\n",
    "r = re.search(r\"<(\\w+)>(\\w+)</\\1>\", \"<h1>hello</h1>\")   # 可以用\\序号来找到对应的组\n",
    "print(r.group(1))\n",
    "print(r.group(2))"
   ]
  },
  {
   "cell_type": "code",
   "execution_count": 62,
   "metadata": {},
   "outputs": [
    {
     "name": "stdout",
     "output_type": "stream",
     "text": [
      "None\n"
     ]
    }
   ],
   "source": [
    "r=re.search(r\"/^<([a-z]+)([^<]+)*(?:>(.*)<\\/\\1>|\\s+\\/>)$/\",'<div clall=\"11\">hello</div>')\n",
    "print(r)"
   ]
  },
  {
   "cell_type": "markdown",
   "metadata": {},
   "source": [
    "## re.match(pattern, string, flags=0)\n",
    "> 如果整个 string 匹配到正则表达式样式，就返回一个相应的 匹配对象\n",
    "### 简单案例"
   ]
  },
  {
   "cell_type": "code",
   "execution_count": 63,
   "metadata": {},
   "outputs": [
    {
     "name": "stdout",
     "output_type": "stream",
     "text": [
      "<re.Match object; span=(0, 2), match='12'>\n",
      "None\n"
     ]
    }
   ],
   "source": [
    "print(re.match(r'\\d+','12'))\n",
    "print(re.match(r'\\d+','w12'))"
   ]
  },
  {
   "cell_type": "markdown",
   "metadata": {},
   "source": [
    "### 匹配时间"
   ]
  },
  {
   "cell_type": "code",
   "execution_count": 64,
   "metadata": {},
   "outputs": [
    {
     "name": "stdout",
     "output_type": "stream",
     "text": [
      "yes\n",
      "11:24:59\n",
      "('11', '24', '59')\n"
     ]
    }
   ],
   "source": [
    "result = re.match(r'^(0[0-9]|1[0-9]|2[0-3]|[0-9])\\:([0-5]?[0-9])\\:([0-5]?[0-9])$', '11:24:59')\n",
    "print(\"yes\") if result else print(\"no\")\n",
    "print(result.group())\n",
    "print(result.groups())"
   ]
  },
  {
   "cell_type": "markdown",
   "metadata": {},
   "source": [
    "### 匹配邮箱"
   ]
  },
  {
   "cell_type": "code",
   "execution_count": 65,
   "metadata": {},
   "outputs": [
    {
     "name": "stdout",
     "output_type": "stream",
     "text": [
      "yes\n"
     ]
    }
   ],
   "source": [
    "email = 'X242599999jack3@xiaoxiaoran.com'\n",
    "pattern = r'^[a-zA-Z]\\w+@xiaoxiaoran.com$'\n",
    "result = re.match(pattern, email)\n",
    "print(\"yes\") if result else print(\"no\")"
   ]
  },
  {
   "cell_type": "markdown",
   "metadata": {},
   "source": [
    "### 匹配url"
   ]
  },
  {
   "cell_type": "code",
   "execution_count": 66,
   "metadata": {},
   "outputs": [
    {
     "name": "stdout",
     "output_type": "stream",
     "text": [
      "yes\n"
     ]
    }
   ],
   "source": [
    "url=\"http://xiaoxiaoran.top\"\n",
    "pattern=r'(http|https)://\\S+'\n",
    "result=re.match(pattern,url)\n",
    "print(\"yes\") if result else print(\"no\")"
   ]
  },
  {
   "cell_type": "markdown",
   "metadata": {},
   "source": [
    "## search() vs. match()\n",
    "> 基于 re.match() 检查字符串开头，或者 re.search() 检查字符串的任意位置"
   ]
  },
  {
   "cell_type": "code",
   "execution_count": 67,
   "metadata": {},
   "outputs": [
    {
     "name": "stdout",
     "output_type": "stream",
     "text": [
      "None\n",
      "<re.Match object; span=(2, 3), match='c'>\n"
     ]
    }
   ],
   "source": [
    "print(re.match(r\"c\",\"abc\"))\n",
    "print(re.search(r\"c\",\"abc\"))"
   ]
  },
  {
   "cell_type": "markdown",
   "metadata": {},
   "source": [
    "## re.fullmatch(pattern, string, flags=0)\n",
    "> 如果整个 string 匹配到正则表达式样式，就返回一个相应的 匹配对象 "
   ]
  },
  {
   "cell_type": "code",
   "execution_count": 68,
   "metadata": {},
   "outputs": [
    {
     "name": "stdout",
     "output_type": "stream",
     "text": [
      "<re.Match object; span=(0, 6), match='<>1111'>\n",
      "None\n"
     ]
    }
   ],
   "source": [
    "print(re.fullmatch(r'<>1\\d+','<>1111'))\n",
    "print(re.fullmatch(r'<>1\\d+','<>1111w'))"
   ]
  },
  {
   "cell_type": "markdown",
   "metadata": {},
   "source": [
    "### 匹配汉字"
   ]
  },
  {
   "cell_type": "code",
   "execution_count": 69,
   "metadata": {},
   "outputs": [
    {
     "name": "stdout",
     "output_type": "stream",
     "text": [
      "<re.Match object; span=(0, 3), match='肖萧然'>\n",
      "None\n"
     ]
    }
   ],
   "source": [
    "print(re.fullmatch(r'^[\\u4e00-\\u9fa5]{0,}$', \"肖萧然\"))\n",
    "print(re.fullmatch(r'^[\\u4e00-\\u9fa5]{0,}$',\"1w\"))"
   ]
  },
  {
   "cell_type": "markdown",
   "metadata": {},
   "source": [
    "### 匹配密码  \n",
    "> 由数字/大写字母/小写字母/标点符号组成，四种都必有，8位以上)"
   ]
  },
  {
   "cell_type": "code",
   "execution_count": 70,
   "metadata": {},
   "outputs": [
    {
     "name": "stdout",
     "output_type": "stream",
     "text": [
      "<re.Match object; span=(0, 10), match='@xX2345678'>\n"
     ]
    }
   ],
   "source": [
    "print(re.fullmatch(r'(?=^.{8,}$)(?=.*\\d)(?=.*\\W+)(?=.*[A-Z])(?=.*[a-z])(?!.*\\n).*$',\"@xX2345678\"))"
   ]
  },
  {
   "cell_type": "markdown",
   "metadata": {},
   "source": [
    "## re.split(pattern, string, maxsplit=0, flags=0)\n",
    "> 用 pattern 分开 string 。 如果在 pattern 中捕获到括号，那么所有的组里的文字也会包含在列表里\n",
    "### 简单案例"
   ]
  },
  {
   "cell_type": "code",
   "execution_count": 71,
   "metadata": {},
   "outputs": [
    {
     "name": "stdout",
     "output_type": "stream",
     "text": [
      "['w', 'm', 'n', 'j', '']\n",
      "['w', 'm', 'n2j32']\n",
      "['w', 'm', 'n', 'j', '']\n"
     ]
    }
   ],
   "source": [
    "print(re.split(r'\\d+','w1m2n2j32'))\n",
    "print(re.split(r'\\d+', 'w1m2n2j32', maxsplit=2))\n",
    "print(re.split(r'\\d+', 'w1m2n2j32', flags=re.IGNORECASE))"
   ]
  },
  {
   "cell_type": "markdown",
   "metadata": {},
   "source": [
    "## re.findall(pattern, string, flags=0)\n",
    ">返回string中模式的所有非重叠匹配，作为字符串或元组的列表。从左到右扫描字符串，并按找到的顺序返回匹配项。"
   ]
  },
  {
   "cell_type": "code",
   "execution_count": 72,
   "metadata": {},
   "outputs": [
    {
     "name": "stdout",
     "output_type": "stream",
     "text": [
      "['frr', 'fee', 'fww']\n",
      "[('width', '20'), ('height', '10')]\n",
      "['f', 'f', 'f', 'f', 'f']\n",
      "[]\n"
     ]
    }
   ],
   "source": [
    "print(re.findall(r'\\bf[a-z]*',\"frr efdd fee fww123\"))\n",
    "print(re.findall(r'(\\w+)=(\\d+)', 'set width=20 and height=10'))\n",
    "print(re.findall(r\"f\",\"fjfjfjfjfj\"))\n",
    "print(re.findall(r\"f666\",\"fjfjfjfjfj\"))"
   ]
  },
  {
   "cell_type": "markdown",
   "metadata": {},
   "source": [
    "### 匹配数字"
   ]
  },
  {
   "cell_type": "code",
   "execution_count": 73,
   "metadata": {},
   "outputs": [
    {
     "name": "stdout",
     "output_type": "stream",
     "text": [
      "['1', '2', '60', '-40.35', '5', '4', '3']\n",
      "['-', '*', '+', '-', '/', '-', '-', '*']\n"
     ]
    }
   ],
   "source": [
    "print(re.findall(r\"-?\\d+\\.\\d+|\\d+\", \"1-2*(60+(-40.35/5)-(-4*3))\"))\n",
    "print(re.findall(r\"[+,*,/,-]\", \"1-2*(60+(-40.35/5)-(-4*3))\"))"
   ]
  },
  {
   "cell_type": "markdown",
   "metadata": {},
   "source": [
    "## re.sub(pattern, repl, string, count=0, flags=0)\n",
    "> 返回通过使用 repl 替换在 string 最左边非重叠出现的 pattern 而获得的字符串。 如果样式没有找到，则不加改变地返回 string。"
   ]
  },
  {
   "cell_type": "code",
   "execution_count": 74,
   "metadata": {},
   "outputs": [
    {
     "name": "stdout",
     "output_type": "stream",
     "text": [
      "(っ °Д °;)っwe(っ °Д °;)っ(っ °Д °;)っwe(っ °Д °;)っ(っ °Д °;)っewew(っ °Д °;)っw\n",
      " we  we  ewew w\n",
      "(っ °Д °;)っwe23we23ewew3w\n",
      "-we-3we23ewew3w\n"
     ]
    }
   ],
   "source": [
    "str=\"1we23we23ewew3w\"\n",
    "print(re.sub(\"\\d\", \"(っ °Д °;)っ\", str)) \n",
    "print(re.sub(\"\\d\", \" \", str)) \n",
    "print(re.sub(\"\\d\", \"(っ °Д °;)っ\", str, 1))\n",
    "print(re.sub(\"\\d\", \"-\", str, 2))"
   ]
  },
  {
   "cell_type": "markdown",
   "metadata": {},
   "source": [
    "### 截取标签"
   ]
  },
  {
   "cell_type": "code",
   "execution_count": 75,
   "metadata": {},
   "outputs": [
    {
     "name": "stdout",
     "output_type": "stream",
     "text": [
      "正则表达式练习\n"
     ]
    }
   ],
   "source": [
    "s = \"<div class='a'>正则<span>表达式</span><b style='color:red'>练习</b></div>\"\n",
    "ret = re.sub(r'(</?div.*?>|</?b.*?>|</?span>)', '', s)\n",
    "print(ret)"
   ]
  },
  {
   "cell_type": "markdown",
   "metadata": {},
   "source": [
    "## re.escape(pattern)\n",
    "> 转义 pattern 中的特殊字符。"
   ]
  },
  {
   "cell_type": "code",
   "execution_count": 76,
   "metadata": {},
   "outputs": [
    {
     "name": "stdout",
     "output_type": "stream",
     "text": [
      "abcdefghijklmnopqrstuvwxyz0123456789!\\#\\$%\\&'\\*\\+\\-\\.\\^_`\\|\\~:\n"
     ]
    }
   ],
   "source": [
    "import string\n",
    "print(re.escape(string.ascii_lowercase + string.digits + \"!#$%&'*+-.^_`|~:\"))"
   ]
  },
  {
   "cell_type": "code",
   "execution_count": null,
   "metadata": {},
   "outputs": [],
   "source": []
  }
 ],
 "metadata": {
  "interpreter": {
   "hash": "011df132264cb47676c8d4afd1c0458709012355175816406934bfb611210107"
  },
  "kernelspec": {
   "display_name": "Python 3.8.10 64-bit (windows store)",
   "language": "python",
   "name": "python3"
  },
  "language_info": {
   "codemirror_mode": {
    "name": "ipython",
    "version": 3
   },
   "file_extension": ".py",
   "mimetype": "text/x-python",
   "name": "python",
   "nbconvert_exporter": "python",
   "pygments_lexer": "ipython3",
   "version": "3.8.10"
  },
  "orig_nbformat": 4
 },
 "nbformat": 4,
 "nbformat_minor": 2
}
