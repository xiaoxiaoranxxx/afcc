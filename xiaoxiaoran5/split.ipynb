{
 "cells": [
  {
   "cell_type": "code",
   "execution_count": 2,
   "metadata": {},
   "outputs": [
    {
     "name": "stdout",
     "output_type": "stream",
     "text": [
      "security"
     ]
    }
   ],
   "source": [
    "str = '''\n",
    "3\tc\n",
    "2\te\n",
    "6\ti\n",
    "5\tr\n",
    "1\ts\n",
    "7\tt\n",
    "4\tu\n",
    "8\ty\n",
    "'''\n",
    "d = {}\n",
    "for i in str.strip().split('\\n'):\n",
    "    l = i.split()\n",
    "    d[int(l[0])] = l[1]\n",
    "\n",
    "for i in sorted(d.keys()):\n",
    "    print(d[i], end=\"\")\n"
   ]
  },
  {
   "cell_type": "code",
   "execution_count": 4,
   "metadata": {},
   "outputs": [
    {
     "name": "stdout",
     "output_type": "stream",
     "text": [
      "emails\n",
      "referers\n",
      "uagents\n",
      "users\n"
     ]
    }
   ],
   "source": [
    "str = '''\n",
    "0\t1\te\n",
    "0\t2\tm\n",
    "2\t5\tn\n",
    "2\t6\tt\n",
    "2\t7\ts\n",
    "3\t1\tu\n",
    "3\t2\ts\n",
    "3\t3\te\n",
    "0\t3\ta\n",
    "0\t4\ti\n",
    "0\t5\tl\n",
    "0\t6\ts\n",
    "1\t1\tr\n",
    "3\t4\tr\n",
    "3\t5\ts\n",
    "1\t2\te\n",
    "1\t3\tf\n",
    "1\t4\te\n",
    "1\t5\tr\n",
    "1\t6\te\n",
    "1\t7\tr\n",
    "1\t8\ts\n",
    "2\t1\tu\n",
    "2\t2\ta\n",
    "2\t3\tg\n",
    "2\t4\te\n",
    "'''\n",
    "d = {}\n",
    "l = []\n",
    "for i in str.strip().split('\\n'):\n",
    "    l.append(i.split())\n",
    "\n",
    "for j in range(0, 4):\n",
    "    for i in l:\n",
    "        if(int(i[0]) == j):\n",
    "            d[int(i[1])] = i[2]\n",
    "    for ii in sorted(d.keys()):\n",
    "        print(d[ii], end=\"\")\n",
    "    print()\n",
    "    d = {}"
   ]
  },
  {
   "cell_type": "code",
   "execution_count": null,
   "metadata": {},
   "outputs": [],
   "source": []
  }
 ],
 "metadata": {
  "interpreter": {
   "hash": "011df132264cb47676c8d4afd1c0458709012355175816406934bfb611210107"
  },
  "kernelspec": {
   "display_name": "Python 3.8.10 64-bit (windows store)",
   "language": "python",
   "name": "python3"
  },
  "language_info": {
   "codemirror_mode": {
    "name": "ipython",
    "version": 3
   },
   "file_extension": ".py",
   "mimetype": "text/x-python",
   "name": "python",
   "nbconvert_exporter": "python",
   "pygments_lexer": "ipython3",
   "version": "3.8.10"
  },
  "orig_nbformat": 4
 },
 "nbformat": 4,
 "nbformat_minor": 2
}
