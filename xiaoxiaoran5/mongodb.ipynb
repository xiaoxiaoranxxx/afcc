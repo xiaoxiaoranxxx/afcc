{
 "cells": [
  {
   "cell_type": "markdown",
   "metadata": {},
   "source": [
    "mongodb连接"
   ]
  },
  {
   "cell_type": "code",
   "execution_count": 178,
   "metadata": {},
   "outputs": [],
   "source": [
    "from pymongo import MongoClient\n",
    "client = MongoClient(\"127.0.0.1\", 27017)\n",
    "db = client.xiaoxiaoran\n",
    "xiao1 = db.xiao1"
   ]
  },
  {
   "cell_type": "markdown",
   "metadata": {},
   "source": [
    "案例数据"
   ]
  },
  {
   "cell_type": "code",
   "execution_count": 179,
   "metadata": {},
   "outputs": [
    {
     "name": "stdout",
     "output_type": "stream",
     "text": [
      "{'0': '0', '1': '1', '2': '4', '3': '9', '4': '16', '5': '25', '6': '36', '7': '49', '8': '64', '9': '81', '10': '100', '11': '121', '12': '144', '13': '169', '14': '196', '15': '225', '16': '256', '17': '289', '18': '324', '19': '361', '20': '400', '21': '441', '22': '484', '23': '529', '24': '576', '25': '625', '26': '676', '27': '729', '28': '784', '29': '841', '30': '900', '31': '961', '32': '1024', '33': '1089', '34': '1156', '35': '1225', '36': '1296', '37': '1369', '38': '1444', '39': '1521', '40': '1600', '41': '1681', '42': '1764', '43': '1849', '44': '1936', '45': '2025', '46': '2116', '47': '2209', '48': '2304', '49': '2401'}\n"
     ]
    }
   ],
   "source": [
    "data={str(i):str(j*j) for i,j in zip(range(50),range(50))}\n",
    "print(data)"
   ]
  },
  {
   "cell_type": "markdown",
   "metadata": {},
   "source": [
    "插入单个数据"
   ]
  },
  {
   "cell_type": "code",
   "execution_count": 180,
   "metadata": {},
   "outputs": [
    {
     "name": "stdout",
     "output_type": "stream",
     "text": [
      "61e03081fee2405cd4bbc23d\n"
     ]
    }
   ],
   "source": [
    "x=xiao1.insert_one(data)\n",
    "print(x.inserted_id)"
   ]
  },
  {
   "cell_type": "markdown",
   "metadata": {},
   "source": [
    "插入多个数据"
   ]
  },
  {
   "cell_type": "code",
   "execution_count": 181,
   "metadata": {},
   "outputs": [
    {
     "name": "stdout",
     "output_type": "stream",
     "text": [
      "[{'name': 'xiaoxiaoran0', 'age': '2'}, {'name': 'xiaoxiaoran1', 'age': '81'}, {'name': 'xiaoxiaoran2', 'age': '35'}, {'name': 'xiaoxiaoran3', 'age': '66'}, {'name': 'xiaoxiaoran4', 'age': '35'}, {'name': 'xiaoxiaoran5', 'age': '69'}, {'name': 'xiaoxiaoran6', 'age': '78'}, {'name': 'xiaoxiaoran7', 'age': '93'}, {'name': 'xiaoxiaoran8', 'age': '49'}, {'name': 'xiaoxiaoran9', 'age': '35'}]\n",
      "[ObjectId('61e03081fee2405cd4bbc23e'), ObjectId('61e03081fee2405cd4bbc23f'), ObjectId('61e03081fee2405cd4bbc240'), ObjectId('61e03081fee2405cd4bbc241'), ObjectId('61e03081fee2405cd4bbc242'), ObjectId('61e03081fee2405cd4bbc243'), ObjectId('61e03081fee2405cd4bbc244'), ObjectId('61e03081fee2405cd4bbc245'), ObjectId('61e03081fee2405cd4bbc246'), ObjectId('61e03081fee2405cd4bbc247')]\n"
     ]
    }
   ],
   "source": [
    "l = [{\"name\":\"xiaoxiaoran\"+str(i),\"age\":str((__import__('random')).randint(1,100)) } for i in range(10)]\n",
    "print(l)\n",
    "x=xiao1.insert_many(l)\n",
    "print(x.inserted_ids)"
   ]
  },
  {
   "cell_type": "markdown",
   "metadata": {},
   "source": [
    "查询第一个数据"
   ]
  },
  {
   "cell_type": "code",
   "execution_count": 182,
   "metadata": {},
   "outputs": [
    {
     "name": "stdout",
     "output_type": "stream",
     "text": [
      "{'_id': ObjectId('61e03081fee2405cd4bbc23d'), '0': '0', '1': '1', '2': '4', '3': '9', '4': '16', '5': '25', '6': '36', '7': '49', '8': '64', '9': '81', '10': '100', '11': '121', '12': '144', '13': '169', '14': '196', '15': '225', '16': '256', '17': '289', '18': '324', '19': '361', '20': '400', '21': '441', '22': '484', '23': '529', '24': '576', '25': '625', '26': '676', '27': '729', '28': '784', '29': '841', '30': '900', '31': '961', '32': '1024', '33': '1089', '34': '1156', '35': '1225', '36': '1296', '37': '1369', '38': '1444', '39': '1521', '40': '1600', '41': '1681', '42': '1764', '43': '1849', '44': '1936', '45': '2025', '46': '2116', '47': '2209', '48': '2304', '49': '2401'}\n",
      "{'_id': ObjectId('61e03081fee2405cd4bbc23d'), '0': '0', '1': '1', '2': '4', '3': '9', '4': '16', '5': '25', '6': '36', '7': '49', '8': '64', '9': '81', '10': '100', '11': '121', '12': '144', '13': '169', '14': '196', '15': '225', '16': '256', '17': '289', '18': '324', '19': '361', '20': '400', '21': '441', '22': '484', '23': '529', '24': '576', '25': '625', '26': '676', '27': '729', '28': '784', '29': '841', '30': '900', '31': '961', '32': '1024', '33': '1089', '34': '1156', '35': '1225', '36': '1296', '37': '1369', '38': '1444', '39': '1521', '40': '1600', '41': '1681', '42': '1764', '43': '1849', '44': '1936', '45': '2025', '46': '2116', '47': '2209', '48': '2304', '49': '2401'}\n"
     ]
    }
   ],
   "source": [
    "print(xiao1.find_one())\n",
    "print(xiao1.find_one())"
   ]
  },
  {
   "cell_type": "markdown",
   "metadata": {},
   "source": [
    "查询所有数据"
   ]
  },
  {
   "cell_type": "code",
   "execution_count": 183,
   "metadata": {},
   "outputs": [
    {
     "name": "stdout",
     "output_type": "stream",
     "text": [
      "{'_id': ObjectId('61e03081fee2405cd4bbc23d'), '0': '0', '1': '1', '2': '4', '3': '9', '4': '16', '5': '25', '6': '36', '7': '49', '8': '64', '9': '81', '10': '100', '11': '121', '12': '144', '13': '169', '14': '196', '15': '225', '16': '256', '17': '289', '18': '324', '19': '361', '20': '400', '21': '441', '22': '484', '23': '529', '24': '576', '25': '625', '26': '676', '27': '729', '28': '784', '29': '841', '30': '900', '31': '961', '32': '1024', '33': '1089', '34': '1156', '35': '1225', '36': '1296', '37': '1369', '38': '1444', '39': '1521', '40': '1600', '41': '1681', '42': '1764', '43': '1849', '44': '1936', '45': '2025', '46': '2116', '47': '2209', '48': '2304', '49': '2401'}\n",
      "{'_id': ObjectId('61e03081fee2405cd4bbc23e'), 'name': 'xiaoxiaoran0', 'age': '2'}\n",
      "{'_id': ObjectId('61e03081fee2405cd4bbc23f'), 'name': 'xiaoxiaoran1', 'age': '81'}\n",
      "{'_id': ObjectId('61e03081fee2405cd4bbc240'), 'name': 'xiaoxiaoran2', 'age': '35'}\n",
      "{'_id': ObjectId('61e03081fee2405cd4bbc241'), 'name': 'xiaoxiaoran3', 'age': '66'}\n",
      "{'_id': ObjectId('61e03081fee2405cd4bbc242'), 'name': 'xiaoxiaoran4', 'age': '35'}\n",
      "{'_id': ObjectId('61e03081fee2405cd4bbc243'), 'name': 'xiaoxiaoran5', 'age': '69'}\n",
      "{'_id': ObjectId('61e03081fee2405cd4bbc244'), 'name': 'xiaoxiaoran6', 'age': '78'}\n",
      "{'_id': ObjectId('61e03081fee2405cd4bbc245'), 'name': 'xiaoxiaoran7', 'age': '93'}\n",
      "{'_id': ObjectId('61e03081fee2405cd4bbc246'), 'name': 'xiaoxiaoran8', 'age': '49'}\n",
      "{'_id': ObjectId('61e03081fee2405cd4bbc247'), 'name': 'xiaoxiaoran9', 'age': '35'}\n"
     ]
    }
   ],
   "source": [
    "for i in xiao1.find():\n",
    "    print(i)"
   ]
  },
  {
   "cell_type": "markdown",
   "metadata": {},
   "source": [
    "投影"
   ]
  },
  {
   "cell_type": "code",
   "execution_count": 184,
   "metadata": {},
   "outputs": [
    {
     "name": "stdout",
     "output_type": "stream",
     "text": [
      "{}\n",
      "{'age': '2'}\n",
      "{'age': '81'}\n",
      "{'age': '35'}\n",
      "{'age': '66'}\n",
      "{'age': '35'}\n",
      "{'age': '69'}\n",
      "{'age': '78'}\n",
      "{'age': '93'}\n",
      "{'age': '49'}\n",
      "{'age': '35'}\n"
     ]
    }
   ],
   "source": [
    "for i in xiao1.find({},{\"_id\":0,\"age\":1}):\n",
    "    print(i)"
   ]
  },
  {
   "cell_type": "markdown",
   "metadata": {},
   "source": [
    "查询指定字典"
   ]
  },
  {
   "cell_type": "code",
   "execution_count": 191,
   "metadata": {},
   "outputs": [
    {
     "name": "stdout",
     "output_type": "stream",
     "text": [
      "{'_id': ObjectId('61e03081fee2405cd4bbc23f'), 'name': 'xiaoxiaoran1', 'age': '81'}\n"
     ]
    }
   ],
   "source": [
    "for i in xiao1.find({\"name\":\"xiaoxiaoran1\"}):\n",
    "    print(i)"
   ]
  },
  {
   "cell_type": "markdown",
   "metadata": {},
   "source": [
    "条件匹配"
   ]
  },
  {
   "cell_type": "code",
   "execution_count": 193,
   "metadata": {},
   "outputs": [
    {
     "name": "stdout",
     "output_type": "stream",
     "text": [
      "{'_id': ObjectId('61e03081fee2405cd4bbc23f'), 'name': 'xiaoxiaoran1', 'age': '81'}\n",
      "{'_id': ObjectId('61e03081fee2405cd4bbc241'), 'name': 'xiaoxiaoran3', 'age': '66'}\n",
      "{'_id': ObjectId('61e03081fee2405cd4bbc243'), 'name': 'xiaoxiaoran5', 'age': '69'}\n",
      "{'_id': ObjectId('61e03081fee2405cd4bbc244'), 'name': 'xiaoxiaoran6', 'age': '78'}\n",
      "{'_id': ObjectId('61e03081fee2405cd4bbc245'), 'name': 'xiaoxiaoran7', 'age': '93'}\n"
     ]
    }
   ],
   "source": [
    "for i in xiao1.find({\"age\": {\"$gt\":\"50\"}}):\n",
    "    print(i)"
   ]
  },
  {
   "cell_type": "markdown",
   "metadata": {},
   "source": [
    "正则匹配"
   ]
  },
  {
   "cell_type": "code",
   "execution_count": 194,
   "metadata": {},
   "outputs": [
    {
     "name": "stdout",
     "output_type": "stream",
     "text": [
      "{'_id': ObjectId('61e03081fee2405cd4bbc23f'), 'name': 'xiaoxiaoran1', 'age': '81'}\n"
     ]
    }
   ],
   "source": [
    "for i in xiao1.find({\"age\": {\"$regex\":\"^8\"}}):\n",
    "    print(i)"
   ]
  },
  {
   "cell_type": "markdown",
   "metadata": {},
   "source": [
    "指定数量"
   ]
  },
  {
   "cell_type": "code",
   "execution_count": 195,
   "metadata": {},
   "outputs": [
    {
     "name": "stdout",
     "output_type": "stream",
     "text": [
      "{'_id': ObjectId('61e03081fee2405cd4bbc23d'), '0': '0', '1': '1', '2': '4', '3': '9', '4': '16', '5': '25', '6': '36', '7': '49', '8': '64', '9': '81', '10': '100', '11': '121', '12': '144', '13': '169', '14': '196', '15': '225', '16': '256', '17': '289', '18': '324', '19': '361', '20': '400', '21': '441', '22': '484', '23': '529', '24': '576', '25': '625', '26': '676', '27': '729', '28': '784', '29': '841', '30': '900', '31': '961', '32': '1024', '33': '1089', '34': '1156', '35': '1225', '36': '1296', '37': '1369', '38': '1444', '39': '1521', '40': '1600', '41': '1681', '42': '1764', '43': '1849', '44': '1936', '45': '2025', '46': '2116', '47': '2209', '48': '2304', '49': '2401'}\n",
      "{'_id': ObjectId('61e03081fee2405cd4bbc23e'), 'name': 'xiaoxiaoran0', 'age': '2'}\n",
      "{'_id': ObjectId('61e03081fee2405cd4bbc23f'), 'name': 'xiaoxiaoran1', 'age': '81'}\n"
     ]
    }
   ],
   "source": [
    "for i in xiao1.find().limit(3):\n",
    "    print(i)"
   ]
  },
  {
   "cell_type": "markdown",
   "metadata": {},
   "source": [
    "替换"
   ]
  },
  {
   "cell_type": "code",
   "execution_count": 197,
   "metadata": {},
   "outputs": [
    {
     "name": "stdout",
     "output_type": "stream",
     "text": [
      "{'_id': ObjectId('61e03081fee2405cd4bbc23f'), 'name': 'xiaoxiaoran1', 'age': '88'}\n"
     ]
    }
   ],
   "source": [
    "xiao1.update_one({'age': '81'}, {\"$set\":{'age':'88'}})\n",
    "for i in xiao1.find({\"age\": {\"$regex\": \"^8\"}}):\n",
    "    print(i)\n",
    "# xiao1.update_many()  全部替换"
   ]
  },
  {
   "cell_type": "markdown",
   "metadata": {},
   "source": [
    "排序"
   ]
  },
  {
   "cell_type": "code",
   "execution_count": 200,
   "metadata": {},
   "outputs": [
    {
     "name": "stdout",
     "output_type": "stream",
     "text": [
      "{'_id': ObjectId('61e03081fee2405cd4bbc245'), 'name': 'xiaoxiaoran7', 'age': '93'}\n",
      "{'_id': ObjectId('61e03081fee2405cd4bbc23f'), 'name': 'xiaoxiaoran1', 'age': '88'}\n",
      "{'_id': ObjectId('61e03081fee2405cd4bbc244'), 'name': 'xiaoxiaoran6', 'age': '78'}\n",
      "{'_id': ObjectId('61e03081fee2405cd4bbc243'), 'name': 'xiaoxiaoran5', 'age': '69'}\n",
      "{'_id': ObjectId('61e03081fee2405cd4bbc241'), 'name': 'xiaoxiaoran3', 'age': '66'}\n",
      "{'_id': ObjectId('61e03081fee2405cd4bbc246'), 'name': 'xiaoxiaoran8', 'age': '49'}\n",
      "{'_id': ObjectId('61e03081fee2405cd4bbc240'), 'name': 'xiaoxiaoran2', 'age': '35'}\n",
      "{'_id': ObjectId('61e03081fee2405cd4bbc242'), 'name': 'xiaoxiaoran4', 'age': '35'}\n",
      "{'_id': ObjectId('61e03081fee2405cd4bbc247'), 'name': 'xiaoxiaoran9', 'age': '35'}\n",
      "{'_id': ObjectId('61e03081fee2405cd4bbc23e'), 'name': 'xiaoxiaoran0', 'age': '2'}\n",
      "{'_id': ObjectId('61e03081fee2405cd4bbc23d'), '0': '0', '1': '1', '2': '4', '3': '9', '4': '16', '5': '25', '6': '36', '7': '49', '8': '64', '9': '81', '10': '100', '11': '121', '12': '144', '13': '169', '14': '196', '15': '225', '16': '256', '17': '289', '18': '324', '19': '361', '20': '400', '21': '441', '22': '484', '23': '529', '24': '576', '25': '625', '26': '676', '27': '729', '28': '784', '29': '841', '30': '900', '31': '961', '32': '1024', '33': '1089', '34': '1156', '35': '1225', '36': '1296', '37': '1369', '38': '1444', '39': '1521', '40': '1600', '41': '1681', '42': '1764', '43': '1849', '44': '1936', '45': '2025', '46': '2116', '47': '2209', '48': '2304', '49': '2401'}\n"
     ]
    }
   ],
   "source": [
    "#for i in xiao1.find().sort('age',-1): 逆序\n",
    "for i in xiao1.find().sort('age'):\n",
    "    print(i)"
   ]
  },
  {
   "cell_type": "markdown",
   "metadata": {},
   "source": [
    "删除"
   ]
  },
  {
   "cell_type": "code",
   "execution_count": 201,
   "metadata": {},
   "outputs": [
    {
     "name": "stdout",
     "output_type": "stream",
     "text": [
      "{'_id': ObjectId('61e03081fee2405cd4bbc23e'), 'name': 'xiaoxiaoran0', 'age': '2'}\n",
      "{'_id': ObjectId('61e03081fee2405cd4bbc23f'), 'name': 'xiaoxiaoran1', 'age': '88'}\n",
      "{'_id': ObjectId('61e03081fee2405cd4bbc240'), 'name': 'xiaoxiaoran2', 'age': '35'}\n"
     ]
    }
   ],
   "source": [
    "#xiao1.delete_many({\"0\": \"0\"})  删除多个匹配\n",
    "#xiao1.delete_many({})  删除所有\n",
    "xiao1.delete_one({\"0\": \"0\"})\n",
    "for i in xiao1.find().limit(3):\n",
    "    print(i)"
   ]
  }
 ],
 "metadata": {
  "interpreter": {
   "hash": "011df132264cb47676c8d4afd1c0458709012355175816406934bfb611210107"
  },
  "kernelspec": {
   "display_name": "Python 3.8.10 64-bit (windows store)",
   "language": "python",
   "name": "python3"
  },
  "language_info": {
   "codemirror_mode": {
    "name": "ipython",
    "version": 3
   },
   "file_extension": ".py",
   "mimetype": "text/x-python",
   "name": "python",
   "nbconvert_exporter": "python",
   "pygments_lexer": "ipython3",
   "version": "3.8.10"
  },
  "orig_nbformat": 4
 },
 "nbformat": 4,
 "nbformat_minor": 2
}
