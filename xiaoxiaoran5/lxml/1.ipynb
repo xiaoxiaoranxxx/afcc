{
 "cells": [
  {
   "cell_type": "code",
   "execution_count": 7,
   "source": [
    "import requests\r\n",
    "import os\r\n",
    "from urllib.parse import urlparse\r\n",
    "from bs4 import BeautifulSoup\r\n",
    "import re\r\n",
    "from io import BytesIO\r\n",
    "from pycurl import Curl\r\n"
   ],
   "outputs": [],
   "metadata": {}
  },
  {
   "cell_type": "code",
   "execution_count": 6,
   "source": [
    "r = requests.get('https://www.xiachufang.com/')\r\n",
    "soup = BeautifulSoup(r.text,features=\"lxml\")\r\n",
    "img_list = []\r\n",
    "for img in soup.select('img'):\r\n",
    "    if img.has_attr('data-src'):\r\n",
    "        img_list.append(img.attrs['data-src'])\r\n",
    "    else:\r\n",
    "        img_list.append(img.attrs['src'])\r\n",
    "image_dir = os.path.join(os.curdir,'images')\r\n",
    "if not os.path.isdir(image_dir):\r\n",
    "    os.mkdir(image_dir)\r\n",
    "for img in img_list:\r\n",
    "    o = urlparse(img)\r\n",
    "    filename = o.path[1:].split('@')[0]\r\n",
    "    filepath = os.path.join(image_dir,filename)\r\n",
    "    print(filepath)\r\n",
    "    resp = requests.get(img)\r\n",
    "    with open(filepath,'wb') as f:\r\n",
    "        for chunk in resp.iter_content(1024):\r\n",
    "            f.write(chunk)"
   ],
   "outputs": [],
   "metadata": {}
  },
  {
   "cell_type": "code",
   "execution_count": 9,
   "source": [
    "buffer = BytesIO()\r\n",
    "c = Curl()\r\n",
    "c.setopt(c.URL,'https://www.xiachufang.com/')\r\n",
    "c.setopt(c.WRITEDATA,buffer)\r\n",
    "c.perform()\r\n",
    "c.close()\r\n",
    "\r\n",
    "body = buffer.getvalue()\r\n",
    "text = body.decode('utf-8')\r\n",
    "print(text)\r\n",
    "\r\n",
    "img_list = re.findall(r'src=\\\"(http://i2\\.chuimg\\.com/\\w+\\.jpg)',text)\r\n",
    "image_dir = os.path.join(os.curdir,'images')\r\n",
    "\r\n",
    "for img in img_list[::-1]:\r\n",
    "    o = urlparse(img)\r\n",
    "    filename = o.path[1:].split('@')[0]\r\n",
    "    filepath = os.path.join(image_dir,filename)\r\n",
    "    if not os.path.isdir(os.path.dirname(filepath)):\r\n",
    "        os.mkdir(os.path.dirname(filepath))\r\n",
    "    url = '%s://%s/%s' % (o.scheme,o.netloc,filename)\r\n",
    "    print(url)\r\n",
    "    resp = requests.get(img)\r\n",
    "    with open(filepath,'wb') as f:\r\n",
    "        c = Curl()\r\n",
    "        c.setopt(c.URL,url)\r\n",
    "        c.setopt(c.WRITEDATE,f)\r\n",
    "        c.perform()\r\n",
    "        c.close"
   ],
   "outputs": [
    {
     "output_type": "error",
     "ename": "error",
     "evalue": "(60, 'SSL certificate problem: unable to get local issuer certificate')",
     "traceback": [
      "\u001b[1;31m---------------------------------------------------------------------------\u001b[0m",
      "\u001b[1;31merror\u001b[0m                                     Traceback (most recent call last)",
      "\u001b[1;32m<ipython-input-9-e2fa46a0d985>\u001b[0m in \u001b[0;36m<module>\u001b[1;34m\u001b[0m\n\u001b[0;32m      3\u001b[0m \u001b[0mc\u001b[0m\u001b[1;33m.\u001b[0m\u001b[0msetopt\u001b[0m\u001b[1;33m(\u001b[0m\u001b[0mc\u001b[0m\u001b[1;33m.\u001b[0m\u001b[0mURL\u001b[0m\u001b[1;33m,\u001b[0m\u001b[1;34m'https://www.xiachufang.com/'\u001b[0m\u001b[1;33m)\u001b[0m\u001b[1;33m\u001b[0m\u001b[0m\n\u001b[0;32m      4\u001b[0m \u001b[0mc\u001b[0m\u001b[1;33m.\u001b[0m\u001b[0msetopt\u001b[0m\u001b[1;33m(\u001b[0m\u001b[0mc\u001b[0m\u001b[1;33m.\u001b[0m\u001b[0mWRITEDATA\u001b[0m\u001b[1;33m,\u001b[0m\u001b[0mbuffer\u001b[0m\u001b[1;33m)\u001b[0m\u001b[1;33m\u001b[0m\u001b[0m\n\u001b[1;32m----> 5\u001b[1;33m \u001b[0mc\u001b[0m\u001b[1;33m.\u001b[0m\u001b[0mperform\u001b[0m\u001b[1;33m(\u001b[0m\u001b[1;33m)\u001b[0m\u001b[1;33m\u001b[0m\u001b[0m\n\u001b[0m\u001b[0;32m      6\u001b[0m \u001b[0mc\u001b[0m\u001b[1;33m.\u001b[0m\u001b[0mclose\u001b[0m\u001b[1;33m(\u001b[0m\u001b[1;33m)\u001b[0m\u001b[1;33m\u001b[0m\u001b[0m\n\u001b[0;32m      7\u001b[0m \u001b[1;33m\u001b[0m\u001b[0m\n",
      "\u001b[1;31merror\u001b[0m: (60, 'SSL certificate problem: unable to get local issuer certificate')"
     ]
    }
   ],
   "metadata": {}
  },
  {
   "cell_type": "code",
   "execution_count": null,
   "source": [],
   "outputs": [],
   "metadata": {}
  }
 ],
 "metadata": {
  "orig_nbformat": 4,
  "language_info": {
   "name": "python",
   "version": "3.6.5",
   "mimetype": "text/x-python",
   "codemirror_mode": {
    "name": "ipython",
    "version": 3
   },
   "pygments_lexer": "ipython3",
   "nbconvert_exporter": "python",
   "file_extension": ".py"
  },
  "kernelspec": {
   "name": "python3",
   "display_name": "Python 3.6.5 64-bit"
  },
  "interpreter": {
   "hash": "f794c57ac12a691c59266ecaadb6a5e7aa7da75beb81664e7b61736c07e9b51b"
  }
 },
 "nbformat": 4,
 "nbformat_minor": 2
}