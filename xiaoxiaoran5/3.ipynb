{
 "cells": [
  {
   "cell_type": "code",
   "execution_count": 34,
   "metadata": {},
   "outputs": [],
   "source": [
    "# findall   返回包含所有匹配项的列表\n",
    "# search\t匹配整个字符串中的任意位置，返回第一个成功的匹配对象\n",
    "# split     返回一个能够匹配的子串将字符串分割的列表\n",
    "# sub       用字符串替换一个或多个匹配项\n",
    "\n",
    "\n",
    "# https://www.cnblogs.com/leejack/p/9189796.html\n",
    "\n",
    "# https://blog.csdn.net/LiuGeFangQie/article/details/88144587\n",
    "\n",
    "# https://www.cnblogs.com/diony/archive/2010/12/16/1908499.html\n",
    "\n",
    "# https://www.jb51.net/tools/regex.htm\n",
    "\n",
    "\n",
    "# 字符匹配\n",
    "# 在正则表达式中，如果直接给出字符，就是精确匹配。\n",
    "# \\d 匹配一个数字\n",
    "# \\D 匹配一个非数字\n",
    "# \\w 匹配一个字母、数字或下划线_\n",
    "# \\W 匹配任何非单词字符, 等价于“[ ^ A-Za-z0-9_]\"\n",
    "# \\s 匹配任何空白字符，包括空格、制表符、换页符等等, 等价于[f\\n\\r\\t\\v]\n",
    "# \\S 匹配任何非空白字符\n",
    "# \\n 匹配一个换行符\n",
    "# \\r 匹配一个回车符\n",
    "# \\t 匹配一个制表符\n",
    "\n",
    "# 数量匹配\n",
    "# .匹配除“\\n\"之外的任何单个字符\n",
    "# *匹配前面的子表达式零次或多次\n",
    "# +匹配前面的子表达式一次或多次\n",
    "# ?匹配前面的子表达式零次或一次\n",
    "# {n}，n是一个非负整数，匹配确定的n次\n",
    "# {n, m}，m和n均为非负整数，其中n <= m，最少匹配n次且最多匹配m次\n",
    "# {n, }，n是一个非负整数，至少匹配n次\n",
    "# {, m} 匹配前面的正则表达式最多m次\n",
    "\n",
    "# 范围匹配\n",
    "# x | y 匹配x或y\n",
    "# [xyz] 字符集合, 匹配所包含的任意一个字符\n",
    "# [ ^ xyz] 负值字符集合, 匹配未包含的任意字符\n",
    "# [a-z] 字符范围, 匹配指定范围内的任意字符\n",
    "# [ ^ a-z] 负值字符范围, 匹配任何不在指定范围内的任意字符\n",
    "\n",
    "\n",
    "# [0-9a-zA-Z\\_]可以匹配一个数字、字母或者下划线；\n",
    "# [0-9a-zA-Z\\_]+可以匹配至少由一个数字、字母或者下划线组成的字符串，比如'a100'，'0_Z'，'Py3000'等等；\n",
    "# [a-zA-Z\\_][0-9a-zA-Z\\_]*可以匹配由字母或下划线开头，后接任意个由一个数字、字母或者下划线组成的字符串，也就是Python合法的变量；\n",
    "# [a-zA-Z\\_][0-9a-zA-Z\\_]{0, 19}更精确地限制了变量的长度是1-20个字符（前面1个字符+后面最多19个字符）。\n",
    "# A | B可以匹配A或B，所以(P | p)ython可以匹配'Python'或者'python'。\n",
    "# ^表示行的开头，^\\d表示必须以数字开头。\n",
    "# $表示行的结束，\\d$表示必须以数字结束。\n",
    "\n",
    "\n",
    "# re.I\t使匹配对大小写不敏感\n",
    "# re.L\t做本地化识别（locale-aware）匹配\n",
    "# re.M\t多行匹配，影响 ^ 和 $\n",
    "# re.S\t使 . 匹配包括换行在内的所有字符\n",
    "# re.U\t根据Unicode字符集解析字符。这个标志影响 \\w, \\W, \\b, \\B.\n",
    "# re.X\t该标志通过给予你更灵活的格式以便你将正则表达式写得更易于理解。\n",
    "\n",
    "\n",
    "import re\n",
    "\n",
    "str = \"The rain i2389rydf fbwsgdy82ny723xt78 3xn2zjiug23uy8t2g3r2 3ur23vuysayeqwasdawr23qwertyuusdfghjxn Spain\"\n",
    "x = re.findall(\"f\", str)    # findall返回包含所有匹配项的列表  ['f', 'f', 'f']\n",
    "x = re.findall(\"7ee\", str)  # 该列表按照找到的顺序包含匹配项。如果未找到匹配项，则返回空列表： []\n",
    "x = re.search(\"s\", str)     # search()函数在字符串中搜索匹配项，如果匹配则返回Match对象：\n",
    "x = re.split(\"\\s\", str)     # split()函数返回一个列表，其字符串在每次匹配时被拆分：\n",
    "x = re.split(\"\\s\", str, 1)  # 仅在第一次出现时分割字符串：\n",
    "x = re.sub(\"\\s\", \">.<\", str)  # 用>.<替换每个空格字符：\n",
    "x = re.sub(\"\\s\", \">.<\", str, 1)  # count\n",
    "# print(x)\n"
   ]
  },
  {
   "cell_type": "code",
   "execution_count": 35,
   "metadata": {},
   "outputs": [
    {
     "name": "stdout",
     "output_type": "stream",
     "text": [
      "<re.Match object; span=(0, 3), match='www'>\n",
      "(0, 3)\n",
      "0\n",
      "3\n"
     ]
    }
   ],
   "source": [
    "import re\n",
    "print(re.match('www', 'www.xiaoxiaoran.top'))\n",
    "print(re.match('www', 'www.xiaoxiaoran.top').span())\n",
    "print(re.match('www', 'www.xiaoxiaoran.top').start())\n",
    "print(re.match('www', 'www.xiaoxiaoran.top').end())\n"
   ]
  },
  {
   "cell_type": "code",
   "execution_count": 36,
   "metadata": {},
   "outputs": [
    {
     "name": "stdout",
     "output_type": "stream",
     "text": [
      "matchObj.group() :  Cats are smarter than dogs\n",
      "matchObj.group(1) :  Cats\n",
      "matchObj.group(2) :  smarter\n"
     ]
    }
   ],
   "source": [
    "line = \"Cats are smarter than dogs\"\n",
    "\n",
    "matchObj = re.match(r'(.*) are (.*?) .*', line, re.M | re.I)\n",
    "\n",
    "if matchObj:\n",
    "   print (\"matchObj.group() : \", matchObj.group())\n",
    "   print (\"matchObj.group(1) : \", matchObj.group(1))\n",
    "   print(\"matchObj.group(2) : \", matchObj.group(2))\n",
    "\n",
    "else:\n",
    "   print (\"No match!!\")\n"
   ]
  },
  {
   "cell_type": "code",
   "execution_count": 37,
   "metadata": {},
   "outputs": [
    {
     "name": "stdout",
     "output_type": "stream",
     "text": [
      "{'province': '110', 'city': '223', 'born_year': '1990'}\n"
     ]
    }
   ],
   "source": [
    "s = '1102231990xxxxxxxx'\n",
    "res = re.search('(?P<province>\\d{3})(?P<city>\\d{3})(?P<born_year>\\d{4})', s)\n",
    "print(res.groupdict())\n"
   ]
  },
  {
   "cell_type": "code",
   "execution_count": 38,
   "metadata": {},
   "outputs": [
    {
     "name": "stdout",
     "output_type": "stream",
     "text": [
      "正则表达式练习\n"
     ]
    }
   ],
   "source": [
    "\n",
    "x = re.search(r\"\\bS\\w+\", str)\n",
    "# .span()返回包含匹配的开始和结束位置的元组。\n",
    "# .string返回传递给函数的字符串\n",
    "# .group()返回匹配的字符串部分\n",
    "\n",
    "# \\d{3,4}\\s+\\d{3,8}  3-4个数字 至少一个空格 3-8个数字\n",
    "\n",
    "# match()方法判断是否匹配，如果匹配成功，返回一个Match对象，否则返回None。\n",
    "result = re.match(r'\\d{3,4}\\-\\d{3,8}$', '020-12345')\n",
    "result = re.match(r'^(\\d{3,4})\\-(\\d{3,8})$', '020-12345')\n",
    "# print(result.group(1))  # 匹配的第一个小括号的内容，即第一个匹配的子串\n",
    "# print(result.group())\n",
    "\n",
    "t = '09:05:30'\n",
    "m = re.match(\n",
    "    r'^(0[0-9]|1[0-9]|2[0-3]|[0-9])\\:([0-5]?[0-9])\\:([0-5]?[0-9])$', t)\n",
    "# print(m.groups())\n",
    "\n",
    "email = 'lee.jack3@netec.com.cn'\n",
    "pattern = r'^[a-z]{1,}\\.[a-z]+\\d*@netec.com.cn$'\n",
    "result = re.match(pattern, email)\n",
    "\n",
    "str = \"32 ddd ewe e       e\"\n",
    "str = \"3;;;;2 dd,d e,w,e ,e       e\"\n",
    "pattern = r'[\\s\\,\\;]+'\n",
    "result = re.split(pattern, str)  # 无论多少个空格都可以正常分割\n",
    "\n",
    "\n",
    "result = re.subn('[ae]', 'X', 'abcdefghi')\n",
    "# print(result)\n",
    "\n",
    "# 去掉div和b标签\n",
    "s = \"<div class='a'>正则<span>表达式</span><b style='color:red'>练习</b></div>\"\n",
    "ret = re.sub(r'(</?div.*?>|</?b.*?>)', '', s)\n",
    "ret = re.sub(r'(</?div.*?>|</?b.*?>|</?span>)', '', s)\n",
    "print(ret)\n",
    "\n",
    "#找出每行中只有3个数字的字符串\n",
    "ret = re.findall(r'^\\D*\\d\\D*\\d\\D*\\d\\D*$', s, re.M)\n"
   ]
  },
  {
   "cell_type": "code",
   "execution_count": 39,
   "metadata": {},
   "outputs": [
    {
     "name": "stdout",
     "output_type": "stream",
     "text": [
      "444\n",
      "123abc2456\n",
      "123\n",
      "abc\n",
      "2456\n"
     ]
    }
   ],
   "source": [
    "print(re.match(r'\\d+', '444rr').group())\n",
    "print(re.match(r'([0-9]*)([a-z]*)([0-9]*)', '123abc2456').group())\n",
    "print(re.match(r'([0-9]*)([a-z]*)([0-9]*)', '123abc2456').group(1))\n",
    "print(re.match(r'([0-9]*)([a-z]*)([0-9]*)', '123abc2456').group(2))\n",
    "print(re.match(r'([0-9]*)([a-z]*)([0-9]*)', '123abc2456').group(3))"
   ]
  },
  {
   "cell_type": "code",
   "execution_count": 46,
   "metadata": {},
   "outputs": [
    {
     "name": "stdout",
     "output_type": "stream",
     "text": [
      "<re.Match object; span=(0, 6), match='<>1234'>\n",
      "<re.Match object; span=(0, 6), match='<>1234'>\n"
     ]
    }
   ],
   "source": [
    "s=\"<>1234ed\"\n",
    "res=re.compile(r'<>1\\d+')\n",
    "#res=re.compile(r'<>1\\d+',flags=re.I)\n",
    "print(res.match(s))\n",
    "print(res.match(s+s))\n"
   ]
  },
  {
   "cell_type": "code",
   "execution_count": null,
   "metadata": {},
   "outputs": [],
   "source": []
  }
 ],
 "metadata": {
  "interpreter": {
   "hash": "011df132264cb47676c8d4afd1c0458709012355175816406934bfb611210107"
  },
  "kernelspec": {
   "display_name": "Python 3.8.10 64-bit (windows store)",
   "language": "python",
   "name": "python3"
  },
  "language_info": {
   "codemirror_mode": {
    "name": "ipython",
    "version": 3
   },
   "file_extension": ".py",
   "mimetype": "text/x-python",
   "name": "python",
   "nbconvert_exporter": "python",
   "pygments_lexer": "ipython3",
   "version": "3.8.10"
  },
  "orig_nbformat": 4
 },
 "nbformat": 4,
 "nbformat_minor": 2
}
