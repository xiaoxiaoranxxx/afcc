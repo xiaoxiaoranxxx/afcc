{
 "cells": [
  {
   "cell_type": "markdown",
   "metadata": {},
   "source": [
    "# request"
   ]
  },
  {
   "cell_type": "code",
   "execution_count": 26,
   "metadata": {},
   "outputs": [],
   "source": [
    "import requests\n",
    "url = \"https://baidu.com\""
   ]
  },
  {
   "cell_type": "code",
   "execution_count": 27,
   "metadata": {},
   "outputs": [
    {
     "name": "stdout",
     "output_type": "stream",
     "text": [
      "<!DOCTYPE html>\n",
      "<!--STATUS OK--><html> <head><meta http-equiv=content-type content=text/html;charset=utf-8><meta http-equiv=X-UA-Compatible content=I\n"
     ]
    }
   ],
   "source": [
    "r = requests.get(url)\n",
    "r.encoding = \"utf8\"\n",
    "print(r.text[:150])\n",
    "# r.content.decode(\"utf-8\")"
   ]
  },
  {
   "cell_type": "code",
   "execution_count": 28,
   "metadata": {},
   "outputs": [
    {
     "name": "stdout",
     "output_type": "stream",
     "text": [
      "http://www.baidu.com/ 200\n",
      "{'User-Agent': 'python-requests/2.26.0', 'Accept-Encoding': 'gzip, deflate', 'Accept': '*/*', 'Connection': 'keep-alive'}\n"
     ]
    }
   ],
   "source": [
    "print(r.url, r.status_code)\n",
    "print(r.request.headers)"
   ]
  },
  {
   "cell_type": "code",
   "execution_count": 29,
   "metadata": {},
   "outputs": [
    {
     "name": "stdout",
     "output_type": "stream",
     "text": [
      "{'Cache-Control': 'private, no-cache, no-store, proxy-revalidate, no-transform', 'Connection': 'keep-alive', 'Content-Encoding': 'gzip', 'Content-Type': 'text/html', 'Date': 'Wed, 12 Jan 2022 04:27:06 GMT', 'Last-Modified': 'Mon, 23 Jan 2017 13:27:36 GMT', 'Pragma': 'no-cache', 'Server': 'bfe/1.0.8.18', 'Set-Cookie': 'BDORZ=27315; max-age=86400; domain=.baidu.com; path=/', 'Transfer-Encoding': 'chunked'}\n"
     ]
    }
   ],
   "source": [
    "print(r.headers)"
   ]
  },
  {
   "cell_type": "markdown",
   "metadata": {},
   "source": [
    "##  hearders"
   ]
  },
  {
   "cell_type": "code",
   "execution_count": 30,
   "metadata": {},
   "outputs": [],
   "source": [
    "url = \"https://baidu.com/s?\"\n",
    "headers = {\"user-agent\": \"Mozilla/5.0 (Linux; Android 6.0; Nexus 5 Build/MRA58N) AppleWebKit/537.36 (KHTML, like Gecko) Chrome/98.0.4750.0 Mobile Safari/537.36\"}\n",
    "headers = {\"user-agent\": 'Mozilla/5.0 (Windows NT 10.0; Win64; x64) AppleWebKit/537.36 (KHTML, like Gecko) Chrome/86.0.4240.198 Safari/537.36'}\n",
    "headers = {'User-Agent': \"Mozilla/5.0 (Linux; Android 6.0; Nexus 5 Build/MRA58N) AppleWebKit/537.36 (KHTML, like Gecko) Chrome/89.0.4381.7 Mobile Safari/537.36\"}\n",
    "r = requests.get(url, headers=headers)"
   ]
  },
  {
   "cell_type": "markdown",
   "metadata": {},
   "source": [
    "## 加cookie在get请求"
   ]
  },
  {
   "cell_type": "code",
   "execution_count": 31,
   "metadata": {},
   "outputs": [
    {
     "name": "stdout",
     "output_type": "stream",
     "text": [
      "https://www.baidu.com/s?wd=python\n"
     ]
    }
   ],
   "source": [
    "data = {\"wd\": \"python\"}\n",
    "h = {\"user-agent\": \"Mozilla/5.0 (Linux; Android 6.0; Nexus 5 Build/MRA58N) AppleWebKit/537.36 (KHTML, like Gecko) Chrome/98.0.4750.0 Mobile Safari/537.36\", \"Cookie\": \"123\"}\n",
    "r = requests.get(url, headers=h, params=data)\n",
    "# with open('1.txt',\"wb\") as f:\n",
    "#     f.write(r.content)\n",
    "print(r.url)"
   ]
  },
  {
   "cell_type": "markdown",
   "metadata": {},
   "source": [
    "### cookies的字典处理"
   ]
  },
  {
   "cell_type": "code",
   "execution_count": 32,
   "metadata": {},
   "outputs": [
    {
     "name": "stdout",
     "output_type": "stream",
     "text": [
      "{'anonymid': 'jy0ui55o-u6f6zd', ' depovince': 'GW', ' _r01_': '1', ' JSESSIONID': 'abcMktGLRGjLtdhBk7OVw', ' ick_login': 'a9b557b8-8138-4e9d-8601-de7b2a633f80', ' _ga': 'GA1.2.1307141854.1562980962', ' _gid': 'GA1.2.201589596.1562980962', ' _c1': '-100', ' first_login_flag': '1', ' ln_uact': '18323008898', ' ln_hurl': 'http://head.xiaonei.com/photos/0/0/men_main.gif', ' jebe_key': '88f1340c-592c-4dd6-a738-128a76559f45%7Cad33b3c730fcdc8df220648f0893e840%7C1562981108370%7C1%7C1562981106765', ' jebecookies': '793eb32e-92c6-470d-b9d0-5f924c335d30|||||', ' _de': 'E77807CE44886E0134ABF27E72CFD74F', ' p': 'a00d65b1f779614cd242dc719e24c73e0', ' t': '292ba8729a4151c1a357e176d8d91bff0', ' societyguester': '292ba8729a4151c1a357e176d8d91bff0', ' id': '969937120', ' xnsid': '1700b2cc', ' ver': '7.0', ' loginfrom': 'null', ' wp_fold': '0 '}\n"
     ]
    }
   ],
   "source": [
    "cookies = \"anonymid=jy0ui55o-u6f6zd; depovince=GW; _r01_=1; JSESSIONID=abcMktGLRGjLtdhBk7OVw; \" \\\n",
    "          \"ick_login=a9b557b8-8138-4e9d-8601-de7b2a633f80; _ga=GA1.2.1307141854.1562980962; \" \\\n",
    "          \"_gid=GA1.2.201589596.1562980962; _c1=-100; first_login_flag=1; ln_uact=18323008898; \" \\\n",
    "          \"ln_hurl=http://head.xiaonei.com/photos/0/0/men_main.gif; \" \\\n",
    "          \"jebe_key=88f1340c-592c-4dd6-a738-128a76559f45%7Cad33b3c730fcdc8df220648f0893e840%7C1562981108370%7C1\" \\\n",
    "          \"%7C1562981106763; jebe_key=88f1340c-592c-4dd6-a738-128a76559f45%7Cad33b3c730fcdc8df220648f0893e840\" \\\n",
    "          \"%7C1562981108370%7C1%7C1562981106765; jebecookies=793eb32e-92c6-470d-b9d0-5f924c335d30|||||; \" \\\n",
    "          \"_de=E77807CE44886E0134ABF27E72CFD74F; p=a00d65b1f779614cd242dc719e24c73e0; \" \\\n",
    "          \"t=292ba8729a4151c1a357e176d8d91bff0; societyguester=292ba8729a4151c1a357e176d8d91bff0; id=969937120; \" \\\n",
    "          \"xnsid=1700b2cc; ver=7.0; loginfrom=null; wp_\" \\\n",
    "          \"fold=0 \"\n",
    "dicts = {cookie.split(\"=\")[0]: cookie.split(\"=\")[1] for cookie in cookies.split(\";\")}\n",
    "print(dicts)"
   ]
  },
  {
   "cell_type": "markdown",
   "metadata": {},
   "source": [
    "## post请求"
   ]
  },
  {
   "cell_type": "code",
   "execution_count": 33,
   "metadata": {},
   "outputs": [
    {
     "name": "stdout",
     "output_type": "stream",
     "text": [
      "{\n",
      "  \"args\": {}, \n",
      "  \"data\": \"\", \n",
      "  \"files\": {}, \n",
      "  \"form\": {\n",
      "    \"key1\": \"value1\", \n",
      "    \"key2\": \"value2\"\n",
      "  }, \n",
      "  \"headers\": {\n",
      "    \"Accept\": \"*/*\", \n",
      "   \n"
     ]
    }
   ],
   "source": [
    "payload = {'key1': 'value1', 'key2': 'value2'}\n",
    "r = requests.post(\"http://httpbin.org/post\", data=payload)\n",
    "print(r.text[:150])"
   ]
  },
  {
   "cell_type": "markdown",
   "metadata": {},
   "source": [
    "# jsonpath使用"
   ]
  },
  {
   "cell_type": "code",
   "execution_count": 34,
   "metadata": {},
   "outputs": [
    {
     "name": "stdout",
     "output_type": "stream",
     "text": [
      "python\n",
      "['python']\n",
      "['python']\n"
     ]
    }
   ],
   "source": [
    "from jsonpath import jsonpath\n",
    "data = {\"1\": {\"2\": {\"3\": \"python\"}}}\n",
    "print(data[\"1\"][\"2\"][\"3\"])\n",
    "print(jsonpath(data, \"$.1.2.3\"))\n",
    "print(jsonpath(data, \"$..3\"))\n"
   ]
  },
  {
   "cell_type": "code",
   "execution_count": 35,
   "metadata": {},
   "outputs": [],
   "source": [
    "data = {\n",
    "    \"store\": {\n",
    "        \"book\": [{\n",
    "            \"category\": \"reference\",\n",
    "            \"author\": \"Nigel Rees\",\n",
    "            \"title\": \"Sayings of the Century\",\n",
    "            \"price\": 8.2\n",
    "        }, {\n",
    "            \"category\": \"fiction\",\n",
    "            \"author\": \"Evelyn Waugh\",\n",
    "            \"title\": \"Sword of Honour\",\n",
    "            \"price\": 2.99\n",
    "        }, {\n",
    "            \"category\": \"fiction\",\n",
    "            \"author\": \"Herman Melville\",\n",
    "            \"title\": \"Moby Dick\",\n",
    "            \"isbn\": \"0-553-21311-3\",\n",
    "            \"price\": 8.09\n",
    "        }, {\n",
    "            \"category\": \"fiction\",\n",
    "            \"author\": \"J. R. R. Tolkien\",\n",
    "            \"title\": \"The Lord of the Rings\",\n",
    "            \"isbn\": \"0-395-19395-8\",\n",
    "            \"price\": 2.99\n",
    "        }\n",
    "        ],\n",
    "        \"bicycle\": {\n",
    "            \"color\": \"red\",\n",
    "            \"price\": 19.95\n",
    "        }\n",
    "    }\n",
    "}\n"
   ]
  },
  {
   "cell_type": "code",
   "execution_count": 36,
   "metadata": {},
   "outputs": [
    {
     "name": "stdout",
     "output_type": "stream",
     "text": [
      "['red']\n",
      "[8.2, 2.99, 8.09, 2.99, 19.95]\n"
     ]
    }
   ],
   "source": [
    "print(jsonpath(data, \"$..color\"))\n",
    "print(jsonpath(data, \"$..price\"))"
   ]
  },
  {
   "cell_type": "markdown",
   "metadata": {},
   "source": [
    "### jsonpath 例子"
   ]
  },
  {
   "cell_type": "code",
   "execution_count": 37,
   "metadata": {},
   "outputs": [
    {
     "name": "stdout",
     "output_type": "stream",
     "text": [
      "['安庆', '鞍山', '安阳', '安康', '安顺', '澳门', '阿克苏', '阿勒泰', '阿坝藏族羌族自治州', '阿拉善盟']\n",
      "['北京', '保定', '包头', '滨州', '蚌埠', '亳州', '宝鸡', '北海', '巴中', '毕节', '保山', '巴音郭楞', '巴彦淖尔', '白银', '白山', '百色', '白城', '本溪']\n"
     ]
    }
   ],
   "source": [
    "import json\n",
    "url = \"https://www.lagou.com/lbs/getAllCitySearchLabels.json\"\n",
    "h = {\"user-agent\": \"Mozilla/5.0 (Linux; Android 6.0; Nexus 5 Build/MRA58N) AppleWebKit/537.36 (KHTML, like Gecko) Chrome/98.0.4750.0 Mobile Safari/537.36\"}\n",
    "r = requests.get(url, headers=h)\n",
    "data = json.loads(r.content)\n",
    "print(jsonpath(data, \"$..A..name\"))\n",
    "print(jsonpath(data, \"$..B..name\"))"
   ]
  },
  {
   "cell_type": "markdown",
   "metadata": {},
   "source": [
    "# xpath速览"
   ]
  },
  {
   "cell_type": "code",
   "execution_count": 38,
   "metadata": {},
   "outputs": [],
   "source": [
    "# //div[@id=\"content-left\"]/div/@id\n",
    "# //div[@id=\"content-left\"]/div[last()-1]\n",
    "# //div[span[2]>=10]\n",
    "# //div[contains(@id,\"r_tag_12345\")]\n",
    "# //*[contains(@id,\"r_tag_12345\")]\n",
    "# //a[contains(text(),\"下一页\")]\n",
    "# //*[@id=\"content-left\"]/div\n",
    "# //td/a|//h2/a\n",
    "# //@href"
   ]
  },
  {
   "cell_type": "markdown",
   "metadata": {},
   "source": [
    "# lxml 使用"
   ]
  },
  {
   "cell_type": "code",
   "execution_count": 39,
   "metadata": {},
   "outputs": [],
   "source": [
    "from lxml import etree\n",
    "url = \"https://www.xiaoxiaoran.top\"\n",
    "h = {\n",
    "    \"user-agent\": \"Mozilla/5.0 (Linux; Android 6.0; Nexus 5 Build/MRA58N) AppleWebKit/537.36 (KHTML, like Gecko) Chrome/98.0.4750.0 Mobile Safari/537.36\"}\n",
    "r = requests.get(url, headers=h)\n",
    "data = r.content.decode()\n",
    "html = etree.HTML(data)"
   ]
  },
  {
   "cell_type": "markdown",
   "metadata": {},
   "source": [
    "## lxml 例子"
   ]
  },
  {
   "cell_type": "code",
   "execution_count": 40,
   "metadata": {},
   "outputs": [
    {
     "name": "stdout",
     "output_type": "stream",
     "text": [
      "['青年的意气风发,中年的越挫越勇,老年的达观淡泊', '竟如此完美的结合在他身上,绵延千年仍余音绕梁', '他以天下为己任,关心民间疾苦,所到之处,皆欢声笑语, 他乐观豁达', '心中是一种 看庭前花开花落,宠辱不惊,望天空云卷云舒,去留无意 的情怀', '他潇洒傲然,文采无匹 有卓越天才,开阔的胸襟和广博的学识 ', '在人生的道路上一路勇往直前,他有儒家的正义进取,也有佛道的洒脱出世', '纵然在天涯海角,他仍能迎着风说 \"吹啊!吹啊!我的骄傲放纵...', '并吟唱:\"肖萧然如冯虚御风而不知其所止 飘飘然如遗世独立,羽化而登仙\"', '他在精神的沙漠特立独行,在最平凡的生活中', '谦卑和努力 去经历无数荒凉,孤独', '只为寻找那属于自己的繁花似锦 ', '他背负着是是非非,恩恩怨怨和悲欢离合 ', '走过人生的山山水水 ,灾难困途并没有减少他对生活的敏锐洞察 ', '在经历人生苦难世道沧桑后 ', ' 他举杯笑对平湖秋月,看花开花落,不嗔不怒', '在风雨中奔跑,做自己的梦,走自己的路', '活出一派天真,一派精彩 还有什么能够难得倒他? ', ' 他是天才,并不自视甚高. 他是凡人,却又不谙世事', '希望与失望,豪情与惆怅,轩冕荣华, 与禹禹独行在他的生命中交替更迭, ', '无尽无休的磨难未曾让他厌倦冷漠, 权利名望的诱惑也未让他忘乎所有', '他那特立独行的人格,狂放不羁的个性,倔强骄傲的灵魂 ', '故曰:自从厌倦于追求,我已学会一觅即中, ', '自从一股逆风袭来,我已能抵御八面来风!', '别人达到最多是他那一个潇洒傲然的背影 ', '每每想到竟有如此伟大而又温暖的人', '就令人感动不已...']\n"
     ]
    }
   ],
   "source": [
    "print([i for i in  html.xpath(\"//div[@id='box02_text']/p/text()\")])"
   ]
  },
  {
   "cell_type": "code",
   "execution_count": 41,
   "metadata": {},
   "outputs": [
    {
     "name": "stdout",
     "output_type": "stream",
     "text": [
      "{'不忘初心': '肖萧然的旧网站', 'Closer': 'The Chainsmokers', '文字转语音': '就说句话', '钟表': '就看个时间', '音乐': '就听个歌', '图片': '就看个图'}\n"
     ]
    }
   ],
   "source": [
    "print({i: j for i, j in zip(html.xpath(\"//div/ul/li/div/h1/text()\"), html.xpath(\"//div/ul/li/div/p[1]/text()\"))})"
   ]
  },
  {
   "cell_type": "code",
   "execution_count": 42,
   "metadata": {},
   "outputs": [
    {
     "name": "stdout",
     "output_type": "stream",
     "text": [
      "['http://old.xiaoxiaoran.top/', 'https://xiaoxiaoran.top/xiuxiu/yuyin/', 'https://xiaoxiaoran.top/xiuxiu/钟表', 'https://xiaoxiaoran.top/xiuxiu/FM', 'https://xiaoxiaoran.top/xiuxiu/tuku/']\n"
     ]
    }
   ],
   "source": [
    "print([\"https://xiaoxiaoran.top\"+i if i.find(\"http\") else i  for i in html.xpath(\"//div/ul/li/div/p/a/@href\")])"
   ]
  },
  {
   "cell_type": "code",
   "execution_count": 43,
   "metadata": {},
   "outputs": [
    {
     "name": "stdout",
     "output_type": "stream",
     "text": [
      "{'3d旋转特效': 'https://xiaoxiaoran.top/xiuxiu/yeye/3d旋转特效.html', 'mikutap': 'https://xiaoxiaoran.top/xiuxiu/mikutap/', '五子棋': 'https://xiaoxiaoran.top/xiuxiu/wuziqi/', '中国象棋': 'https://xiaoxiaoran.top/xiuxiu/xiangqi/', '樱花': 'https://xiaoxiaoran.top/xiuxiu/yeye/樱花.html', '夜空': 'https://xiaoxiaoran.top/xiuxiu/yeye/夜空.html', '排序动画演示': 'https://xiaoxiaoran.top/xiuxiu/paixu_ys/', '机器人舞蹈': 'https://xiaoxiaoran.top/xiuxiu/yeye/机器人.html', '二叉树转换': 'https://xiaoxiaoran.top/xiuxiu/tree/'}\n"
     ]
    }
   ],
   "source": [
    "print({i:\"https://xiaoxiaoran.top\"+j for i,j in zip(html.xpath(\"//div/div/ul/li/a/h2/text()\"),html.xpath(\"//div/div/ul/li/a/@href\"))})"
   ]
  },
  {
   "cell_type": "markdown",
   "metadata": {},
   "source": [
    "# selenium 使用"
   ]
  },
  {
   "cell_type": "code",
   "execution_count": 44,
   "metadata": {},
   "outputs": [],
   "source": [
    "# # phantomjs  无界面浏览器\n",
    "# from selenium import webdriver\n",
    "# import sys\n",
    "# import time\n",
    "\n",
    "# d = webdriver.Chrome(\"D:\\Temp\\chromedriver.exe\")\n",
    "# d.get('https://yb.58.com/dog/?PGTID=0d100000-0094-c6a2-a99f-e8b0eca5c0bd&ClickID=2')\n",
    "\n",
    "# # print(d.page_source)\n",
    "# print(d.current_url)\n",
    "# print(d.title)\n",
    "\n",
    "# # 文字输入\n",
    "# # d.find_element_by_xpath('//*[@id=\"kw\"]').send_keys(\"肖萧然\")\n",
    "# # d.find_element_by_id(\"su\").click()\n",
    "\n",
    "# # 元素定位\n",
    "# l=d.find_elements_by_xpath('//*[@id=\"infolist\"]/table/tbody/tr/td[2]/a')\n",
    "# ll=d.find_elements_by_xpath('//*[@id=\"infolist\"]/table/tbody/tr/td[3]/span/b')\n",
    "# for i in range(len(l)):\n",
    "#     print(l[i].text+\" \"+ll[i].text)\n",
    "\n",
    "# time.sleep(5)\n",
    "# e = d.find_element_by_xpath('//*[@id=\"infolist\"]/table/tbody/tr[1]/td[2]/a')\n",
    "# e.click()\n",
    "\n",
    "# # 页面切换\n",
    "# print(d.current_url)\n",
    "# print(d.window_handles)\n",
    "\n",
    "# d.switch_to.window(d.window_handles[-1])\n",
    "\n",
    "# e = d.find_element_by_xpath('/html/body/div[17]/div[2]/a').click()\n",
    "\n",
    "# # 滚动\n",
    "# d.execute_script(\"scrollTo(0,15000)\")\n",
    "\n",
    "\n",
    "# time.sleep(10)\n",
    "# d.quit()"
   ]
  },
  {
   "cell_type": "markdown",
   "metadata": {},
   "source": [
    "## selenium 例子"
   ]
  },
  {
   "cell_type": "code",
   "execution_count": 45,
   "metadata": {},
   "outputs": [
    {
     "data": {
      "text/plain": [
       "'\\nfrom selenium import webdriver\\nfrom selenium.webdriver.common.keys import Keys\\nfrom selenium.webdriver.chrome.options import Options\\nimport sys\\nimport time\\nimport pyexcel\\n\\nif __name__ == \"__main__\":\\n    keyword = \\'iphone\\'\\n    if len(sys.argv) > 1:\\n        keyword = sys.argv[1]\\n    option = Options()\\n    # option.add_argument(\\'--headless\\')\\n    driver = webdriver.Chrome(\\n        r\\'D:\\\\Temp\\\\chromedriver.exe\\', chrome_options=option)\\n    driver.get(\\'http://www.jd.com\\')\\n    kw = driver.find_element_by_id(\\'key\\')\\n    kw.send_keys(keyword)\\n    kw.send_keys(Keys.RETURN)\\n    time.sleep(3)\\n    sort_btn = driver.find_element_by_xpath(\\'.//div[@class=\"f-sort\"]/a[2]\\')\\n    sort_btn.click()\\n    i = 0\\n    has_next = True\\n    rows = []\\n    page_count = 0\\n    while has_next:\\n        page_count += 1\\n        if page_count > 3:\\n            break\\n        time.sleep(5)\\n        cur_page = driver.find_element_by_xpath(\\n            \\'//div[@id=\"J_bottomPage\"]//a[@class=\"curr\"]\\').text\\n        print(\\'current page is ---------------------> %s \\' % cur_page)\\n\\n        goods_list = driver.find_element_by_id(\\'J_goodsList\\')  # 尺寸\\n        y = goods_list.rect[\\'y\\'] + goods_list.rect[\\'height\\']  # 滑\\n        driver.execute_script(\\'window.scrollTo(0,%s)\\' % y)\\n\\n        products = driver.find_elements_by_class_name(\\'gl-item\\')\\n\\n        for p in products:\\n            row = {}\\n            sku = p.get_attribute(\\'data-sku\\')\\n            row[\\'price\\'] = p.find_element_by_css_selector(\\n                \\'strong.J_%s\\' % sku).text\\n            row[\\'name\\'] = p.find_element_by_css_selector(\\n                \\'div.p-name>a>em\\').text\\n            row[\\'comment\\'] = p.find_element_by_id(\\'J_comment_%s\\' % sku).text\\n\\n            try:\\n                row[\\'shop\\'] = p.find_element_by_css_selector(\\n                    \\'div.p-shop>span>a\\').text\\n            except:\\n                row[\\'shop\\'] = \\'无\\'\\n\\n            print(row)\\n\\n            i += 1\\n            print(\\'-------->\\', i)\\n            rows.append(row)\\n        try:\\n            next_page = driver.find_element_by_css_selector(\\'a.pn-next\\')\\n            if \\'disabled\\' in next_page.get_attribute(\\'class\\'):\\n                has_next = False\\n            else:\\n                next_page.click()\\n        except:\\n            has_next = False\\n\\n    pyexcel.save_as(records=rows, dest_file_name=\\'%s.xls\\' % keyword)\\n    driver.quit()\\n\\n'"
      ]
     },
     "execution_count": 45,
     "metadata": {},
     "output_type": "execute_result"
    }
   ],
   "source": [
    "'''\n",
    "from selenium import webdriver\n",
    "from selenium.webdriver.common.keys import Keys\n",
    "from selenium.webdriver.chrome.options import Options\n",
    "import sys\n",
    "import time\n",
    "import pyexcel\n",
    "\n",
    "if __name__ == \"__main__\":\n",
    "    keyword = 'iphone'\n",
    "    if len(sys.argv) > 1:\n",
    "        keyword = sys.argv[1]\n",
    "    option = Options()\n",
    "    # option.add_argument('--headless')\n",
    "    driver = webdriver.Chrome(\n",
    "        r'D:\\Temp\\chromedriver.exe', chrome_options=option)\n",
    "    driver.get('http://www.jd.com')\n",
    "    kw = driver.find_element_by_id('key')\n",
    "    kw.send_keys(keyword)\n",
    "    kw.send_keys(Keys.RETURN)\n",
    "    time.sleep(3)\n",
    "    sort_btn = driver.find_element_by_xpath('.//div[@class=\"f-sort\"]/a[2]')\n",
    "    sort_btn.click()\n",
    "    i = 0\n",
    "    has_next = True\n",
    "    rows = []\n",
    "    page_count = 0\n",
    "    while has_next:\n",
    "        page_count += 1\n",
    "        if page_count > 3:\n",
    "            break\n",
    "        time.sleep(5)\n",
    "        cur_page = driver.find_element_by_xpath(\n",
    "            '//div[@id=\"J_bottomPage\"]//a[@class=\"curr\"]').text\n",
    "        print('current page is ---------------------> %s ' % cur_page)\n",
    "\n",
    "        goods_list = driver.find_element_by_id('J_goodsList')  # 尺寸\n",
    "        y = goods_list.rect['y'] + goods_list.rect['height']  # 滑\n",
    "        driver.execute_script('window.scrollTo(0,%s)' % y)\n",
    "\n",
    "        products = driver.find_elements_by_class_name('gl-item')\n",
    "\n",
    "        for p in products:\n",
    "            row = {}\n",
    "            sku = p.get_attribute('data-sku')\n",
    "            row['price'] = p.find_element_by_css_selector(\n",
    "                'strong.J_%s' % sku).text\n",
    "            row['name'] = p.find_element_by_css_selector(\n",
    "                'div.p-name>a>em').text\n",
    "            row['comment'] = p.find_element_by_id('J_comment_%s' % sku).text\n",
    "\n",
    "            try:\n",
    "                row['shop'] = p.find_element_by_css_selector(\n",
    "                    'div.p-shop>span>a').text\n",
    "            except:\n",
    "                row['shop'] = '无'\n",
    "\n",
    "            print(row)\n",
    "\n",
    "            i += 1\n",
    "            print('-------->', i)\n",
    "            rows.append(row)\n",
    "        try:\n",
    "            next_page = driver.find_element_by_css_selector('a.pn-next')\n",
    "            if 'disabled' in next_page.get_attribute('class'):\n",
    "                has_next = False\n",
    "            else:\n",
    "                next_page.click()\n",
    "        except:\n",
    "            has_next = False\n",
    "\n",
    "    pyexcel.save_as(records=rows, dest_file_name='%s.xls' % keyword)\n",
    "    driver.quit()\n",
    "\n",
    "'''"
   ]
  }
 ],
 "metadata": {
  "interpreter": {
   "hash": "011df132264cb47676c8d4afd1c0458709012355175816406934bfb611210107"
  },
  "kernelspec": {
   "display_name": "Python 3.8.10 64-bit (windows store)",
   "language": "python",
   "name": "python3"
  },
  "language_info": {
   "codemirror_mode": {
    "name": "ipython",
    "version": 3
   },
   "file_extension": ".py",
   "mimetype": "text/x-python",
   "name": "python",
   "nbconvert_exporter": "python",
   "pygments_lexer": "ipython3",
   "version": "3.8.10"
  },
  "orig_nbformat": 4
 },
 "nbformat": 4,
 "nbformat_minor": 2
}
