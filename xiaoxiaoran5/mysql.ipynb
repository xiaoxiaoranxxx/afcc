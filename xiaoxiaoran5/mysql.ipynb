{
 "cells": [
  {
   "cell_type": "code",
   "execution_count": 7,
   "metadata": {},
   "outputs": [],
   "source": [
    "import pymysql\n",
    "db = pymysql.Connect(host=\"127.0.0.1\",user=\"root\",passwd=\"root\", database=\"xiaoxiaoran\", charset='utf8')"
   ]
  },
  {
   "cell_type": "code",
   "execution_count": 8,
   "metadata": {},
   "outputs": [],
   "source": [
    "c = db.cursor()\n",
    "sql ='''\n",
    "create table if not exists `users`(\n",
    "\t`id` int unsigned auto_increment,\n",
    "\t`username` varchar(100) not null,\n",
    "\t`password` varchar(100)not null,\n",
    "\tprimary key(`id`)\n",
    ") charset=utf8;\n",
    "'''\n",
    "c.execute(sql)\n",
    "c.execute('insert into users (username,password) values (\"admin\",\"admin\");')\n",
    "c.close()"
   ]
  },
  {
   "cell_type": "code",
   "execution_count": 9,
   "metadata": {},
   "outputs": [
    {
     "name": "stdout",
     "output_type": "stream",
     "text": [
      "ok\n"
     ]
    }
   ],
   "source": [
    "c=db.cursor()\n",
    "name=\"admi' or 1=1 -- \"\n",
    "pwd=\"admin\"\n",
    "sql=\"select * from users where username='%s' and password='%s'\" %(name,pwd)\n",
    "result=c.execute(sql)\n",
    "print(\"ok\") if result else print(\"no\")\n",
    "c.close()"
   ]
  },
  {
   "cell_type": "code",
   "execution_count": 10,
   "metadata": {},
   "outputs": [
    {
     "name": "stdout",
     "output_type": "stream",
     "text": [
      "no\n"
     ]
    }
   ],
   "source": [
    "c = db.cursor()\n",
    "name = \"admi' or 1=1 -- \"\n",
    "pwd = \"admin\"\n",
    "sql = \"select * from users where username=%s and password=%s\"\n",
    "result = c.execute(sql, (name, pwd))\n",
    "print(\"ok\") if result else print(\"no\")\n",
    "c.close()"
   ]
  },
  {
   "cell_type": "code",
   "execution_count": 11,
   "metadata": {},
   "outputs": [
    {
     "name": "stdout",
     "output_type": "stream",
     "text": [
      "ok\n"
     ]
    }
   ],
   "source": [
    "c=db.cursor()\n",
    "name=\"root\"\n",
    "pwd=\"root\"\n",
    "sql='insert into users (username,password) values (%s,%s);'\n",
    "try:\n",
    "    result=c.execute(sql,(name,pwd))\n",
    "    db.commit()\n",
    "except:\n",
    "    db.rollback()\n",
    "print(\"ok\") if result else print(\"no\")\n",
    "c.close()"
   ]
  },
  {
   "cell_type": "code",
   "execution_count": 12,
   "metadata": {},
   "outputs": [
    {
     "name": "stdout",
     "output_type": "stream",
     "text": [
      "(1, 'admin', 'admin')\n",
      "(2, 'root', 'root')\n",
      "(3, 'admin', 'admin')\n",
      "(4, 'root', 'root')\n",
      "(5, 'admin', 'admin')\n",
      "(6, 'root', 'root')\n"
     ]
    }
   ],
   "source": [
    "c = db.cursor()\n",
    "sql = 'select * from users'\n",
    "try:\n",
    "    c.execute(sql)\n",
    "    result =c.fetchall()\n",
    "    db.commit()\n",
    "except:\n",
    "    db.rollback()\n",
    "\n",
    "for i in result:\n",
    "    print(i)\n",
    "\n",
    "c.close()"
   ]
  },
  {
   "cell_type": "code",
   "execution_count": null,
   "metadata": {},
   "outputs": [],
   "source": []
  }
 ],
 "metadata": {
  "interpreter": {
   "hash": "011df132264cb47676c8d4afd1c0458709012355175816406934bfb611210107"
  },
  "kernelspec": {
   "display_name": "Python 3.8.10 64-bit (windows store)",
   "language": "python",
   "name": "python3"
  },
  "language_info": {
   "codemirror_mode": {
    "name": "ipython",
    "version": 3
   },
   "file_extension": ".py",
   "mimetype": "text/x-python",
   "name": "python",
   "nbconvert_exporter": "python",
   "pygments_lexer": "ipython3",
   "version": "3.8.10"
  },
  "orig_nbformat": 4
 },
 "nbformat": 4,
 "nbformat_minor": 2
}
