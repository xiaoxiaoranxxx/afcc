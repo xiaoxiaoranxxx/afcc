{
 "cells": [
  {
   "cell_type": "code",
   "execution_count": 1,
   "metadata": {},
   "outputs": [],
   "source": [
    "import requests"
   ]
  },
  {
   "cell_type": "code",
   "execution_count": 2,
   "metadata": {},
   "outputs": [
    {
     "name": "stdout",
     "output_type": "stream",
     "text": [
      "{'headers': {'Accept': '*/*', 'Accept-Encoding': 'gzip, deflate', 'Host': 'httpbin.org', 'User-Agent': 'Mozilla/5.0', 'X-Amzn-Trace-Id': 'Root=1-61dbbe34-792d0f907753d85545954955'}}\n"
     ]
    }
   ],
   "source": [
    "ua = 'Mozilla/5.0'\n",
    "headers = {'user-agent': ua}\n",
    "r = requests.get('http://httpbin.org/headers', headers=headers)\n",
    "print(r.json())"
   ]
  },
  {
   "cell_type": "code",
   "execution_count": 3,
   "metadata": {},
   "outputs": [
    {
     "name": "stdout",
     "output_type": "stream",
     "text": [
      "{'cookies': {'toen': 'qwertyuiop', 'userid': '123456'}}\n"
     ]
    }
   ],
   "source": [
    "cookies = dict(userid='123456', toen='qwertyuiop')\n",
    "r = requests.get('http://httpbin.org/cookies', cookies=cookies)\n",
    "print(r.json())"
   ]
  },
  {
   "cell_type": "code",
   "execution_count": 4,
   "metadata": {},
   "outputs": [
    {
     "name": "stdout",
     "output_type": "stream",
     "text": [
      "{'authenticated': True, 'user': 'xiao'}\n"
     ]
    }
   ],
   "source": [
    "r = requests.get('http://httpbin.org/basic-auth/xiao/123456',auth=('xiao', '123456'))\n",
    "print(r.json())"
   ]
  },
  {
   "cell_type": "code",
   "execution_count": 5,
   "metadata": {},
   "outputs": [
    {
     "name": "stdout",
     "output_type": "stream",
     "text": [
      "{'cookies': {'xiao': '1111'}}\n",
      "{'origin': '117.172.173.78'}\n"
     ]
    }
   ],
   "source": [
    "s = requests.Session()\n",
    "s.get('http://httpbin.org/cookies/set/xiao/1111')\n",
    "r = s.get('http://httpbin.org/cookies')\n",
    "print(r.json())\n",
    "\n",
    "print(requests.get('http://httpbin.org/ip').json())\n",
    "#print(requests.get('http://httpbin.org/ip',proxies={'http':'http://iguye.com:41801'}.json())"
   ]
  },
  {
   "cell_type": "code",
   "execution_count": 6,
   "metadata": {},
   "outputs": [
    {
     "name": "stdout",
     "output_type": "stream",
     "text": [
      "{'args': {}, 'data': '', 'files': {}, 'form': {'a': '1'}, 'headers': {'Accept': '*/*', 'Accept-Encoding': 'gzip, deflate', 'Content-Length': '3', 'Content-Type': 'application/x-www-form-urlencoded', 'Host': 'httpbin.org', 'User-Agent': 'python-requests/2.26.0', 'X-Amzn-Trace-Id': 'Root=1-61dbbe38-1958e5ee1ea05c9620c2b764'}, 'json': None, 'origin': '117.172.173.78', 'url': 'http://httpbin.org/post'}\n"
     ]
    }
   ],
   "source": [
    "r = requests.post('http://httpbin.org/post', data={'a': '1'})\n",
    "print(r.json())"
   ]
  }
 ],
 "metadata": {
  "interpreter": {
   "hash": "f794c57ac12a691c59266ecaadb6a5e7aa7da75beb81664e7b61736c07e9b51b"
  },
  "kernelspec": {
   "display_name": "Python 3.6.5 64-bit",
   "name": "python3"
  },
  "language_info": {
   "codemirror_mode": {
    "name": "ipython",
    "version": 3
   },
   "file_extension": ".py",
   "mimetype": "text/x-python",
   "name": "python",
   "nbconvert_exporter": "python",
   "pygments_lexer": "ipython3",
   "version": "3.8.10"
  },
  "orig_nbformat": 4
 },
 "nbformat": 4,
 "nbformat_minor": 2
}
