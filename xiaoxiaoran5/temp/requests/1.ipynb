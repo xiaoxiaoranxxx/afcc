{
 "cells": [
  {
   "cell_type": "code",
   "execution_count": null,
   "metadata": {},
   "outputs": [],
   "source": [
    "import requests\n",
    "import re\n",
    "import json"
   ]
  },
  {
   "cell_type": "markdown",
   "metadata": {},
   "source": [
    "查看结果类型"
   ]
  },
  {
   "cell_type": "code",
   "execution_count": null,
   "metadata": {},
   "outputs": [],
   "source": [
    "url = 'http://www.tipdm.com/tipdm/index.html'\n",
    "rqg = requests.get(url=url)\n",
    "#requests.post(url=url)\n",
    "print(type(rqg))\n",
    "print(rqg.status_code)\n",
    "print(rqg.encoding)\n"
   ]
  },
  {
   "cell_type": "code",
   "execution_count": null,
   "metadata": {},
   "outputs": [],
   "source": [
    "print(rqg.headers)"
   ]
  },
  {
   "cell_type": "code",
   "execution_count": null,
   "metadata": {},
   "outputs": [],
   "source": [
    "#print(rqg.text)"
   ]
  },
  {
   "cell_type": "code",
   "execution_count": null,
   "metadata": {},
   "outputs": [],
   "source": [
    "r = requests.get('http://httpbin.org/get')\n",
    "print(r.status_code)\n",
    "print(r.reason)\n",
    "print(r.text)\n"
   ]
  },
  {
   "cell_type": "code",
   "execution_count": null,
   "metadata": {},
   "outputs": [],
   "source": [
    "response = requests.get('https://www.zhihu.com/explore')\n",
    "print(f\"当前请求的响应状态码为：{response.status_code}\")\n",
    "#print(response.text)\n"
   ]
  },
  {
   "cell_type": "markdown",
   "metadata": {},
   "source": [
    "### 这里我们加入了 headers 信息，其中包含了 User-Agent 字段信息"
   ]
  },
  {
   "cell_type": "code",
   "execution_count": null,
   "metadata": {},
   "outputs": [],
   "source": [
    "headers = {\"user-agent\": 'Mozilla/5.0 (Windows NT 10.0; Win64; x64) AppleWebKit/537.36 (KHTML, like Gecko) Chrome/86.0.4240.198 Safari/537.36'}\n",
    "response = requests.get('https://www.zhihu.com/explore', headers=headers)\n",
    "print(f\"当前请求的响应状态码为：{response.status_code}\")"
   ]
  },
  {
   "cell_type": "markdown",
   "metadata": {},
   "source": [
    "### 这是目标 url = 'https://www.baidu.com/s?wd=python"
   ]
  },
  {
   "cell_type": "code",
   "execution_count": null,
   "metadata": {},
   "outputs": [],
   "source": [
    "url = 'https://www.baidu.com/s?'\n",
    "kw={'wd':'python'}\n",
    "response = requests.get(url, headers=headers, params=kw)\n",
    "#print(response.content)"
   ]
  },
  {
   "cell_type": "markdown",
   "metadata": {},
   "source": [
    "网页的返回类型实际上是 str 类型，但是它很特殊，是 JSON 格式的\n"
   ]
  },
  {
   "cell_type": "code",
   "execution_count": null,
   "metadata": {},
   "outputs": [],
   "source": [
    "import json\n",
    "r = requests.get(\"http://httpbin.org/get\")\n",
    "print(type(r.text))\n",
    "print(r.json())\n",
    "print(type(r.json()))"
   ]
  },
  {
   "cell_type": "code",
   "execution_count": null,
   "metadata": {},
   "outputs": [],
   "source": [
    "headers = {\"user-agent\": 'Mozilla/5.0 (Windows NT 10.0; Win64; x64) AppleWebKit/537.36 (KHTML, like Gecko) Chrome/86.0.4240.198 Safari/537.36'}\n",
    "response = requests.get('https://www.zhihu.com/explore', headers=headers)\n",
    "result = re.findall(\"(ExploreSpecialCard-contentTitle|ExploreRoundtableCard\u0002questionTitle).*?>(.*?)</a>\", response.text)\n",
    "print([i[1] for i in result])\n"
   ]
  },
  {
   "cell_type": "code",
   "execution_count": null,
   "metadata": {},
   "outputs": [],
   "source": [
    "url = 'https://www.baidu.com'\n",
    "req = requests.get(url)\n",
    "print(req.cookies)  # 响应的cookies\n",
    "for key, value in req.cookies.items():\n",
    "    print(f\"{key} = {value}\")\n"
   ]
  },
  {
   "cell_type": "code",
   "execution_count": null,
   "metadata": {},
   "outputs": [],
   "source": [
    "url = 'http://www.tipdm.com/tipdm/index.html'  # 设置超时时间为2\n",
    "print('超时时间为2:', requests.get(url, timeout=2))\n",
    "# 超时时间过短将会报错\n",
    "requests.get(url, timeout=0.1)  # 备注时间为0.001"
   ]
  },
  {
   "cell_type": "markdown",
   "metadata": {},
   "source": [
    " POST 参数说明：\n",
    "post(url, data=None, json=None, **kwargs):\n",
    "❖ URL: 待请求的网址\n",
    "❖ data ：(可选) 字典，元组列表，字节或类似文件的对象，以在 Request 的正文中发送\n",
    "❖ json: (可选)JSON 数据，发送到 Request 类的主体中。\n",
    "❖ **kwargs: 可变长关键字参数\n"
   ]
  },
  {
   "cell_type": "code",
   "execution_count": null,
   "metadata": {},
   "outputs": [],
   "source": [
    "payload = {'key1': 'value1', 'key2': 'value2'}\n",
    "req = requests.post(\"http://httpbin.org/post\", data=payload)\n",
    "print(req.text)"
   ]
  },
  {
   "cell_type": "code",
   "execution_count": null,
   "metadata": {},
   "outputs": [],
   "source": [
    "url = 'http://httpbin.org/post'\n",
    "payload = {'some': 'data'}\n",
    "req1 = requests.post(url, data=json.dumps(payload))\n",
    "req2 = requests.post(url, json=payload)\n",
    "print(req1.text)\n",
    "print(req2.text)\n"
   ]
  },
  {
   "cell_type": "code",
   "execution_count": null,
   "metadata": {},
   "outputs": [],
   "source": [
    "kw = \"6666\"\n",
    "ps = {\"kw\": kw}\n",
    "# 准备伪造请求\n",
    "headers = { \"User-Agent\": \"Mozilla/5.0 (Windows NT 10.0; Win64; x64) AppleWebKit/537.36 (KHTML, like Gecko) Chrome/85.0.4183.83 Safari/537.36 Edg/85.0.564.41\"}  \n",
    "response=requests.post(\"https://fanyi.baidu.com/sug\", data = ps)\n",
    "print(response.content.decode(\"unicode_escape\"))\n"
   ]
  }
 ],
 "metadata": {
  "interpreter": {
   "hash": "f794c57ac12a691c59266ecaadb6a5e7aa7da75beb81664e7b61736c07e9b51b"
  },
  "kernelspec": {
   "display_name": "Python 3.6.5 64-bit",
   "name": "python3"
  },
  "language_info": {
   "codemirror_mode": {
    "name": "ipython",
    "version": 3
   },
   "file_extension": ".py",
   "mimetype": "text/x-python",
   "name": "python",
   "nbconvert_exporter": "python",
   "pygments_lexer": "ipython3",
   "version": "3.8.10"
  },
  "orig_nbformat": 4
 },
 "nbformat": 4,
 "nbformat_minor": 2
}
