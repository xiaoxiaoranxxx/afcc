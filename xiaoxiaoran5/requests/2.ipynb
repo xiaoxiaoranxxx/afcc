{
 "cells": [
  {
   "cell_type": "code",
   "execution_count": 1,
   "source": [
    "import requests"
   ],
   "outputs": [],
   "metadata": {}
  },
  {
   "cell_type": "code",
   "execution_count": 3,
   "source": [
    "ua = 'Mozilla/5.0'\r\n",
    "headers = {'user-agent': ua}\r\n",
    "r = requests.get('http://httpbin.org/headers', headers=headers)\r\n",
    "print(r.json())"
   ],
   "outputs": [
    {
     "output_type": "stream",
     "name": "stdout",
     "text": [
      "{'headers': {'Accept': '*/*', 'Accept-Encoding': 'gzip, deflate', 'Host': 'httpbin.org', 'User-Agent': 'Mozilla/5.0', 'X-Amzn-Trace-Id': 'Root=1-612720c1-35a79c19630981df514f5170'}}\n"
     ]
    }
   ],
   "metadata": {}
  },
  {
   "cell_type": "code",
   "execution_count": 4,
   "source": [
    "cookies = dict(userid='123456', toen='qwertyuiop')\r\n",
    "r = requests.get('http://httpbin.org/cookies', cookies=cookies)\r\n",
    "print(r.json())"
   ],
   "outputs": [
    {
     "output_type": "stream",
     "name": "stdout",
     "text": [
      "{'cookies': {'toen': 'qwertyuiop', 'userid': '123456'}}\n"
     ]
    }
   ],
   "metadata": {}
  },
  {
   "cell_type": "code",
   "execution_count": 5,
   "source": [
    "r = requests.get('http://httpbin.org/basic-auth/xiao/123456',auth=('xiao', '123456'))\r\n",
    "print(r.json())"
   ],
   "outputs": [
    {
     "output_type": "stream",
     "name": "stdout",
     "text": [
      "{'authenticated': True, 'user': 'xiao'}\n"
     ]
    }
   ],
   "metadata": {}
  },
  {
   "cell_type": "code",
   "execution_count": 9,
   "source": [
    "s = requests.Session()\r\n",
    "s.get('http://httpbin.org/cookies/set/xiao/1111')\r\n",
    "r = s.get('http://httpbin.org/cookies')\r\n",
    "print(r.json())\r\n",
    "\r\n",
    "print(requests.get('http://httpbin.org/ip').json())\r\n",
    "#print(requests.get('http://httpbin.org/ip',proxies={'http':'http://iguye.com:41801'}.json())"
   ],
   "outputs": [
    {
     "output_type": "stream",
     "name": "stdout",
     "text": [
      "{'cookies': {'xiao': '1111'}}\n",
      "{'origin': '117.172.173.111'}\n"
     ]
    }
   ],
   "metadata": {}
  },
  {
   "cell_type": "code",
   "execution_count": 11,
   "source": [
    "r = requests.post('http://httpbin.org/post', data={'a': '1'})\r\n",
    "print(r.json())"
   ],
   "outputs": [
    {
     "output_type": "stream",
     "name": "stdout",
     "text": [
      "{'args': {}, 'data': '', 'files': {}, 'form': {'a': '1'}, 'headers': {'Accept': '*/*', 'Accept-Encoding': 'gzip, deflate', 'Content-Length': '3', 'Content-Type': 'application/x-www-form-urlencoded', 'Host': 'httpbin.org', 'User-Agent': 'python-requests/2.25.1', 'X-Amzn-Trace-Id': 'Root=1-61272150-223471db6d47abb2072013ee'}, 'json': None, 'origin': '117.172.173.111', 'url': 'http://httpbin.org/post'}\n"
     ]
    }
   ],
   "metadata": {}
  }
 ],
 "metadata": {
  "orig_nbformat": 4,
  "language_info": {
   "name": "python",
   "version": "3.6.5",
   "mimetype": "text/x-python",
   "codemirror_mode": {
    "name": "ipython",
    "version": 3
   },
   "pygments_lexer": "ipython3",
   "nbconvert_exporter": "python",
   "file_extension": ".py"
  },
  "kernelspec": {
   "name": "python3",
   "display_name": "Python 3.6.5 64-bit"
  },
  "interpreter": {
   "hash": "f794c57ac12a691c59266ecaadb6a5e7aa7da75beb81664e7b61736c07e9b51b"
  }
 },
 "nbformat": 4,
 "nbformat_minor": 2
}