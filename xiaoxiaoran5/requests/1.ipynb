{
 "cells": [
  {
   "cell_type": "code",
   "execution_count": 42,
   "source": [
    "import requests\r\n",
    "import re\r\n",
    "import json"
   ],
   "outputs": [],
   "metadata": {}
  },
  {
   "cell_type": "markdown",
   "source": [
    "查看结果类型"
   ],
   "metadata": {}
  },
  {
   "cell_type": "code",
   "execution_count": 20,
   "source": [
    "url = 'http://www.tipdm.com/tipdm/index.html'\r\n",
    "rqg = requests.get(url=url)\r\n",
    "#requests.post(url=url)\r\n",
    "print(type(rqg))\r\n",
    "print(rqg.status_code)\r\n",
    "print(rqg.encoding)\r\n"
   ],
   "outputs": [
    {
     "output_type": "stream",
     "name": "stdout",
     "text": [
      "<class 'requests.models.Response'>\n",
      "200\n",
      "utf-8\n"
     ]
    }
   ],
   "metadata": {}
  },
  {
   "cell_type": "code",
   "execution_count": 21,
   "source": [
    "print(rqg.headers)"
   ],
   "outputs": [
    {
     "output_type": "stream",
     "name": "stdout",
     "text": [
      "{'Server': 'nginx', 'Date': 'Thu, 26 Aug 2021 03:22:04 GMT', 'Content-Type': 'text/html; charset=utf-8', 'Transfer-Encoding': 'chunked', 'Connection': 'keep-alive', 'Vary': 'Accept-Encoding', 'ETag': 'W/\"15693-1585297141000\"', 'Last-Modified': 'Fri, 27 Mar 2020 08:19:01 GMT', 'Content-Encoding': 'gzip'}\n"
     ]
    }
   ],
   "metadata": {}
  },
  {
   "cell_type": "code",
   "execution_count": 45,
   "source": [
    "#print(rqg.text)"
   ],
   "outputs": [],
   "metadata": {}
  },
  {
   "cell_type": "code",
   "execution_count": 23,
   "source": [
    "r = requests.get('http://httpbin.org/get')\r\n",
    "print(r.status_code)\r\n",
    "print(r.reason)\r\n",
    "print(r.text)\r\n"
   ],
   "outputs": [
    {
     "output_type": "stream",
     "name": "stdout",
     "text": [
      "200\n",
      "OK\n",
      "{\n",
      "  \"args\": {}, \n",
      "  \"headers\": {\n",
      "    \"Accept\": \"*/*\", \n",
      "    \"Accept-Encoding\": \"gzip, deflate\", \n",
      "    \"Host\": \"httpbin.org\", \n",
      "    \"User-Agent\": \"python-requests/2.25.1\", \n",
      "    \"X-Amzn-Trace-Id\": \"Root=1-612708de-4845f54a4176bbfb21ce1d5b\"\n",
      "  }, \n",
      "  \"origin\": \"117.172.173.111\", \n",
      "  \"url\": \"http://httpbin.org/get\"\n",
      "}\n",
      "\n"
     ]
    }
   ],
   "metadata": {}
  },
  {
   "cell_type": "code",
   "execution_count": 26,
   "source": [
    "response = requests.get('https://www.zhihu.com/explore')\r\n",
    "print(f\"当前请求的响应状态码为：{response.status_code}\")\r\n",
    "#print(response.text)\r\n"
   ],
   "outputs": [
    {
     "output_type": "stream",
     "name": "stdout",
     "text": [
      "当前请求的响应状态码为：403\n"
     ]
    }
   ],
   "metadata": {}
  },
  {
   "cell_type": "markdown",
   "source": [
    "### 这里我们加入了 headers 信息，其中包含了 User-Agent 字段信息"
   ],
   "metadata": {}
  },
  {
   "cell_type": "code",
   "execution_count": 25,
   "source": [
    "headers = {\"user-agent\": 'Mozilla/5.0 (Windows NT 10.0; Win64; x64) AppleWebKit/537.36 (KHTML, like Gecko) Chrome/86.0.4240.198 Safari/537.36'}\r\n",
    "response = requests.get('https://www.zhihu.com/explore', headers=headers)\r\n",
    "print(f\"当前请求的响应状态码为：{response.status_code}\")"
   ],
   "outputs": [
    {
     "output_type": "stream",
     "name": "stdout",
     "text": [
      "当前请求的响应状态码为：200\n"
     ]
    }
   ],
   "metadata": {}
  },
  {
   "cell_type": "markdown",
   "source": [
    "### 这是目标 url = 'https://www.baidu.com/s?wd=python"
   ],
   "metadata": {}
  },
  {
   "cell_type": "code",
   "execution_count": 28,
   "source": [
    "url = 'https://www.baidu.com/s?'\r\n",
    "kw={'wd':'python'}\r\n",
    "response = requests.get(url, headers=headers, params=kw)\r\n",
    "#print(response.content)"
   ],
   "outputs": [],
   "metadata": {}
  },
  {
   "cell_type": "markdown",
   "source": [
    "网页的返回类型实际上是 str 类型，但是它很特殊，是 JSON 格式的\r\n"
   ],
   "metadata": {}
  },
  {
   "cell_type": "code",
   "execution_count": 34,
   "source": [
    "import json\r\n",
    "r = requests.get(\"http://httpbin.org/get\")\r\n",
    "print(type(r.text))\r\n",
    "print(r.json())\r\n",
    "print(type(r.json()))"
   ],
   "outputs": [
    {
     "output_type": "stream",
     "name": "stdout",
     "text": [
      "<class 'str'>\n",
      "{'args': {}, 'headers': {'Accept': '*/*', 'Accept-Encoding': 'gzip, deflate', 'Host': 'httpbin.org', 'User-Agent': 'python-requests/2.25.1', 'X-Amzn-Trace-Id': 'Root=1-612713c4-237aa8aa7fd17fdc0c88cd5f'}, 'origin': '117.172.173.111', 'url': 'http://httpbin.org/get'}\n",
      "<class 'dict'>\n"
     ]
    }
   ],
   "metadata": {}
  },
  {
   "cell_type": "code",
   "execution_count": 40,
   "source": [
    "headers = {\"user-agent\": 'Mozilla/5.0 (Windows NT 10.0; Win64; x64) AppleWebKit/537.36 (KHTML, like Gecko) Chrome/86.0.4240.198 Safari/537.36'}\r\n",
    "response = requests.get('https://www.zhihu.com/explore', headers=headers)\r\n",
    "result = re.findall(\"(ExploreSpecialCard-contentTitle|ExploreRoundtableCard\u0002questionTitle).*?>(.*?)</a>\", response.text)\r\n",
    "print([i[1] for i in result])\r\n"
   ],
   "outputs": [
    {
     "output_type": "stream",
     "name": "stdout",
     "text": [
      "['作为一个大学生，你的寝室桌面是什么样子的？', '大学宿舍怎么在有限的条件内提高生活质量？', '宿舍拖把哪款好用？', '美疾控中心：美国多数地区实际感染新冠人数或10倍于官方数据，你怎么看？真实的情况究竟如何？', '到底谁是新冠疫情的“零号病人”？美国疫情还藏着哪些秘密 ？', '美国病毒溯源调查竟靠情报部门？', '腰肌劳损/背部筋膜炎/背痛怎么判断和康复？', '腰肌劳损/背部筋膜炎/背痛怎么判断和康复？', '腰突一定要做的简单又有效的康复动作！', '你选择成为一名医生的初衷是什么？', '你选择成为一名医生的初衷是什么？', '儿科医生：“因为爱你，不愿再见你”']\n"
     ]
    }
   ],
   "metadata": {}
  },
  {
   "cell_type": "code",
   "execution_count": 38,
   "source": [
    "url = 'https://www.baidu.com'\r\n",
    "req = requests.get(url)\r\n",
    "print(req.cookies)  # 响应的cookies\r\n",
    "for key, value in req.cookies.items():\r\n",
    "    print(f\"{key} = {value}\")\r\n"
   ],
   "outputs": [
    {
     "output_type": "stream",
     "name": "stdout",
     "text": [
      "<RequestsCookieJar[<Cookie BDORZ=27315 for .baidu.com/>]>\n",
      "BDORZ = 27315\n"
     ]
    }
   ],
   "metadata": {}
  },
  {
   "cell_type": "code",
   "execution_count": 39,
   "source": [
    "url = 'http://www.tipdm.com/tipdm/index.html'  # 设置超时时间为2\r\n",
    "print('超时时间为2:', requests.get(url, timeout=2))\r\n",
    "# 超时时间过短将会报错\r\n",
    "requests.get(url, timeout=0.1)  # 备注时间为0.001"
   ],
   "outputs": [
    {
     "output_type": "stream",
     "name": "stdout",
     "text": [
      "超时时间为2: <Response [200]>\n"
     ]
    },
    {
     "output_type": "execute_result",
     "data": {
      "text/plain": [
       "<Response [200]>"
      ]
     },
     "metadata": {},
     "execution_count": 39
    }
   ],
   "metadata": {}
  },
  {
   "cell_type": "markdown",
   "source": [
    " POST 参数说明：\r\n",
    "post(url, data=None, json=None, **kwargs):\r\n",
    "❖ URL: 待请求的网址\r\n",
    "❖ data ：(可选) 字典，元组列表，字节或类似文件的对象，以在 Request 的正文中发送\r\n",
    "❖ json: (可选)JSON 数据，发送到 Request 类的主体中。\r\n",
    "❖ **kwargs: 可变长关键字参数\r\n"
   ],
   "metadata": {}
  },
  {
   "cell_type": "code",
   "execution_count": 41,
   "source": [
    "payload = {'key1': 'value1', 'key2': 'value2'}\r\n",
    "req = requests.post(\"http://httpbin.org/post\", data=payload)\r\n",
    "print(req.text)"
   ],
   "outputs": [
    {
     "output_type": "stream",
     "name": "stdout",
     "text": [
      "{\n",
      "  \"args\": {}, \n",
      "  \"data\": \"\", \n",
      "  \"files\": {}, \n",
      "  \"form\": {\n",
      "    \"key1\": \"value1\", \n",
      "    \"key2\": \"value2\"\n",
      "  }, \n",
      "  \"headers\": {\n",
      "    \"Accept\": \"*/*\", \n",
      "    \"Accept-Encoding\": \"gzip, deflate\", \n",
      "    \"Content-Length\": \"23\", \n",
      "    \"Content-Type\": \"application/x-www-form-urlencoded\", \n",
      "    \"Host\": \"httpbin.org\", \n",
      "    \"User-Agent\": \"python-requests/2.25.1\", \n",
      "    \"X-Amzn-Trace-Id\": \"Root=1-612719b5-70a02b4b112424841326da46\"\n",
      "  }, \n",
      "  \"json\": null, \n",
      "  \"origin\": \"117.172.173.111\", \n",
      "  \"url\": \"http://httpbin.org/post\"\n",
      "}\n",
      "\n"
     ]
    }
   ],
   "metadata": {}
  },
  {
   "cell_type": "code",
   "execution_count": 44,
   "source": [
    "url = 'http://httpbin.org/post'\r\n",
    "payload = {'some': 'data'}\r\n",
    "req1 = requests.post(url, data=json.dumps(payload))\r\n",
    "req2 = requests.post(url, json=payload)\r\n",
    "print(req1.text)\r\n",
    "print(req2.text)\r\n"
   ],
   "outputs": [
    {
     "output_type": "stream",
     "name": "stdout",
     "text": [
      "{\n",
      "  \"args\": {}, \n",
      "  \"data\": \"{\\\"some\\\": \\\"data\\\"}\", \n",
      "  \"files\": {}, \n",
      "  \"form\": {}, \n",
      "  \"headers\": {\n",
      "    \"Accept\": \"*/*\", \n",
      "    \"Accept-Encoding\": \"gzip, deflate\", \n",
      "    \"Content-Length\": \"16\", \n",
      "    \"Host\": \"httpbin.org\", \n",
      "    \"User-Agent\": \"python-requests/2.25.1\", \n",
      "    \"X-Amzn-Trace-Id\": \"Root=1-61271aee-5cf5bed4112cd3175110ccf1\"\n",
      "  }, \n",
      "  \"json\": {\n",
      "    \"some\": \"data\"\n",
      "  }, \n",
      "  \"origin\": \"117.172.173.111\", \n",
      "  \"url\": \"http://httpbin.org/post\"\n",
      "}\n",
      "\n",
      "{\n",
      "  \"args\": {}, \n",
      "  \"data\": \"{\\\"some\\\": \\\"data\\\"}\", \n",
      "  \"files\": {}, \n",
      "  \"form\": {}, \n",
      "  \"headers\": {\n",
      "    \"Accept\": \"*/*\", \n",
      "    \"Accept-Encoding\": \"gzip, deflate\", \n",
      "    \"Content-Length\": \"16\", \n",
      "    \"Content-Type\": \"application/json\", \n",
      "    \"Host\": \"httpbin.org\", \n",
      "    \"User-Agent\": \"python-requests/2.25.1\", \n",
      "    \"X-Amzn-Trace-Id\": \"Root=1-61271aee-42d7c2792aac6eb44fc27994\"\n",
      "  }, \n",
      "  \"json\": {\n",
      "    \"some\": \"data\"\n",
      "  }, \n",
      "  \"origin\": \"117.172.173.111\", \n",
      "  \"url\": \"http://httpbin.org/post\"\n",
      "}\n",
      "\n"
     ]
    }
   ],
   "metadata": {}
  },
  {
   "cell_type": "code",
   "execution_count": 50,
   "source": [
    "kw = \"6666\"\r\n",
    "ps = {\"kw\": kw}\r\n",
    "# 准备伪造请求\r\n",
    "headers = { \"User-Agent\": \"Mozilla/5.0 (Windows NT 10.0; Win64; x64) AppleWebKit/537.36 (KHTML, like Gecko) Chrome/85.0.4183.83 Safari/537.36 Edg/85.0.564.41\"}  \r\n",
    "response=requests.post(\"https://fanyi.baidu.com/sug\", data = ps)\r\n",
    "print(response.content.decode(\"unicode_escape\"))\r\n"
   ],
   "outputs": [
    {
     "output_type": "stream",
     "name": "stdout",
     "text": [
      "{\"errno\":0,\"data\":[]}\n"
     ]
    }
   ],
   "metadata": {}
  }
 ],
 "metadata": {
  "orig_nbformat": 4,
  "language_info": {
   "name": "python",
   "version": "3.6.5",
   "mimetype": "text/x-python",
   "codemirror_mode": {
    "name": "ipython",
    "version": 3
   },
   "pygments_lexer": "ipython3",
   "nbconvert_exporter": "python",
   "file_extension": ".py"
  },
  "kernelspec": {
   "name": "python3",
   "display_name": "Python 3.6.5 64-bit"
  },
  "interpreter": {
   "hash": "f794c57ac12a691c59266ecaadb6a5e7aa7da75beb81664e7b61736c07e9b51b"
  }
 },
 "nbformat": 4,
 "nbformat_minor": 2
}