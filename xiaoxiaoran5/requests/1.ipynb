{
 "cells": [
  {
   "cell_type": "code",
   "execution_count": 42,
   "source": [
    "import requests\r\n",
    "import re\r\n",
    "import json"
   ],
   "outputs": [],
   "metadata": {}
  },
  {
   "cell_type": "markdown",
   "source": [
    "查看结果类型"
   ],
   "metadata": {}
  },
  {
   "cell_type": "code",
   "execution_count": 20,
   "source": [
    "url = 'http://www.tipdm.com/tipdm/index.html'\r\n",
    "rqg = requests.get(url=url)\r\n",
    "#requests.post(url=url)\r\n",
    "print(type(rqg))\r\n",
    "print(rqg.status_code)\r\n",
    "print(rqg.encoding)\r\n"
   ],
   "outputs": [
    {
     "output_type": "stream",
     "name": "stdout",
     "text": [
      "<class 'requests.models.Response'>\n",
      "200\n",
      "utf-8\n"
     ]
    }
   ],
   "metadata": {}
  },
  {
   "cell_type": "code",
   "execution_count": 21,
   "source": [
    "print(rqg.headers)"
   ],
   "outputs": [
    {
     "output_type": "stream",
     "name": "stdout",
     "text": [
      "{'Server': 'nginx', 'Date': 'Thu, 26 Aug 2021 03:22:04 GMT', 'Content-Type': 'text/html; charset=utf-8', 'Transfer-Encoding': 'chunked', 'Connection': 'keep-alive', 'Vary': 'Accept-Encoding', 'ETag': 'W/\"15693-1585297141000\"', 'Last-Modified': 'Fri, 27 Mar 2020 08:19:01 GMT', 'Content-Encoding': 'gzip'}\n"
     ]
    }
   ],
   "metadata": {}
  },
  {
   "cell_type": "code",
   "execution_count": 22,
   "source": [
    "print(rqg.text)"
   ],
   "outputs": [
    {
     "output_type": "stream",
     "name": "stdout",
     "text": [
      "<!DOCTYPE HTML>\n",
      "<html>\n",
      "<head>\n",
      "<meta name=\"viewport\" content=\"width=device-width, initial-scale=1.0\">\n",
      "<meta http-equiv=\"Content-Type\" content=\"text/html; charset=utf-8\" />\n",
      "<title>泰迪科技-专注于大数据技术研发及知识传播</title>\n",
      "<meta http-equiv=\"keywords\" content=\"提供包括数据挖掘工程咨询、培训服务以及商业数据挖掘软件的开发和实施，应用领域包括教学科研、实验室管理、机械工业、土木工程、生物医学、航空航天、 汽车、电子产品、虚拟仪器、金融、电信\"/>\n",
      "<meta http-equiv=\"description\" content=\"\"/>\n",
      "<script src=\"/r/cms/jquery.js\" type=\"text/javascript\"></script>\n",
      "<script src=\"/r/cms/front.js\" type=\"text/javascript\"></script>\n",
      "<script type=\"text/javascript\" src=\"/r/cms/tipdmcom/tipdmcom/js/jquery.SuperSlide.js\"></script>\n",
      "<link type=\"text/css\" rel=\"stylesheet\" href=\"/r/cms/tipdmcom/tipdmcom/css/tip_home.css\" />\n",
      "<link type=\"text/css\" rel=\"stylesheet\" href=\"/r/cms/tipdmcom/tipdmcom/css/tip_index.css\" />\n",
      "<link type=\"text/css\" rel=\"stylesheet\" href=\"/r/cms/tipdmcom/tipdmcom/css/iconfont.css\" />\n",
      "\n",
      "<!--[if lt IE 9]> \n",
      "<script src=\"/r/cms/tipdmcom/tipdmcom/js/html5shiv.min.js\"></script>\n",
      "<script src=\"/r/cms/tipdmcom/tipdmcom/js/respond.min.js\"></script>\n",
      "<![endif]-->\n",
      "<script type=\"text/javascript\">\n",
      "$(function() {\n",
      "\tCms.siteFlow(\"\", location.href, document.referrer, \"true\");\n",
      "\t$.cookie(\"_site_id_cookie\",\"3\",{path: '' });\n",
      "});\n",
      "</script>\n",
      "</head>\n",
      "<body>\n",
      "<link rel=\"stylesheet\" type=\"text/css\" href=\"/r/cms/tipdmcom/tipdmcom/css/login.css\" />\n",
      "<script>\n",
      "function qkeypress(){\n",
      "  var q=$(\"input[name=q]\");\n",
      "  if(q.val().trim()!=\"\"){\n",
      "    $(\"input[name=q]\").autocomplete(\"enable\");\n",
      "  }else{\n",
      "    $(\"input[name=q]\").autocomplete(\"disable\");\n",
      "  }\n",
      "}\n",
      "</script>\n",
      "\n",
      "<header class=\"header rel\">\n",
      "  <div class=\"container clearfix\"> <a class=\"logo\" href=\"/\"><img src=\"/r/cms/tipdmcom/tipdmcom/tip/logo.png\" srcset=\"/r/cms/tipdmcom/tipdmcom/tip/logo@2x.png 2x\" ></a> \n",
      "<nav class=\"nav\">\n",
      "  <ul id=\"menu\" class=\"menu\">\n",
      "        <li class=\" on\"><a href=\"/\">首页</a></li>\n",
      "    <li><a href=\"/tipdm/cpzx/\" target=\"\">产品中心</a></li>\n",
      "    <li><a href=\"http://www.tipdm.com:80/xkjs/index.jhtml\" target=\"\">学科建设</a></li>\n",
      "    <li><a href=\"http://www.tipdm.com:80/pxrz/index.jhtml\" target=\"\">培训认证</a></li>\n",
      "    <li><a href=\"http://www.tipdm.com:80/qyyy/index.jhtml\" target=\"\">企业应用</a></li>\n",
      "    <li><a href=\"http://www.tipdm.com:80/xqhz/index.jhtml\" target=\"\">校企合作</a></li>\n",
      "    <li><a href=\"http://www.tipdm.com:80/xwzx/index.jhtml\" target=\"\">新闻中心</a></li>\n",
      "    <li><a href=\"/tipdm/gywm/\" target=\"\">关于我们</a></li>\n",
      "  </ul>\n",
      "</nav>\n",
      "\n",
      "\n",
      "\n",
      "\n",
      "    <div class=\"header-r\">\n",
      "      <div id=\"search\" class=\"search\">\n",
      "        <input type=\"text\" name=\"q\" placeholder=\"请输入您要查找的内容\" value=\"\" maxlength=\"50\" autocomplete=\"off\" class=\"searchCon\" id=\"searchInput\" onKeyDown=\"searchEnter()\">\n",
      "        <a id=\"searchBtn\" class=\"searchMenu\"><i class=\"iconfont icon-sousuo\"></i></a> </div>\n",
      "      <script language=\"javascript\" type=\"text/javascript\">\n",
      "        \n",
      "      $(\"#searchBtn\").click(function(){\n",
      "        sKey();\n",
      "      });\n",
      "      \n",
      "        function sKey(){\n",
      "        var s = $(\"#search\").hasClass(\"searchOn\");\n",
      "        var t = $(\".searchCon\").val().trim();\n",
      "        if( t==\"\" && s==0 || t==\"请输入您要查找的内容\"){\n",
      "          searchF(0);\n",
      "          $(\".searchCon\").focus();\n",
      "        }else if( s==1 && t !=\"\" ){\n",
      "          window.location.href = \"/search.jspx?q=\"+encodeURI(t);\n",
      "        }else{\n",
      "          searchF(1);\n",
      "        }\n",
      "      }\n",
      "      \n",
      "      \n",
      "      $(\".searchCon\").focusout(function(){\n",
      "        var t = $(\".searchCon\").val();\n",
      "        if(t==\"\"){\n",
      "          searchF(1);\n",
      "        }       \n",
      "      }); \n",
      "      \n",
      "      function searchF(s){\n",
      "        if(s==0){\n",
      "          $(\"#search\").addClass(\"searchOn\");\n",
      "        }\n",
      "        if(s==1){\n",
      "          $(\"#search\").removeClass(\"searchOn\");\n",
      "        }\n",
      "      };\n",
      "      \n",
      "      function searchEnter(){\n",
      "          var event = window.event || arguments.callee.caller.arguments[0];\n",
      "        if(event.keyCode == 13){\n",
      "          sKey();\n",
      "        }\n",
      "      };\n",
      "      \n",
      "    </script> \n",
      "    </div>\n",
      "  </div>\n",
      "</header><div class=\"topBanner\">\n",
      "  <div class=\"bd\">\n",
      "    <ul>\n",
      "            <li><a href=\"http://\" target=\"_blank\"><img src=\"/u/cms/tipdmcom/201907/011429548lgf.jpg\"/></a></li>\n",
      "\n",
      "    </ul>\n",
      "  </div>\n",
      "  <div class=\"hd\"><ul></ul></div>\n",
      "  <a class=\"prev\" href=\"javascript:void(0)\">&lt;</a>\n",
      "  <a class=\"next\" href=\"javascript:void(0)\">&gt;</a>\n",
      "</div>\n",
      "<script>\n",
      "jQuery(\".topBanner\").slide({ titCell:\".hd ul\", mainCell:\".bd ul\", effect:\"leftLoop\", vis:\"auto\", autoPlay:true, autoPage:true, trigger:\"click\" });\n",
      "</script><div class=\"container mt16\"> <section class=\"shortCut bgw\">\n",
      "  <ul class=\"clearfix\">\n",
      "    <li class=\"pt\"><a href=\"/HB/index.jhtml\" target=\"_blank\">\n",
      "      <div class=\"img\"><i class=\"iconfont icon-s\"></i></div>\n",
      "      <span>大数据建模平台</span></a></li>\n",
      "      \n",
      "    <li class=\"tdb\"><a href=\"/tdb/index.jhtml\" target=\"_blank\">\n",
      "      <div class=\"img\"><i class=\"iconfont icon-teddy\"></i></div>\n",
      "\t\t<span>泰迪杯</span><font id=\"tdbNum\"></font></a></li>\n",
      "   \n",
      "    <li class=\"fzjx\"><a href=\"/gxjjfa/index.jhtml\" target=\"_blank\">\n",
      "      <div class=\"img\"><i class=\"iconfont icon-taojian\"></i></div>\n",
      "      <span>大数据辅助教学</span></a></li>\n",
      "\n",
      "    <li class=\"px\"><a href=\"/tipdm/pxdt/20180822/1252.html\" target=\"_blank\">\n",
      "      <div class=\"img\"><i class=\"iconfont icon-peixun\"></i></div>\n",
      "      <span>Python集训</span></a></li>\n",
      "  </ul>\n",
      "</section>\n",
      "<script language=\"javascript\" type=\"text/javascript\">\n",
      "$(function(){\n",
      "var myDate = new Date();\n",
      "if(myDate.getMonth()>10){$(\"#tdbNum\").text(myDate.getFullYear()+1);}else{$(\"#tdbNum\").text(myDate.getFullYear());}\n",
      "});</script>\n",
      "  <section class=\"news clearfix bgea mt10\"> \n",
      "    <!--  解决方案--> \n",
      "    <div id=\"dxal\" class=\"newsBlock fl\">\n",
      "      <div class=\"hd clearfix\">\n",
      "        <h3><a href=\"/tipdm/gxjjfa/\">解决方案</a></h3>\n",
      "<a class=\"moreA\" href=\"/tipdm/gxjjfa/\">更多&gt;&gt;</a>\n",
      "      </div>\n",
      "      <div class=\"bd\"> \n",
      "        <ul class=\"txtList soList\">\n",
      "        </ul>\n",
      "         </div>\n",
      "    </div>\n",
      "    \n",
      "    <!--    泰迪动态--> \n",
      "    <div id=\"tddt\" class=\"newsBlock fr\">\n",
      "      <div class=\"hd clearfix\">\n",
      "        <h3><a href=\"http://www.tipdm.com:80/gsxw/index.jhtml\">公司新闻</a></h3><a class=\"moreA\" href=\"http://www.tipdm.com:80/gsxw/index.jhtml\">更多&gt;&gt;</a>\n",
      "      </div>\n",
      "      <div class=\"bd\"> \n",
      "        <ul class=\"txtList\">\n",
      "          <li class=\"imgli\">\n",
      "          <div class=\"imgDiv\"><a href=\"/tipdm/gsxw/20190501/1706.html\" target=\"_blank\"><img src=\"/u/cms/tipdmcom/201907/03105653wni6.jpg\" alt=\"广东工业大学应用数学学院领导莅临泰迪科技参观考察\" /></a></div>\n",
      "          <div class=\"titA\">\n",
      "          <a href=\"/tipdm/gsxw/20190501/1706.html\" title=\"广东工业大学应用数学学院领导莅临泰迪科技参观考察\" target=\"_blank\">广东工业大学应用数学学院领导莅临泰迪科技参观考察</a>\n",
      "          <span class=\"dateTime\">2019-05-01</span></div>\n",
      "          </li>\n",
      "          <li><span class=\"dateTime\">2019-04-26</span> <a href=\"/tipdm/gsxw/20190426/1703.html\" title=\"热烈欢迎重庆第二师范学院老师莅临泰迪考察\" target=\"_blank\">热烈欢迎重庆第二师范学院老师莅临泰迪考察</a> </li>\n",
      "          <li><span class=\"dateTime\">2019-04-19</span> <a href=\"/tipdm/gsxw/20190419/1701.html\" title=\"我司受邀在湖北工程学院开设讲学\" target=\"_blank\">我司受邀在湖北工程学院开设讲学</a> </li>\n",
      "          <li><span class=\"dateTime\">2019-04-15</span> <a href=\"/tipdm/gsxw/20190415/1698.html\" title=\"我司协办的全国高校大数据与人工智能技术双师型骨干师资研修班圆满结束\" target=\"_blank\">我司协办的全国高校大数据与人工智能技术双师型骨干师...</a> </li>\n",
      "        </ul>\n",
      "        <ul class=\"txtList pxList\">\n",
      "          <li><a class=\"nodeName\" href=\"http://www.tipdm.com:80/pxdt/index.jhtml\">[ 培训动态 ]</a><a href=\"/tipdm/pxdt/20190605/1755.html\" title=\"20190728-0810_广州师资培训开班通知（Python与商务数据分析）\" target=\"_blank\">20190728-0810_广州师资培训开班通知（Python与商务数...</a> </li>\n",
      "          <li><a class=\"nodeName\" href=\"http://www.tipdm.com:80/pxdt/index.jhtml\">[ 培训动态 ]</a><a href=\"/tipdm/pxdt/20190605/1754.html\" title=\"20190629-0726_广州师资培训开班通知（电商数据分析与运营项目企业实战）\" target=\"_blank\">20190629-0726_广州师资培训开班通知（电商数据分析与...</a> </li>\n",
      "        </ul>\n",
      "        </div>\n",
      "    </div>\n",
      "     </section>\n",
      "  <!--  合作伙伴-->\n",
      "  <section id=\"hzhb\" class=\"partner bgw\">\n",
      "    <div class=\"hd\">\n",
      "      <h3><a href=\"/tipdm/hzhb/\">合作伙伴</a></h3>\n",
      "    </div>\n",
      "    <div class=\"bd\"> \n",
      "      <ul class=\"imgList clearfix\">\n",
      "        <li> <a href=\"/hzhb/index.jhtml#1786\" target=\"_blank\" title=\"深圳市福田区信访局\"><img src=\"/u/cms/tipdmcom/201907/0810300355bp.jpg\"></a></li>\n",
      "        <li> <a href=\"/hzhb/index.jhtml#1785\" target=\"_blank\" title=\"上海农商银行\"><img src=\"/u/cms/tipdmcom/201907/08102943bbvl.jpg\"></a></li>\n",
      "        <li> <a href=\"/hzhb/index.jhtml#1784\" target=\"_blank\" title=\"轻工业环境保护研究所\"><img src=\"/u/cms/tipdmcom/201907/08102903viac.jpg\"></a></li>\n",
      "        <li> <a href=\"/hzhb/index.jhtml#1783\" target=\"_blank\" title=\"中国电子科技集团公司第五十四研究所\"><img src=\"/u/cms/tipdmcom/201907/08102832v3mx.jpg\"></a></li>\n",
      "        <li> <a href=\"/hzhb/index.jhtml#1782\" target=\"_blank\" title=\"广东粤海水务股份有限公司\"><img src=\"/u/cms/tipdmcom/201907/08102807ur4j.jpg\"></a></li>\n",
      "        <li> <a href=\"/hzhb/index.jhtml#1781\" target=\"_blank\" title=\"中国石油勘探开发研究院\"><img src=\"/u/cms/tipdmcom/201907/08102744nyab.jpg\"></a></li>\n",
      "        <li> <a href=\"/hzhb/index.jhtml#1780\" target=\"_blank\" title=\"广东美的集团股份有限公司\"><img src=\"/u/cms/tipdmcom/201907/08102649wul9.jpg\"></a></li>\n",
      "        <li> <a href=\"/hzhb/index.jhtml#1579\" target=\"_blank\" title=\"广州珠江数码集团股份有限公司\"><img src=\"/u/cms/tipdmcom/201907/081015042q68.jpg\"></a></li>\n",
      "        <li> <a href=\"/hzhb/index.jhtml#1578\" target=\"_blank\" title=\"中国水产科学研究所珠江水产研究所\"><img src=\"/u/cms/tipdmcom/201907/08101921bixd.jpg\"></a></li>\n",
      "        <li> <a href=\"/hzhb/index.jhtml#1577\" target=\"_blank\" title=\"中国电力科学研究院\"><img src=\"/u/cms/tipdmcom/201907/08102254pa94.jpg\"></a></li>\n",
      "        <li> <a href=\"/hzhb/index.jhtml#1576\" target=\"_blank\" title=\"人民邮电出版社\"><img src=\"/u/cms/tipdmcom/201907/081023162bw0.jpg\"></a></li>\n",
      "        <li> <a href=\"/hzhb/index.jhtml#1575\" target=\"_blank\" title=\"中国南方电网\"><img src=\"/u/cms/tipdmcom/201907/08102351tswz.jpg\"></a></li>\n",
      "        <li> <a href=\"/hzhb/index.jhtml#1574\" target=\"_blank\" title=\"北京市信访矛盾分析研究中心\"><img src=\"/u/cms/tipdmcom/201907/08102459whu5.jpg\"></a></li>\n",
      "        <li> <a href=\"/hzhb/index.jhtml#1573\" target=\"_blank\" title=\"交通运输部公路科学研究所\"><img src=\"/u/cms/tipdmcom/201901/10110658f6fw.jpg\"></a></li>\n",
      "        <li> <a href=\"/hzhb/index.jhtml#1571\" target=\"_blank\" title=\"中国水产科学研究所黄海水产研究所\"><img src=\"/u/cms/tipdmcom/201907/081021140aqo.jpg\"></a></li>\n",
      "      </ul>\n",
      "       </div>\n",
      "    <div class=\"fd\"><a id=\"morePn\" class=\"morePn\"><i class=\"iconfont icon-xia\"></i></a></div>\n",
      "  </section>\n",
      "  <script>\n",
      "\t\t$(\"#morePn\").click(\n",
      "\t\t\tfunction(){\n",
      "\t\t\t\t$(\"#morePn i\").toggleClass(\"fa-angle-double-up\");\n",
      "\t\t\t\tvar n = $(\"#hzhb .bd\").hasClass(\"mPartner\")\n",
      "\t\t\t\tif(n==0){\n",
      "\t\t\t\t\t$(\"#hzhb .bd\").addClass(\"mPartner\");\n",
      "\t\t\t\t\t$(\"#morePn i\").removeClass(\"fa-angle-double-down\");\n",
      "\t\t\t\t\t$(\"#morePn i\").addClass(\"fa-angle-double-up\");\n",
      "\t\t\t\t}else{\n",
      "\t\t\t\t\t$(\"#hzhb .bd\").removeClass(\"mPartner\");\n",
      "\t\t\t\t\t$(\"#morePn i\").removeClass(\"fa-angle-double-up\");\n",
      "\t\t\t\t\t$(\"#morePn i\").addClass(\"fa-angle-double-down\");\n",
      "\t\t\t\t}\n",
      "\t\t\t}\n",
      "\t\t);\n",
      "\t</script> \n",
      "</div>\n",
      "<footer class=\"footer\">\n",
      "  <div class=\"webInfo container clearfix\">\n",
      "    <div class=\"webTxt fl\">\n",
      "      <div class=\"slogan\">“专注于大数据挖掘技术研发及知识传播”</div>\n",
      "      <div class=\"footerLink\">\n",
      "        <ul class=\"clearfix\">\n",
      "          <li><a href=\"http://www.tipdm.org/\" target=\"_blank\">BdRace数睿思</a></li>\n",
      "          <li><a href=\"https://edu.tipdm.org/\" target=\"_blank\">泰迪云课堂</a></li>\n",
      "          <li><a href=\"http://mx.tipdm.org/\" target=\"_blank\">模型交易平台</a></li>\n",
      "          <li><a href=\"http://cbda.tipdm.org/\" target=\"_blank\">CBDA国际培训中心</a></li>\n",
      "        </ul>\n",
      "      </div>\n",
      "      <div class=\"Copyright\">Copyright © GuangDong TipDM Intelligent Technology Co.,Ltd. <span id=\"year\">2017</span> &nbsp;&nbsp; 广东泰迪智能科技股份有限公司 &nbsp;&nbsp; <a href=\"http://www.miitbeian.gov.cn\" target=\"_blank\">粤ICP备14098620号-4</a></div>\n",
      "    </div>\n",
      "    <div class=\"weixin fr\"> <img src=\"/r/cms/tipdmcom/tipdmcom/tip/weixin.png\" alt=\"官方公众号\" width=\"120\"> <p>扫描二维码</p><p>关注公众号</p> </div>\n",
      "  </div>\n",
      "</footer>\n",
      "<script type=\"text/javascript\" language=\"javascript\">\n",
      "  $(function(){\n",
      "    var myDate = new Date();\n",
      "    $(\"#year\").text(myDate.getFullYear());\n",
      "  })\n",
      "  \n",
      "   //加入收藏\n",
      "       function AddFavorite(sURL, sTitle) {\n",
      "           sURL =encodeURI(sURL); \n",
      "       try{   \n",
      "          window.external.addFavorite(sURL, sTitle);   \n",
      "       }catch(e) {   \n",
      "          try{   \n",
      "              window.sidebar.addPanel(sTitle, sURL, \"\");   \n",
      "           }catch (e){   \n",
      "              alert(\"您的浏览器不支持自动加入收藏功能，请使用Ctrl+D进行添加，或手动在浏览器里进行设置！\");\n",
      "          }   \n",
      "       }\n",
      "   }\n",
      "   \n",
      "   //设为首页\n",
      "   function SetHome(url){\n",
      "       if (document.all) {\n",
      "          document.body.style.behavior='url(#default#homepage)';\n",
      "             document.body.setHomePage(url);\n",
      "       }else{\n",
      "           alert(\"您的浏览器不支持自动设置页面为首页功能，请您手动在浏览器里设置该页面为首页！\");\n",
      "       }\n",
      "   }\n",
      "</script><div class=\"right-fixed\">\n",
      "  <ul>\n",
      "    <!--\n",
      "    <li class=\"app\">\n",
      "      <div class=\"app-logo\"></div>\n",
      "    </li>\n",
      "    -->\n",
      "    <li class=\"weixin\">\n",
      "      <div class=\"tBox weixin-logo\">\n",
      "        <div class=\"tit\"><font>扫描二维码</font><br>\n",
      "          关注官方公众号</div>\n",
      "        <img src=\"/r/cms/tipdmcom/tipdmcom/tip/weixin.png\"> </div>\n",
      "    </li>\n",
      "    <li class=\"qq\">\n",
      "      <div class=\"tBox qq-logo\">\n",
      "        <div class=\"qqLink\"> \n",
      "\t\t\t<a target=\"_blank\" onclick=\"qqOpen(3514662177)\" href=\"javascript:qqOpen(3514662177)\" title=\"客服一\">客服一</a> \n",
      "        <a target=\"_blank\" onclick=\"qqOpen(2459935724)\" href=\"javascript:qqOpen(2459935724)\" title=\"客服二\">客服二</a> \n",
      "        <a target=\"_blank\" onclick=\"qqOpen(3526567870)\" href=\"javascript:qqOpen(3526567870)\" title=\"客服三\">客服三</a> \n",
      "        <a target=\"_blank\" onclick=\"qqOpen(324020430)\" href=\"javascript:qqOpen(324020430)\" title=\"客服四\">客服四</a> </div>\n",
      "      </div>\n",
      "    </li>\n",
      "    <li class=\"back-top\"></li>\n",
      "  </ul>\n",
      "  <script type=\"text/javascript\">\n",
      "\t$(function(){\n",
      "\t\tvar $body = $(document.body);;\n",
      "\t\tvar $bottomTools = $('.right-fixed');\n",
      "\t\t\t$(window).scroll(function () {\n",
      "\t\t\t\tvar scrollHeight = $(document).height();\n",
      "\t\t\t\tvar scrollTop = $(window).scrollTop();\n",
      "\t\t\t\tscrollTop > 50 ? $(\".back-top\").slideDown(300).css(\"display\",\"block\") : $(\".back-top\").slideUp(300);\t\t\t\n",
      "\t\t\t});\n",
      "\t\t\t$('.back-top').click(function (e) {\n",
      "\t\t\t\te.preventDefault();\n",
      "\t\t\t\t$('html,body').animate({ scrollTop:0});\n",
      "\t\t\t});\n",
      "\t\t\t\n",
      "\t});\n",
      "\t  function qqOpen(qq){\n",
      "    var link = 'http://wpa.qq.com/msgrd?v=3&uin='+qq+'&site=qq&menu=yes';\n",
      "    window.open(link,'_blank');\n",
      "  }\n",
      "  \n",
      "  $('#cs_close').bind('click',function(){\n",
      "    $('#cs_box').hide();\n",
      "  });\n",
      "  </script> \n",
      "</div>\n",
      "</body>\n",
      "</html>\n"
     ]
    }
   ],
   "metadata": {}
  },
  {
   "cell_type": "code",
   "execution_count": 23,
   "source": [
    "r = requests.get('http://httpbin.org/get')\r\n",
    "print(r.status_code)\r\n",
    "print(r.reason)\r\n",
    "print(r.text)\r\n"
   ],
   "outputs": [
    {
     "output_type": "stream",
     "name": "stdout",
     "text": [
      "200\n",
      "OK\n",
      "{\n",
      "  \"args\": {}, \n",
      "  \"headers\": {\n",
      "    \"Accept\": \"*/*\", \n",
      "    \"Accept-Encoding\": \"gzip, deflate\", \n",
      "    \"Host\": \"httpbin.org\", \n",
      "    \"User-Agent\": \"python-requests/2.25.1\", \n",
      "    \"X-Amzn-Trace-Id\": \"Root=1-612708de-4845f54a4176bbfb21ce1d5b\"\n",
      "  }, \n",
      "  \"origin\": \"117.172.173.111\", \n",
      "  \"url\": \"http://httpbin.org/get\"\n",
      "}\n",
      "\n"
     ]
    }
   ],
   "metadata": {}
  },
  {
   "cell_type": "code",
   "execution_count": 26,
   "source": [
    "response = requests.get('https://www.zhihu.com/explore')\r\n",
    "print(f\"当前请求的响应状态码为：{response.status_code}\")\r\n",
    "#print(response.text)\r\n"
   ],
   "outputs": [
    {
     "output_type": "stream",
     "name": "stdout",
     "text": [
      "当前请求的响应状态码为：403\n"
     ]
    }
   ],
   "metadata": {}
  },
  {
   "cell_type": "markdown",
   "source": [
    "### 这里我们加入了 headers 信息，其中包含了 User-Agent 字段信息"
   ],
   "metadata": {}
  },
  {
   "cell_type": "code",
   "execution_count": 25,
   "source": [
    "headers = {\"user-agent\": 'Mozilla/5.0 (Windows NT 10.0; Win64; x64) AppleWebKit/537.36 (KHTML, like Gecko) Chrome/86.0.4240.198 Safari/537.36'}\r\n",
    "response = requests.get('https://www.zhihu.com/explore', headers=headers)\r\n",
    "print(f\"当前请求的响应状态码为：{response.status_code}\")"
   ],
   "outputs": [
    {
     "output_type": "stream",
     "name": "stdout",
     "text": [
      "当前请求的响应状态码为：200\n"
     ]
    }
   ],
   "metadata": {}
  },
  {
   "cell_type": "markdown",
   "source": [
    "### 这是目标 url = 'https://www.baidu.com/s?wd=python"
   ],
   "metadata": {}
  },
  {
   "cell_type": "code",
   "execution_count": 28,
   "source": [
    "url = 'https://www.baidu.com/s?'\r\n",
    "kw={'wd':'python'}\r\n",
    "response = requests.get(url, headers=headers, params=kw)\r\n",
    "#print(response.content)"
   ],
   "outputs": [],
   "metadata": {}
  },
  {
   "cell_type": "markdown",
   "source": [
    "网页的返回类型实际上是 str 类型，但是它很特殊，是 JSON 格式的\r\n"
   ],
   "metadata": {}
  },
  {
   "cell_type": "code",
   "execution_count": 34,
   "source": [
    "import json\r\n",
    "r = requests.get(\"http://httpbin.org/get\")\r\n",
    "print(type(r.text))\r\n",
    "print(r.json())\r\n",
    "print(type(r.json()))"
   ],
   "outputs": [
    {
     "output_type": "stream",
     "name": "stdout",
     "text": [
      "<class 'str'>\n",
      "{'args': {}, 'headers': {'Accept': '*/*', 'Accept-Encoding': 'gzip, deflate', 'Host': 'httpbin.org', 'User-Agent': 'python-requests/2.25.1', 'X-Amzn-Trace-Id': 'Root=1-612713c4-237aa8aa7fd17fdc0c88cd5f'}, 'origin': '117.172.173.111', 'url': 'http://httpbin.org/get'}\n",
      "<class 'dict'>\n"
     ]
    }
   ],
   "metadata": {}
  },
  {
   "cell_type": "code",
   "execution_count": 40,
   "source": [
    "headers = {\"user-agent\": 'Mozilla/5.0 (Windows NT 10.0; Win64; x64) AppleWebKit/537.36 (KHTML, like Gecko) Chrome/86.0.4240.198 Safari/537.36'}\r\n",
    "response = requests.get('https://www.zhihu.com/explore', headers=headers)\r\n",
    "result = re.findall(\"(ExploreSpecialCard-contentTitle|ExploreRoundtableCard\u0002questionTitle).*?>(.*?)</a>\", response.text)\r\n",
    "print([i[1] for i in result])\r\n"
   ],
   "outputs": [
    {
     "output_type": "stream",
     "name": "stdout",
     "text": [
      "['作为一个大学生，你的寝室桌面是什么样子的？', '大学宿舍怎么在有限的条件内提高生活质量？', '宿舍拖把哪款好用？', '美疾控中心：美国多数地区实际感染新冠人数或10倍于官方数据，你怎么看？真实的情况究竟如何？', '到底谁是新冠疫情的“零号病人”？美国疫情还藏着哪些秘密 ？', '美国病毒溯源调查竟靠情报部门？', '腰肌劳损/背部筋膜炎/背痛怎么判断和康复？', '腰肌劳损/背部筋膜炎/背痛怎么判断和康复？', '腰突一定要做的简单又有效的康复动作！', '你选择成为一名医生的初衷是什么？', '你选择成为一名医生的初衷是什么？', '儿科医生：“因为爱你，不愿再见你”']\n"
     ]
    }
   ],
   "metadata": {}
  },
  {
   "cell_type": "code",
   "execution_count": 38,
   "source": [
    "url = 'https://www.baidu.com'\r\n",
    "req = requests.get(url)\r\n",
    "print(req.cookies)  # 响应的cookies\r\n",
    "for key, value in req.cookies.items():\r\n",
    "    print(f\"{key} = {value}\")\r\n"
   ],
   "outputs": [
    {
     "output_type": "stream",
     "name": "stdout",
     "text": [
      "<RequestsCookieJar[<Cookie BDORZ=27315 for .baidu.com/>]>\n",
      "BDORZ = 27315\n"
     ]
    }
   ],
   "metadata": {}
  },
  {
   "cell_type": "code",
   "execution_count": 39,
   "source": [
    "url = 'http://www.tipdm.com/tipdm/index.html'  # 设置超时时间为2\r\n",
    "print('超时时间为2:', requests.get(url, timeout=2))\r\n",
    "# 超时时间过短将会报错\r\n",
    "requests.get(url, timeout=0.1)  # 备注时间为0.001"
   ],
   "outputs": [
    {
     "output_type": "stream",
     "name": "stdout",
     "text": [
      "超时时间为2: <Response [200]>\n"
     ]
    },
    {
     "output_type": "execute_result",
     "data": {
      "text/plain": [
       "<Response [200]>"
      ]
     },
     "metadata": {},
     "execution_count": 39
    }
   ],
   "metadata": {}
  },
  {
   "cell_type": "markdown",
   "source": [
    " POST 参数说明：\r\n",
    "post(url, data=None, json=None, **kwargs):\r\n",
    "❖ URL: 待请求的网址\r\n",
    "❖ data ：(可选) 字典，元组列表，字节或类似文件的对象，以在 Request 的正文中发送\r\n",
    "❖ json: (可选)JSON 数据，发送到 Request 类的主体中。\r\n",
    "❖ **kwargs: 可变长关键字参数\r\n"
   ],
   "metadata": {}
  },
  {
   "cell_type": "code",
   "execution_count": 41,
   "source": [
    "payload = {'key1': 'value1', 'key2': 'value2'}\r\n",
    "req = requests.post(\"http://httpbin.org/post\", data=payload)\r\n",
    "print(req.text)"
   ],
   "outputs": [
    {
     "output_type": "stream",
     "name": "stdout",
     "text": [
      "{\n",
      "  \"args\": {}, \n",
      "  \"data\": \"\", \n",
      "  \"files\": {}, \n",
      "  \"form\": {\n",
      "    \"key1\": \"value1\", \n",
      "    \"key2\": \"value2\"\n",
      "  }, \n",
      "  \"headers\": {\n",
      "    \"Accept\": \"*/*\", \n",
      "    \"Accept-Encoding\": \"gzip, deflate\", \n",
      "    \"Content-Length\": \"23\", \n",
      "    \"Content-Type\": \"application/x-www-form-urlencoded\", \n",
      "    \"Host\": \"httpbin.org\", \n",
      "    \"User-Agent\": \"python-requests/2.25.1\", \n",
      "    \"X-Amzn-Trace-Id\": \"Root=1-612719b5-70a02b4b112424841326da46\"\n",
      "  }, \n",
      "  \"json\": null, \n",
      "  \"origin\": \"117.172.173.111\", \n",
      "  \"url\": \"http://httpbin.org/post\"\n",
      "}\n",
      "\n"
     ]
    }
   ],
   "metadata": {}
  },
  {
   "cell_type": "code",
   "execution_count": 43,
   "source": [
    "url = 'http://httpbin.org/post'\r\n",
    "payload = {'some': 'data'}\r\n",
    "req1 = requests.post(url, data=json.dumps(payload))\r\n",
    "req2 = requests.post(url, json=payload)\r\n",
    "print(req1.text)\r\n",
    "print(req2.text)\r\n"
   ],
   "outputs": [
    {
     "output_type": "error",
     "ename": "InvalidURL",
     "evalue": "Invalid URL 'http: // httpbin.org/post': No host supplied",
     "traceback": [
      "\u001b[1;31m---------------------------------------------------------------------------\u001b[0m",
      "\u001b[1;31mInvalidURL\u001b[0m                                Traceback (most recent call last)",
      "\u001b[1;32m<ipython-input-43-b25935ef3716>\u001b[0m in \u001b[0;36m<module>\u001b[1;34m\u001b[0m\n\u001b[0;32m      1\u001b[0m \u001b[0murl\u001b[0m \u001b[1;33m=\u001b[0m \u001b[1;34m'http: // httpbin.org/post'\u001b[0m\u001b[1;33m\u001b[0m\u001b[0m\n\u001b[0;32m      2\u001b[0m \u001b[0mpayload\u001b[0m \u001b[1;33m=\u001b[0m \u001b[1;33m{\u001b[0m\u001b[1;34m'some'\u001b[0m\u001b[1;33m:\u001b[0m \u001b[1;34m'data'\u001b[0m\u001b[1;33m}\u001b[0m\u001b[1;33m\u001b[0m\u001b[0m\n\u001b[1;32m----> 3\u001b[1;33m \u001b[0mreq1\u001b[0m \u001b[1;33m=\u001b[0m \u001b[0mrequests\u001b[0m\u001b[1;33m.\u001b[0m\u001b[0mpost\u001b[0m\u001b[1;33m(\u001b[0m\u001b[0murl\u001b[0m\u001b[1;33m,\u001b[0m \u001b[0mdata\u001b[0m\u001b[1;33m=\u001b[0m\u001b[0mjson\u001b[0m\u001b[1;33m.\u001b[0m\u001b[0mdumps\u001b[0m\u001b[1;33m(\u001b[0m\u001b[0mpayload\u001b[0m\u001b[1;33m)\u001b[0m\u001b[1;33m)\u001b[0m\u001b[1;33m\u001b[0m\u001b[0m\n\u001b[0m\u001b[0;32m      4\u001b[0m \u001b[0mreq2\u001b[0m \u001b[1;33m=\u001b[0m \u001b[0mrequests\u001b[0m\u001b[1;33m.\u001b[0m\u001b[0mpost\u001b[0m\u001b[1;33m(\u001b[0m\u001b[0murl\u001b[0m\u001b[1;33m,\u001b[0m \u001b[0mjson\u001b[0m\u001b[1;33m=\u001b[0m\u001b[0mpayload\u001b[0m\u001b[1;33m)\u001b[0m\u001b[1;33m\u001b[0m\u001b[0m\n\u001b[0;32m      5\u001b[0m \u001b[0mprint\u001b[0m\u001b[1;33m(\u001b[0m\u001b[0mreq1\u001b[0m\u001b[1;33m.\u001b[0m\u001b[0mtext\u001b[0m\u001b[1;33m)\u001b[0m\u001b[1;33m\u001b[0m\u001b[0m\n",
      "\u001b[1;32m~\\AppData\\Local\\Programs\\Python\\Python36\\lib\\site-packages\\requests\\api.py\u001b[0m in \u001b[0;36mpost\u001b[1;34m(url, data, json, **kwargs)\u001b[0m\n\u001b[0;32m    117\u001b[0m     \"\"\"\n\u001b[0;32m    118\u001b[0m \u001b[1;33m\u001b[0m\u001b[0m\n\u001b[1;32m--> 119\u001b[1;33m     \u001b[1;32mreturn\u001b[0m \u001b[0mrequest\u001b[0m\u001b[1;33m(\u001b[0m\u001b[1;34m'post'\u001b[0m\u001b[1;33m,\u001b[0m \u001b[0murl\u001b[0m\u001b[1;33m,\u001b[0m \u001b[0mdata\u001b[0m\u001b[1;33m=\u001b[0m\u001b[0mdata\u001b[0m\u001b[1;33m,\u001b[0m \u001b[0mjson\u001b[0m\u001b[1;33m=\u001b[0m\u001b[0mjson\u001b[0m\u001b[1;33m,\u001b[0m \u001b[1;33m**\u001b[0m\u001b[0mkwargs\u001b[0m\u001b[1;33m)\u001b[0m\u001b[1;33m\u001b[0m\u001b[0m\n\u001b[0m\u001b[0;32m    120\u001b[0m \u001b[1;33m\u001b[0m\u001b[0m\n\u001b[0;32m    121\u001b[0m \u001b[1;33m\u001b[0m\u001b[0m\n",
      "\u001b[1;32m~\\AppData\\Local\\Programs\\Python\\Python36\\lib\\site-packages\\requests\\api.py\u001b[0m in \u001b[0;36mrequest\u001b[1;34m(method, url, **kwargs)\u001b[0m\n\u001b[0;32m     59\u001b[0m     \u001b[1;31m# cases, and look like a memory leak in others.\u001b[0m\u001b[1;33m\u001b[0m\u001b[1;33m\u001b[0m\u001b[0m\n\u001b[0;32m     60\u001b[0m     \u001b[1;32mwith\u001b[0m \u001b[0msessions\u001b[0m\u001b[1;33m.\u001b[0m\u001b[0mSession\u001b[0m\u001b[1;33m(\u001b[0m\u001b[1;33m)\u001b[0m \u001b[1;32mas\u001b[0m \u001b[0msession\u001b[0m\u001b[1;33m:\u001b[0m\u001b[1;33m\u001b[0m\u001b[0m\n\u001b[1;32m---> 61\u001b[1;33m         \u001b[1;32mreturn\u001b[0m \u001b[0msession\u001b[0m\u001b[1;33m.\u001b[0m\u001b[0mrequest\u001b[0m\u001b[1;33m(\u001b[0m\u001b[0mmethod\u001b[0m\u001b[1;33m=\u001b[0m\u001b[0mmethod\u001b[0m\u001b[1;33m,\u001b[0m \u001b[0murl\u001b[0m\u001b[1;33m=\u001b[0m\u001b[0murl\u001b[0m\u001b[1;33m,\u001b[0m \u001b[1;33m**\u001b[0m\u001b[0mkwargs\u001b[0m\u001b[1;33m)\u001b[0m\u001b[1;33m\u001b[0m\u001b[0m\n\u001b[0m\u001b[0;32m     62\u001b[0m \u001b[1;33m\u001b[0m\u001b[0m\n\u001b[0;32m     63\u001b[0m \u001b[1;33m\u001b[0m\u001b[0m\n",
      "\u001b[1;32m~\\AppData\\Local\\Programs\\Python\\Python36\\lib\\site-packages\\requests\\sessions.py\u001b[0m in \u001b[0;36mrequest\u001b[1;34m(self, method, url, params, data, headers, cookies, files, auth, timeout, allow_redirects, proxies, hooks, stream, verify, cert, json)\u001b[0m\n\u001b[0;32m    526\u001b[0m             \u001b[0mhooks\u001b[0m\u001b[1;33m=\u001b[0m\u001b[0mhooks\u001b[0m\u001b[1;33m,\u001b[0m\u001b[1;33m\u001b[0m\u001b[0m\n\u001b[0;32m    527\u001b[0m         )\n\u001b[1;32m--> 528\u001b[1;33m         \u001b[0mprep\u001b[0m \u001b[1;33m=\u001b[0m \u001b[0mself\u001b[0m\u001b[1;33m.\u001b[0m\u001b[0mprepare_request\u001b[0m\u001b[1;33m(\u001b[0m\u001b[0mreq\u001b[0m\u001b[1;33m)\u001b[0m\u001b[1;33m\u001b[0m\u001b[0m\n\u001b[0m\u001b[0;32m    529\u001b[0m \u001b[1;33m\u001b[0m\u001b[0m\n\u001b[0;32m    530\u001b[0m         \u001b[0mproxies\u001b[0m \u001b[1;33m=\u001b[0m \u001b[0mproxies\u001b[0m \u001b[1;32mor\u001b[0m \u001b[1;33m{\u001b[0m\u001b[1;33m}\u001b[0m\u001b[1;33m\u001b[0m\u001b[0m\n",
      "\u001b[1;32m~\\AppData\\Local\\Programs\\Python\\Python36\\lib\\site-packages\\requests\\sessions.py\u001b[0m in \u001b[0;36mprepare_request\u001b[1;34m(self, request)\u001b[0m\n\u001b[0;32m    464\u001b[0m             \u001b[0mauth\u001b[0m\u001b[1;33m=\u001b[0m\u001b[0mmerge_setting\u001b[0m\u001b[1;33m(\u001b[0m\u001b[0mauth\u001b[0m\u001b[1;33m,\u001b[0m \u001b[0mself\u001b[0m\u001b[1;33m.\u001b[0m\u001b[0mauth\u001b[0m\u001b[1;33m)\u001b[0m\u001b[1;33m,\u001b[0m\u001b[1;33m\u001b[0m\u001b[0m\n\u001b[0;32m    465\u001b[0m             \u001b[0mcookies\u001b[0m\u001b[1;33m=\u001b[0m\u001b[0mmerged_cookies\u001b[0m\u001b[1;33m,\u001b[0m\u001b[1;33m\u001b[0m\u001b[0m\n\u001b[1;32m--> 466\u001b[1;33m             \u001b[0mhooks\u001b[0m\u001b[1;33m=\u001b[0m\u001b[0mmerge_hooks\u001b[0m\u001b[1;33m(\u001b[0m\u001b[0mrequest\u001b[0m\u001b[1;33m.\u001b[0m\u001b[0mhooks\u001b[0m\u001b[1;33m,\u001b[0m \u001b[0mself\u001b[0m\u001b[1;33m.\u001b[0m\u001b[0mhooks\u001b[0m\u001b[1;33m)\u001b[0m\u001b[1;33m,\u001b[0m\u001b[1;33m\u001b[0m\u001b[0m\n\u001b[0m\u001b[0;32m    467\u001b[0m         )\n\u001b[0;32m    468\u001b[0m         \u001b[1;32mreturn\u001b[0m \u001b[0mp\u001b[0m\u001b[1;33m\u001b[0m\u001b[0m\n",
      "\u001b[1;32m~\\AppData\\Local\\Programs\\Python\\Python36\\lib\\site-packages\\requests\\models.py\u001b[0m in \u001b[0;36mprepare\u001b[1;34m(self, method, url, headers, files, data, params, auth, cookies, hooks, json)\u001b[0m\n\u001b[0;32m    314\u001b[0m \u001b[1;33m\u001b[0m\u001b[0m\n\u001b[0;32m    315\u001b[0m         \u001b[0mself\u001b[0m\u001b[1;33m.\u001b[0m\u001b[0mprepare_method\u001b[0m\u001b[1;33m(\u001b[0m\u001b[0mmethod\u001b[0m\u001b[1;33m)\u001b[0m\u001b[1;33m\u001b[0m\u001b[0m\n\u001b[1;32m--> 316\u001b[1;33m         \u001b[0mself\u001b[0m\u001b[1;33m.\u001b[0m\u001b[0mprepare_url\u001b[0m\u001b[1;33m(\u001b[0m\u001b[0murl\u001b[0m\u001b[1;33m,\u001b[0m \u001b[0mparams\u001b[0m\u001b[1;33m)\u001b[0m\u001b[1;33m\u001b[0m\u001b[0m\n\u001b[0m\u001b[0;32m    317\u001b[0m         \u001b[0mself\u001b[0m\u001b[1;33m.\u001b[0m\u001b[0mprepare_headers\u001b[0m\u001b[1;33m(\u001b[0m\u001b[0mheaders\u001b[0m\u001b[1;33m)\u001b[0m\u001b[1;33m\u001b[0m\u001b[0m\n\u001b[0;32m    318\u001b[0m         \u001b[0mself\u001b[0m\u001b[1;33m.\u001b[0m\u001b[0mprepare_cookies\u001b[0m\u001b[1;33m(\u001b[0m\u001b[0mcookies\u001b[0m\u001b[1;33m)\u001b[0m\u001b[1;33m\u001b[0m\u001b[0m\n",
      "\u001b[1;32m~\\AppData\\Local\\Programs\\Python\\Python36\\lib\\site-packages\\requests\\models.py\u001b[0m in \u001b[0;36mprepare_url\u001b[1;34m(self, url, params)\u001b[0m\n\u001b[0;32m    391\u001b[0m \u001b[1;33m\u001b[0m\u001b[0m\n\u001b[0;32m    392\u001b[0m         \u001b[1;32mif\u001b[0m \u001b[1;32mnot\u001b[0m \u001b[0mhost\u001b[0m\u001b[1;33m:\u001b[0m\u001b[1;33m\u001b[0m\u001b[0m\n\u001b[1;32m--> 393\u001b[1;33m             \u001b[1;32mraise\u001b[0m \u001b[0mInvalidURL\u001b[0m\u001b[1;33m(\u001b[0m\u001b[1;34m\"Invalid URL %r: No host supplied\"\u001b[0m \u001b[1;33m%\u001b[0m \u001b[0murl\u001b[0m\u001b[1;33m)\u001b[0m\u001b[1;33m\u001b[0m\u001b[0m\n\u001b[0m\u001b[0;32m    394\u001b[0m \u001b[1;33m\u001b[0m\u001b[0m\n\u001b[0;32m    395\u001b[0m         \u001b[1;31m# In general, we want to try IDNA encoding the hostname if the string contains\u001b[0m\u001b[1;33m\u001b[0m\u001b[1;33m\u001b[0m\u001b[0m\n",
      "\u001b[1;31mInvalidURL\u001b[0m: Invalid URL 'http: // httpbin.org/post': No host supplied"
     ]
    }
   ],
   "metadata": {}
  },
  {
   "cell_type": "code",
   "execution_count": null,
   "source": [],
   "outputs": [],
   "metadata": {}
  }
 ],
 "metadata": {
  "orig_nbformat": 4,
  "language_info": {
   "name": "python",
   "version": "3.6.5",
   "mimetype": "text/x-python",
   "codemirror_mode": {
    "name": "ipython",
    "version": 3
   },
   "pygments_lexer": "ipython3",
   "nbconvert_exporter": "python",
   "file_extension": ".py"
  },
  "kernelspec": {
   "name": "python3",
   "display_name": "Python 3.6.5 64-bit"
  },
  "interpreter": {
   "hash": "f794c57ac12a691c59266ecaadb6a5e7aa7da75beb81664e7b61736c07e9b51b"
  }
 },
 "nbformat": 4,
 "nbformat_minor": 2
}