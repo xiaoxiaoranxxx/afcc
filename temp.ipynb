{
 "cells": [
  {
   "cell_type": "code",
   "execution_count": 1,
   "metadata": {},
   "outputs": [
    {
     "name": "stdout",
     "output_type": "stream",
     "text": [
      "b'4C4A4C54493433424B524C47575432494F515957453354454D5A4D564F554C594C415A4653364B59474E4247345744324E4258465556324748453D3D3D3D3D3D'\n"
     ]
    }
   ],
   "source": [
    "import base64\n",
    "import base58\n",
    "str = \"6MBphWqgEun4VXNkcKbdaVDNrpw3714BigGaiwKKC7z7KJ6MxkHYf4G4dFsKWU78VgmHgsEJdKwPCb3j495tg4FUAd5hkRxzmGEiggRWye9k8ddd3P5CXdEgRgqgjxgw48pPPBdM7oB14z4WPEmFqFcPvKXwbE5bzFVDCESnyaB3Z47\"\n",
    "str=base58.b58decode(str.encode(\"utf-8\"))\n",
    "print(str)"
   ]
  },
  {
   "cell_type": "code",
   "execution_count": 2,
   "metadata": {},
   "outputs": [
    {
     "name": "stdout",
     "output_type": "stream",
     "text": [
      "b'LJLTI43BKRLGWT2IOQYWE3TEMZMVOULYLAZFS6KYGNBG4WD2NBXFUV2GHE======'\n"
     ]
    }
   ],
   "source": [
    "str=base64.b16decode(str)\n",
    "print(str)"
   ]
  },
  {
   "cell_type": "code",
   "execution_count": 3,
   "metadata": {},
   "outputs": [
    {
     "name": "stdout",
     "output_type": "stream",
     "text": [
      "b'ZW4saTVkOHt1bndfYWQxX2YyX3BnXzhnZWF9'\n"
     ]
    }
   ],
   "source": [
    "str=base64.b32decode(str)\n",
    "print(str)"
   ]
  },
  {
   "cell_type": "code",
   "execution_count": 4,
   "metadata": {},
   "outputs": [
    {
     "name": "stdout",
     "output_type": "stream",
     "text": [
      "b'en,i5d8{unw_ad1_f2_pg_8gea}'\n"
     ]
    }
   ],
   "source": [
    "str = base64.b64decode(str)\n",
    "print(str)"
   ]
  },
  {
   "cell_type": "code",
   "execution_count": null,
   "metadata": {},
   "outputs": [],
   "source": []
  }
 ],
 "metadata": {
  "interpreter": {
   "hash": "011df132264cb47676c8d4afd1c0458709012355175816406934bfb611210107"
  },
  "kernelspec": {
   "display_name": "Python 3.8.10 64-bit (windows store)",
   "language": "python",
   "name": "python3"
  },
  "language_info": {
   "codemirror_mode": {
    "name": "ipython",
    "version": 3
   },
   "file_extension": ".py",
   "mimetype": "text/x-python",
   "name": "python",
   "nbconvert_exporter": "python",
   "pygments_lexer": "ipython3",
   "version": "3.8.10"
  },
  "orig_nbformat": 4
 },
 "nbformat": 4,
 "nbformat_minor": 2
}
