{
 "cells": [
  {
   "cell_type": "code",
   "execution_count": 3,
   "metadata": {},
   "outputs": [
    {
     "name": "stdout",
     "output_type": "stream",
     "text": [
      "['肖萧然', '肖萧然最秀', '最秀肖萧然']\n"
     ]
    }
   ],
   "source": [
    "data = '肖萧然 肖萧然最秀 最秀肖萧然'\n",
    "data = data.split()  # 字符串转为列表，因为字符串是不可变类型\n",
    "print(data)\n"
   ]
  }
 ],
 "metadata": {
  "interpreter": {
   "hash": "f794c57ac12a691c59266ecaadb6a5e7aa7da75beb81664e7b61736c07e9b51b"
  },
  "kernelspec": {
   "display_name": "Python 3.6.5 64-bit",
   "name": "python3"
  },
  "language_info": {
   "codemirror_mode": {
    "name": "ipython",
    "version": 3
   },
   "file_extension": ".py",
   "mimetype": "text/x-python",
   "name": "python",
   "nbconvert_exporter": "python",
   "pygments_lexer": "ipython3",
   "version": "3.8.10"
  },
  "orig_nbformat": 4
 },
 "nbformat": 4,
 "nbformat_minor": 2
}
