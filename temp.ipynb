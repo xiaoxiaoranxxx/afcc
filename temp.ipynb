{
 "cells": [
  {
   "cell_type": "code",
   "execution_count": 17,
   "metadata": {},
   "outputs": [
    {
     "name": "stdout",
     "output_type": "stream",
     "text": [
      "<html>\n",
      "<head>\n",
      "<title></title>\n",
      "</head>\n",
      "<body>\n",
      "<p>\n",
      "请在三秒之内计算出以下式子，计算正确就的到flag哦！<br/>\n",
      "700*754064+726*(4354+5655)</p>\n",
      "<form action=\"\" method=\"post\">\n",
      "计算结果:<input type=\"text\" name=\"result\"/>\n",
      "<input type=\"submit\" value=\"提交\"/>\n",
      "</form>\n",
      "</body>\n",
      "</html>\n"
     ]
    }
   ],
   "source": []
  },
  {
   "cell_type": "code",
   "execution_count": 18,
   "metadata": {},
   "outputs": [
    {
     "name": "stdout",
     "output_type": "stream",
     "text": [
      "278416097\n"
     ]
    }
   ],
   "source": [
    "print(eval(\"557*493031+314*(3639+8456)\"))\n"
   ]
  },
  {
   "cell_type": "code",
   "execution_count": 70,
   "metadata": {},
   "outputs": [
    {
     "name": "stdout",
     "output_type": "stream",
     "text": [
      "<p>Flag:PTB{c6ab24ff-d052-4aa2-ab00-6f89ee958c6c}</p>\n"
     ]
    }
   ],
   "source": [
    "import requests\n",
    "from lxml import etree\n",
    "url = \"https://1360-b7e729ae-1747-44c2-bb53-e5f037516e48.do-not-trust.hacking.run/\"\n",
    "\n",
    "s=requests.Session()\n",
    "r = s.get(url)\n",
    "data = r.content.decode()\n",
    "html = etree.HTML(data)\n",
    "\n",
    "str=html.xpath(\"//p/text()\")[1]\n",
    "\n",
    "payload = {'result': eval(str), 'submit': '提交'}\n",
    "r = s.post(url, data=payload)\n",
    "print(r.text)\n"
   ]
  },
  {
   "cell_type": "code",
   "execution_count": 38,
   "metadata": {},
   "outputs": [
    {
     "name": "stdout",
     "output_type": "stream",
     "text": [
      "{\n",
      "  \"args\": {}, \n",
      "  \"data\": \"\", \n",
      "  \"files\": {}, \n",
      "  \"form\": {\n",
      "    \"key1\": \"value1\", \n",
      "    \"key2\": \"value2\"\n",
      "  }, \n",
      "  \"headers\": {\n",
      "    \"Accept\": \"*/*\", \n",
      "    \"Accept-Encoding\": \"gzip, deflate\", \n",
      "    \"Content-Length\": \"23\", \n",
      "    \"Content-Type\": \"application/x-www-form-urlencoded\", \n",
      "    \"Host\": \"httpbin.org\", \n",
      "    \"User-Agent\": \"python-requests/2.26.0\", \n",
      "    \"X-Amzn-Trace-Id\": \"Root=1-623eef88-1c39fbea2871a308443ee394\"\n",
      "  }, \n",
      "  \"json\": null, \n",
      "  \"origin\": \"117.172.173.93\", \n",
      "  \"url\": \"http://httpbin.org/post\"\n",
      "}\n",
      "\n"
     ]
    }
   ],
   "source": []
  },
  {
   "cell_type": "code",
   "execution_count": null,
   "metadata": {},
   "outputs": [],
   "source": []
  }
 ],
 "metadata": {
  "interpreter": {
   "hash": "011df132264cb47676c8d4afd1c0458709012355175816406934bfb611210107"
  },
  "kernelspec": {
   "display_name": "Python 3.8.10 64-bit (windows store)",
   "language": "python",
   "name": "python3"
  },
  "language_info": {
   "codemirror_mode": {
    "name": "ipython",
    "version": 3
   },
   "file_extension": ".py",
   "mimetype": "text/x-python",
   "name": "python",
   "nbconvert_exporter": "python",
   "pygments_lexer": "ipython3",
   "version": "3.8.10"
  },
  "orig_nbformat": 4
 },
 "nbformat": 4,
 "nbformat_minor": 2
}
