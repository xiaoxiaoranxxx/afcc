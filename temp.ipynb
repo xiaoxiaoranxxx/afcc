{
 "cells": [
  {
   "cell_type": "code",
   "execution_count": 99,
   "metadata": {},
   "outputs": [],
   "source": [
    "str = '''1: < ZWAXJGDLUBVIQHKYPNTCRMOSFE <\n",
    "2: < KPBELNACZDTRXMJQOYHGVSFUWI <\n",
    "3: < BDMAIZVRNSJUWFHTEQGYXPLOCK <\n",
    "4: < RPLNDVHGFCUKTEBSXQYIZMJWAO <\n",
    "5: < IHFRLABEUOTSGJVDKCPMNZQWXY <\n",
    "6: < AMKGHIWPNYCJBFZDRUSLOQXVET <\n",
    "7: < GWTHSPYBXIZULVKMRAFDCEONJQ <\n",
    "8: < NOZUTWDCVRJLXKISEFAPMYGHBQ <\n",
    "9: < XPLTDSRFHENYVUBMCQWAOIKZGJ <\n",
    "10: < UDNAJFBOWTGVRSCZQKELMXYIHP <\n",
    "11： < MNBVCXZQWERTPOIUYALSKDJFHG <\n",
    "12： < LVNCMXZPQOWEIURYTASBKJDFHG <\n",
    "13： < JZQAWSXCDERFVBGTYHNUMKILOP <'''\n",
    "# 密钥为：2, 3, 7, 5, 13, 12, 9, 1, 8, 10, 4, 11, 6\n",
    "# 密文为：NFQKSEVOQOFNP'''"
   ]
  },
  {
   "cell_type": "code",
   "execution_count": 100,
   "metadata": {},
   "outputs": [
    {
     "name": "stdout",
     "output_type": "stream",
     "text": [
      "['2', '3', '7', '5', '13', '12', '9', '1', '8', '10', '4', '11', '6'] ['1: < ZWAXJGDLUBVIQHKYPNTCRMOSFE <', '2: < KPBELNACZDTRXMJQOYHGVSFUWI <', '3: < BDMAIZVRNSJUWFHTEQGYXPLOCK <', '4: < RPLNDVHGFCUKTEBSXQYIZMJWAO <', '5: < IHFRLABEUOTSGJVDKCPMNZQWXY <', '6: < AMKGHIWPNYCJBFZDRUSLOQXVET <', '7: < GWTHSPYBXIZULVKMRAFDCEONJQ <', '8: < NOZUTWDCVRJLXKISEFAPMYGHBQ <', '9: < XPLTDSRFHENYVUBMCQWAOIKZGJ <', '10: < UDNAJFBOWTGVRSCZQKELMXYIHP <', '11： < MNBVCXZQWERTPOIUYALSKDJFHG <', '12： < LVNCMXZPQOWEIURYTASBKJDFHG <', '13： < JZQAWSXCDERFVBGTYHNUMKILOP <']\n"
     ]
    }
   ],
   "source": [
    "l = \"2,3,7,5,13,12,9,1,8,10,4,11,6\".split(\",\")\n",
    "ll = str.split(\"\\n\")\n",
    "print(l,ll)"
   ]
  },
  {
   "cell_type": "code",
   "execution_count": 101,
   "metadata": {},
   "outputs": [
    {
     "name": "stdout",
     "output_type": "stream",
     "text": [
      "['KPBELNACZDTRXMJQOYHGVSFUWI', 'BDMAIZVRNSJUWFHTEQGYXPLOCK', 'GWTHSPYBXIZULVKMRAFDCEONJQ', 'IHFRLABEUOTSGJVDKCPMNZQWXY', 'JZQAWSXCDERFVBGTYHNUMKILOP', 'LVNCMXZPQOWEIURYTASBKJDFHG', 'XPLTDSRFHENYVUBMCQWAOIKZGJ', 'ZWAXJGDLUBVIQHKYPNTCRMOSFE', 'NOZUTWDCVRJLXKISEFAPMYGHBQ', 'UDNAJFBOWTGVRSCZQKELMXYIHP', 'RPLNDVHGFCUKTEBSXQYIZMJWAO', 'MNBVCXZQWERTPOIUYALSKDJFHG', 'AMKGHIWPNYCJBFZDRUSLOQXVET']\n"
     ]
    }
   ],
   "source": [
    "lll=[]\n",
    "for i in l:\n",
    "    lll.append(ll[int(i)-1][5:-2].replace(\" \",\"\"))\n",
    "print(lll)"
   ]
  },
  {
   "cell_type": "code",
   "execution_count": 102,
   "metadata": {},
   "outputs": [
    {
     "name": "stdout",
     "output_type": "stream",
     "text": [
      "fireinthehole"
     ]
    }
   ],
   "source": [
    "str = \"NFQKSEVOQOFNP\"\n",
    "index=0\n",
    "for i in lll:\n",
    "    temp=i.find(str[index])\n",
    "    index+=1\n",
    "    print((i[temp:]+i[:temp])[17].lower(),end=\"\")\n"
   ]
  }
 ],
 "metadata": {
  "interpreter": {
   "hash": "011df132264cb47676c8d4afd1c0458709012355175816406934bfb611210107"
  },
  "kernelspec": {
   "display_name": "Python 3.8.10 64-bit (windows store)",
   "language": "python",
   "name": "python3"
  },
  "language_info": {
   "codemirror_mode": {
    "name": "ipython",
    "version": 3
   },
   "file_extension": ".py",
   "mimetype": "text/x-python",
   "name": "python",
   "nbconvert_exporter": "python",
   "pygments_lexer": "ipython3",
   "version": "3.8.10"
  },
  "orig_nbformat": 4
 },
 "nbformat": 4,
 "nbformat_minor": 2
}
