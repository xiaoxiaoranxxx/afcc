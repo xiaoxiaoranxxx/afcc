{
 "cells": [
  {
   "cell_type": "code",
   "execution_count": 7,
   "metadata": {},
   "outputs": [
    {
     "name": "stdout",
     "output_type": "stream",
     "text": [
      "b']\\x03F\\xb8\\x07=\\x0cJ\\x11L\\x01\\x05\\x03(\\x05\\x0c\\x0e\\x81\\x0f\\x0c\\xff\\x0c\\x94\\x98n:^8\\x10Y\\t\\xb87\\xed\\xd9\\x8b5\\x88\\r\\x04\\r\\t\\x0c\\t?\\x89\\x08\\x02\\x03\\x01\\x06\\x07\\x06\\x8d\\x0c\\n\\x0e\\x02\\x04\\nlbm\\xcbn\\x11l\\x7f%\\xefsN|\\x81\\x7fCL\\xbe\\xc2\\xbfD\\x91A\\xca\\xab\\xfa\\x0b\\xe2\\xc9\\x98F\\x8b\\x8b\\xdf\\xcf\\xf4\\xc3\\xa6/\\xfb(\\xdd\\xc7\\xa6L\\xba\\xa7\\xdc\\x8a\\xcc\\xc2\\xfe@\\xfa\\x8d\\xbd\\xc0\\xfc\\xc0\\x9e\\xca\\xfd\\xce\\xf3\\xce\\xee\\xc9\\xc8L\\xbf\\x8d\\xfdJ\\xf3\\xcd\\xbf)\\xfc\\x84\\xaa/\\xf5\\r\\x1fG\\xad\\xabQ\\x01\\x1a\\xd0Q\\xc3Ohq\\x1ee\\xcev\\x14~\\xabZ\"n\\xe4f\\xeaHUO\\xcdb\\xafr\\x94Z\\xec`*\\x9d\\xdfb\\x08-\\x08\\x08R\\x05I\\xb9\\x07\\x17\\x0e$\\x1aG\\t\\x04\\x1cM\\x0e\\r\\t#\\x03\\x0e\\n\\x84\\x06\\x06\\xf0\\x06\\x90\\x9ee8P>\\x1eX\\x0c\\xb53\\xeb\\xdc\\x8a3\\x80\\x00\\r\\x03\\x04\\x0e\\r>\\x80\\x01\\x0b\\x03\\x01\\x08\\x0b\\x0b\\x86\\r\\x02#H\\n\\x0c\\x02\\x0e\\x07\\x00\\x00\\x03\\r\\x0c\\x00\\r\\x04\\x0b.\\x06\\r\\x0e\\r\\t\\x03\\x00\\x0e\\x0c\\x04\\x05\\x03\\n\\x08\\nnbn\\xc2k\\x16ip(\\xec\\x7fNy\\x8erH\\x0b\\xa9\\t\\x0c!\\x08\\x03\\x08\\n\\x08\\r\\x02\\x0b\\x04\\x03\\n\\n\\x1e\\x0e\\x0f\\x1b\\x85\\x0f\\x07>+nv\\xbe\\xee\\x1f\\xc1\\xaaH\\xd7\\x00\\xd7r\\x0c\\x1f\\xa7\\x1diQZ\\x01\\x1a\\xd9\\xafL\\xdd\\x0c\\xdb~\\x05\\x11\\x18\\xf6\\xd40x\\xd9l\\x85\\xad8\\xd8\\t\\xd0~\\x07\\x1a\\\\\\tG\\xb2\\x02R\\x04n\\x04\\x0e\\x07\\t\\x0b\\x00\\x0b\\r\\x07\\x11\\r\\x01\\x03\\x1e\\x0c\\x06Y\\xa9\\n\\r\\x0c\\x00\\x0c\\r\\\\\\xec\\t\\x0b\\x04\\x04\\x07\\n\\x03\\x03\\x0f\\x0e'\n"
     ]
    }
   ],
   "source": [
    "import base64\n",
    "str = base64.b64decode(open('1.txt', 'rb').read())\n",
    "print(str)"
   ]
  },
  {
   "cell_type": "code",
   "execution_count": 11,
   "metadata": {},
   "outputs": [
    {
     "name": "stdout",
     "output_type": "stream",
     "text": [
      "b'PK\\x03\\x04\\x14\\x00\\x02\\x00\\x08\\x00\\xf0\\x99cS\\x15\\x0b>\\xd88\\x00\\x00\\x008\\x00\\x00\\x00\\x08\\x00\\x00\\x00flag.txtK\\xcbIL\\xaf\\x0e\\xc9H\\x8d\\xcf\\xca/-\\xcaK\\xad\\x8c\\xcfO\\x8b\\xcf\\xc9\\xcf\\xcf\\xce\\xccK\\x8fO\\xcb/\\x8a/\\x01J\\xa5\\x01\\xd5\\xc4g\\x16\\xc7\\x17\\xa5&\\xe6\\xe4T\\xc6\\xa7\\x95\\xe6)\\xd6\\x02\\x00PK\\x01\\x02\\x14\\x00\\x14\\x00\\x02\\x00\\x08\\x00\\xf0\\x99cS\\x15\\x0b>\\xd88\\x00\\x00\\x008\\x00\\x00\\x00\\x08\\x00$\\x00\\x00\\x00\\x00\\x00\\x00\\x00 \\x00\\x00\\x00\\x00\\x00\\x00\\x00flag.txt\\n\\x00 \\x00\\x00\\x00\\x00\\x00\\x01\\x00\\x18\\x002g\\xbe\\x1c\\xa4\\xd0\\xd7\\x01\\xa1eP\\x1d\\xa4\\xd0\\xd7\\x01\\x1f\\xd3}h\\xa3\\xd0\\xd7\\x01PK\\x05\\x06\\x00\\x00\\x00\\x00\\x01\\x00\\x01\\x00Z\\x00\\x00\\x00^\\x00\\x00\\x00\\x00\\x00'\n"
     ]
    }
   ],
   "source": [
    "s = bytes.fromhex(''.join([hex(i >> 4)[2:]for i in str]))\n",
    "print(s)"
   ]
  },
  {
   "cell_type": "code",
   "execution_count": 13,
   "metadata": {},
   "outputs": [
    {
     "data": {
      "text/plain": [
       "206"
      ]
     },
     "execution_count": 13,
     "metadata": {},
     "output_type": "execute_result"
    }
   ],
   "source": [
    "f = open('1.zip', \"wb\")\n",
    "f.write(s)\n",
    "f.close\n"
   ]
  },
  {
   "cell_type": "code",
   "execution_count": 16,
   "metadata": {},
   "outputs": [
    {
     "name": "stdout",
     "output_type": "stream",
     "text": [
      "flag{The_journey_of_looking_for_the_flag_is_really_fun!}\n"
     ]
    }
   ],
   "source": [
    "import zipfile\n",
    "# x = zipfile.ZipFile(\"1.zip\", mode=\"r\")\n",
    "# x.extractall()\n",
    "# x.close\n",
    "print((lambda x: x.read(x.namelist()[0]).decode())(zipfile.ZipFile(\"1.zip\", mode=\"r\")))\n"
   ]
  },
  {
   "cell_type": "code",
   "execution_count": null,
   "metadata": {},
   "outputs": [],
   "source": []
  }
 ],
 "metadata": {
  "interpreter": {
   "hash": "011df132264cb47676c8d4afd1c0458709012355175816406934bfb611210107"
  },
  "kernelspec": {
   "display_name": "Python 3.8.10 64-bit (windows store)",
   "language": "python",
   "name": "python3"
  },
  "language_info": {
   "codemirror_mode": {
    "name": "ipython",
    "version": 3
   },
   "file_extension": ".py",
   "mimetype": "text/x-python",
   "name": "python",
   "nbconvert_exporter": "python",
   "pygments_lexer": "ipython3",
   "version": "3.8.10"
  },
  "orig_nbformat": 4
 },
 "nbformat": 4,
 "nbformat_minor": 2
}
