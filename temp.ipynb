{
 "cells": [
  {
   "cell_type": "code",
   "execution_count": 2,
   "metadata": {},
   "outputs": [
    {
     "name": "stdout",
     "output_type": "stream",
     "text": [
      "flag is : 10866948760844599168252082612378495977388271279679231539839049698621994994673\n"
     ]
    }
   ],
   "source": [
    "import gmpy2\n",
    "p = 275127860351348928173285174381581152299\n",
    "q = 319576316814478949870590164193048041239 \n",
    "e = 65537\n",
    "s = (p-1)*(q-1)\n",
    "d = gmpy2.invert(e, s)\n",
    "print(\"flag is :\", d)\n"
   ]
  }
 ],
 "metadata": {
  "interpreter": {
   "hash": "011df132264cb47676c8d4afd1c0458709012355175816406934bfb611210107"
  },
  "kernelspec": {
   "display_name": "Python 3.8.10 64-bit (windows store)",
   "language": "python",
   "name": "python3"
  },
  "language_info": {
   "codemirror_mode": {
    "name": "ipython",
    "version": 3
   },
   "file_extension": ".py",
   "mimetype": "text/x-python",
   "name": "python",
   "nbconvert_exporter": "python",
   "pygments_lexer": "ipython3",
   "version": "3.8.10"
  },
  "orig_nbformat": 4
 },
 "nbformat": 4,
 "nbformat_minor": 2
}
