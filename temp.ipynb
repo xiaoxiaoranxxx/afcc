{
 "cells": [
  {
   "cell_type": "code",
   "execution_count": 14,
   "metadata": {},
   "outputs": [
    {
     "name": "stdout",
     "output_type": "stream",
     "text": [
      "b'sdnisc_2018'\n"
     ]
    }
   ],
   "source": [
    "import base64\n",
    "str=\"73646E6973635F32303138\"\n",
    "print(base64.b16decode(str))"
   ]
  },
  {
   "cell_type": "code",
   "execution_count": 15,
   "metadata": {},
   "outputs": [
    {
     "name": "stdout",
     "output_type": "stream",
     "text": [
      "[115, 100, 110, 105, 115, 99, 95, 50, 48, 49, 56]\n"
     ]
    }
   ],
   "source": [
    "l=[int(str[i]+str[i+1],16) for i in range(0,len(str),2)]\n",
    "print(l)"
   ]
  },
  {
   "cell_type": "code",
   "execution_count": 16,
   "metadata": {},
   "outputs": [
    {
     "name": "stdout",
     "output_type": "stream",
     "text": [
      "sdnisc_2018\n"
     ]
    }
   ],
   "source": [
    "print(*[chr(i) for i in l],sep=\"\")"
   ]
  }
 ],
 "metadata": {
  "interpreter": {
   "hash": "011df132264cb47676c8d4afd1c0458709012355175816406934bfb611210107"
  },
  "kernelspec": {
   "display_name": "Python 3.8.10 64-bit (windows store)",
   "language": "python",
   "name": "python3"
  },
  "language_info": {
   "codemirror_mode": {
    "name": "ipython",
    "version": 3
   },
   "file_extension": ".py",
   "mimetype": "text/x-python",
   "name": "python",
   "nbconvert_exporter": "python",
   "pygments_lexer": "ipython3",
   "version": "3.8.10"
  },
  "orig_nbformat": 4
 },
 "nbformat": 4,
 "nbformat_minor": 2
}
