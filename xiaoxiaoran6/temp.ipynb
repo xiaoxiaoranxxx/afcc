{
 "cells": [
  {
   "cell_type": "code",
   "execution_count": null,
   "metadata": {},
   "outputs": [],
   "source": []
  },
  {
   "cell_type": "code",
   "execution_count": null,
   "metadata": {},
   "outputs": [],
   "source": []
  },
  {
   "cell_type": "code",
   "execution_count": null,
   "metadata": {},
   "outputs": [],
   "source": []
  },
  {
   "cell_type": "code",
   "execution_count": null,
   "metadata": {},
   "outputs": [],
   "source": []
  },
  {
   "cell_type": "code",
   "execution_count": null,
   "metadata": {},
   "outputs": [],
   "source": []
  },
  {
   "cell_type": "code",
   "execution_count": null,
   "metadata": {},
   "outputs": [],
   "source": []
  },
  {
   "cell_type": "code",
   "execution_count": null,
   "metadata": {},
   "outputs": [],
   "source": []
  },
  {
   "cell_type": "code",
   "execution_count": 1,
   "metadata": {},
   "outputs": [
    {
     "name": "stdout",
     "output_type": "stream",
     "text": [
      "tpz2vs4d4u/C/9/tuUxy5Un8vsd/D2ZYn6Sltl/Yg72"
     ]
    }
   ],
   "source": [
    "dict2 = {'乾': 'A', '坤': 'B', '屯': 'C', '蒙': 'D', '需': 'E', '讼': 'F', '师': 'G', '比': 'H', '小畜': 'I', '履': 'J', '泰': 'K', '否': 'L', '同人': 'M', '大有': 'N', '谦': 'O', '豫': 'P', '随': 'Q', '蛊': 'R', '临': 'S', '观': 'T', '噬嗑': 'U', '贲': 'V', '剥': 'W', '复': 'X', '无妄': 'Y', '大畜': 'Z', '颐': 'a', '大过': 'b', '坎': 'c', '离': 'd', '咸': 'e', '恒': 'f',\n",
    "         '遁': 'g', '大壮': 'h', '晋': 'i', '明夷': 'j', '家人': 'k', '睽': 'l', '蹇': 'm', '解': 'n', '损': 'o', '益': 'p', '夬': 'q', '姤': 'r', '萃': 's', '升': 't', '困': 'u', '井': 'v', '革': 'w', '鼎': 'x', '震': 'y', '艮': 'z', '渐': '1', '归妹': '2', '丰': '3', '旅': '4', '巽': '5', '兑': '6', '涣': '7', '节': '8', '中孚': '9', '小过': '0', '既济': '+', '未济': '/'}\n",
    "\n",
    "\n",
    "l = []\n",
    "flag = '升 益 艮 归妹 井 萃 旅 离 旅 困 未济 屯 未济 中孚 未济 升 困 噬嗑 鼎 震 巽 噬嗑 解 节 井 萃 离 未济 蒙 归妹 大畜 无妄 解 兑 临 睽 升 睽 未济 无妄 遁 涣 归妹'\n",
    "\n",
    "l = flag.split(' ')\n",
    "\n",
    "for i in l:\n",
    "    print(dict2[i], end='')\n",
    "\n"
   ]
  },
  {
   "cell_type": "code",
   "execution_count": null,
   "metadata": {},
   "outputs": [],
   "source": []
  },
  {
   "cell_type": "code",
   "execution_count": null,
   "metadata": {},
   "outputs": [],
   "source": [
    "# -- coding:UTF-8 --\n",
    "# from secret import flag\n",
    "\n",
    "flag = 'tpz2vs4d4u/C/9/tuUxy5Un8vsd/D2ZYn6Sltl/Yg72'\n",
    "a, b = 5, 7\n",
    "\n",
    "\n",
    "def encrpyt5():\n",
    "    enc = ''\n",
    "    for i in flag:\n",
    "        enc += chr((a*(ord(i)-97)+b) % 26+97)\n",
    "    return(enc)\n",
    "\n",
    "\n",
    "enc = 'yecgitqwqdrnrprydzsxvzukitwrsgytuapkykrtlfg'\n",
    "\n",
    "\n",
    "def encrypt4():\n",
    "    temp = ''\n",
    "    offset = 5\n",
    "    for i in range(len(enc)):\n",
    "        temp += chr(ord(enc[i])-offset-i)\n",
    "    return(temp)\n",
    "\n",
    "\n",
    "print(encrypt4())\n"
   ]
  },
  {
   "cell_type": "code",
   "execution_count": 3,
   "metadata": {},
   "outputs": [
    {
     "ename": "ValueError",
     "evalue": "invalid literal for int() with base 10: 'a'",
     "output_type": "error",
     "traceback": [
      "\u001b[1;31m---------------------------------------------------------------------------\u001b[0m",
      "\u001b[1;31mValueError\u001b[0m                                Traceback (most recent call last)",
      "\u001b[1;32mC:\\Users\\XIAO'X~1\\AppData\\Local\\Temp/ipykernel_16560/3219923713.py\u001b[0m in \u001b[0;36m<module>\u001b[1;34m\u001b[0m\n\u001b[1;32m----> 1\u001b[1;33m \u001b[0mprint\u001b[0m\u001b[1;33m(\u001b[0m\u001b[0mint\u001b[0m\u001b[1;33m(\u001b[0m\u001b[1;34m'a'\u001b[0m\u001b[1;33m)\u001b[0m\u001b[1;33m)\u001b[0m\u001b[1;33m\u001b[0m\u001b[1;33m\u001b[0m\u001b[0m\n\u001b[0m",
      "\u001b[1;31mValueError\u001b[0m: invalid literal for int() with base 10: 'a'"
     ]
    }
   ],
   "source": [
    "print(int('a'))"
   ]
  }
 ],
 "metadata": {
  "interpreter": {
   "hash": "f794c57ac12a691c59266ecaadb6a5e7aa7da75beb81664e7b61736c07e9b51b"
  },
  "kernelspec": {
   "display_name": "Python 3.6.5 64-bit",
   "name": "python3"
  },
  "language_info": {
   "codemirror_mode": {
    "name": "ipython",
    "version": 3
   },
   "file_extension": ".py",
   "mimetype": "text/x-python",
   "name": "python",
   "nbconvert_exporter": "python",
   "pygments_lexer": "ipython3",
   "version": "3.8.10"
  },
  "orig_nbformat": 4
 },
 "nbformat": 4,
 "nbformat_minor": 2
}
